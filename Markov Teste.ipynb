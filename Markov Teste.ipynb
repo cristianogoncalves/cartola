{
 "cells": [
  {
   "cell_type": "code",
   "execution_count": 1,
   "metadata": {
    "collapsed": true
   },
   "outputs": [],
   "source": [
    "import pandas as pd\n",
    "import numpy as np\n",
    "import itertools"
   ]
  },
  {
   "cell_type": "code",
   "execution_count": 2,
   "metadata": {
    "collapsed": true
   },
   "outputs": [],
   "source": [
    "df = pd.read_clipboard()"
   ]
  },
  {
   "cell_type": "code",
   "execution_count": 5,
   "metadata": {
    "collapsed": false
   },
   "outputs": [],
   "source": [
    "time = \"Flamengo\"\n",
    "df2 = df[(df.Mandante == time) | (df.Visitante == time)]"
   ]
  },
  {
   "cell_type": "code",
   "execution_count": 6,
   "metadata": {
    "collapsed": false
   },
   "outputs": [
    {
     "data": {
      "text/html": [
       "<div>\n",
       "<table border=\"1\" class=\"dataframe\">\n",
       "  <thead>\n",
       "    <tr style=\"text-align: right;\">\n",
       "      <th></th>\n",
       "      <th>Data</th>\n",
       "      <th>Mandante</th>\n",
       "      <th>Placar Mandante</th>\n",
       "      <th>Placar Visitante</th>\n",
       "      <th>Visitante</th>\n",
       "      <th>Resultado</th>\n",
       "    </tr>\n",
       "  </thead>\n",
       "  <tbody>\n",
       "    <tr>\n",
       "      <th>0</th>\n",
       "      <td>14/05/2016</td>\n",
       "      <td>Flamengo</td>\n",
       "      <td>1</td>\n",
       "      <td>0</td>\n",
       "      <td>Sport</td>\n",
       "      <td>Mandante</td>\n",
       "    </tr>\n",
       "    <tr>\n",
       "      <th>16</th>\n",
       "      <td>22/05/2016</td>\n",
       "      <td>Grêmio</td>\n",
       "      <td>1</td>\n",
       "      <td>0</td>\n",
       "      <td>Flamengo</td>\n",
       "      <td>Mandante</td>\n",
       "    </tr>\n",
       "    <tr>\n",
       "      <th>22</th>\n",
       "      <td>25/05/2016</td>\n",
       "      <td>Flamengo</td>\n",
       "      <td>2</td>\n",
       "      <td>2</td>\n",
       "      <td>Chapecoense</td>\n",
       "      <td>Empate</td>\n",
       "    </tr>\n",
       "    <tr>\n",
       "      <th>38</th>\n",
       "      <td>29/05/2016</td>\n",
       "      <td>Ponte Preta</td>\n",
       "      <td>1</td>\n",
       "      <td>2</td>\n",
       "      <td>Flamengo</td>\n",
       "      <td>Visitante</td>\n",
       "    </tr>\n",
       "    <tr>\n",
       "      <th>47</th>\n",
       "      <td>02/06/2016</td>\n",
       "      <td>Flamengo</td>\n",
       "      <td>1</td>\n",
       "      <td>0</td>\n",
       "      <td>Vitória</td>\n",
       "      <td>Mandante</td>\n",
       "    </tr>\n",
       "  </tbody>\n",
       "</table>\n",
       "</div>"
      ],
      "text/plain": [
       "          Data     Mandante  Placar Mandante  Placar Visitante    Visitante  \\\n",
       "0   14/05/2016     Flamengo                1                 0        Sport   \n",
       "16  22/05/2016       Grêmio                1                 0     Flamengo   \n",
       "22  25/05/2016     Flamengo                2                 2  Chapecoense   \n",
       "38  29/05/2016  Ponte Preta                1                 2     Flamengo   \n",
       "47  02/06/2016     Flamengo                1                 0      Vitória   \n",
       "\n",
       "    Resultado  \n",
       "0    Mandante  \n",
       "16   Mandante  \n",
       "22     Empate  \n",
       "38  Visitante  \n",
       "47   Mandante  "
      ]
     },
     "execution_count": 6,
     "metadata": {},
     "output_type": "execute_result"
    }
   ],
   "source": [
    "df2.head()"
   ]
  },
  {
   "cell_type": "code",
   "execution_count": 18,
   "metadata": {
    "collapsed": true
   },
   "outputs": [],
   "source": [
    "def funcao_resultado(mand, resultado,time):\n",
    "    if (mand == time) and (resultado == \"Mandante\"):\n",
    "        return 'V'\n",
    "    elif (mand != time) and (resultado == \"Visitante\"):\n",
    "        return 'V'\n",
    "    elif resultado == 'Empate':\n",
    "        return 'E'\n",
    "    else:\n",
    "        return 'D'\n",
    "        "
   ]
  },
  {
   "cell_type": "code",
   "execution_count": 13,
   "metadata": {
    "collapsed": false
   },
   "outputs": [
    {
     "name": "stderr",
     "output_type": "stream",
     "text": [
      "C:\\Users\\cq45\\AppData\\Local\\Continuum\\Anaconda2\\lib\\site-packages\\ipykernel\\__main__.py:1: SettingWithCopyWarning: \n",
      "A value is trying to be set on a copy of a slice from a DataFrame.\n",
      "Try using .loc[row_indexer,col_indexer] = value instead\n",
      "\n",
      "See the caveats in the documentation: http://pandas.pydata.org/pandas-docs/stable/indexing.html#indexing-view-versus-copy\n",
      "  if __name__ == '__main__':\n"
     ]
    }
   ],
   "source": [
    "df2['Seq'] = df2.apply(lambda x: funcao_resultado(x['Mandante'],x['Resultado'],time),axis=1)"
   ]
  },
  {
   "cell_type": "code",
   "execution_count": 19,
   "metadata": {
    "collapsed": false
   },
   "outputs": [
    {
     "name": "stderr",
     "output_type": "stream",
     "text": [
      "C:\\Users\\cq45\\AppData\\Local\\Continuum\\Anaconda2\\lib\\site-packages\\ipykernel\\__main__.py:6: SettingWithCopyWarning: \n",
      "A value is trying to be set on a copy of a slice from a DataFrame.\n",
      "Try using .loc[row_indexer,col_indexer] = value instead\n",
      "\n",
      "See the caveats in the documentation: http://pandas.pydata.org/pandas-docs/stable/indexing.html#indexing-view-versus-copy\n"
     ]
    }
   ],
   "source": [
    "times = df['Mandante'].unique()\n",
    "Sequencia_times = {}\n",
    "\n",
    "for time in times:\n",
    "    df2 = df[(df.Mandante == time) | (df.Visitante == time)]\n",
    "    df2['Seq'] = df2.apply(lambda x: funcao_resultado(x['Mandante'],x['Resultado'],time),axis=1)\n",
    "    Sequencia_times[time] = df2.Seq.tolist()"
   ]
  },
  {
   "cell_type": "code",
   "execution_count": 20,
   "metadata": {
    "collapsed": false,
    "scrolled": true
   },
   "outputs": [
    {
     "data": {
      "text/plain": [
       "['V',\n",
       " 'E',\n",
       " 'D',\n",
       " 'V',\n",
       " 'E',\n",
       " 'E',\n",
       " 'E',\n",
       " 'V',\n",
       " 'D',\n",
       " 'D',\n",
       " 'V',\n",
       " 'D',\n",
       " 'E',\n",
       " 'E',\n",
       " 'V',\n",
       " 'D',\n",
       " 'V',\n",
       " 'E',\n",
       " 'V',\n",
       " 'V',\n",
       " 'D',\n",
       " 'V',\n",
       " 'D',\n",
       " 'V',\n",
       " 'V',\n",
       " 'D',\n",
       " 'V',\n",
       " 'V',\n",
       " 'V',\n",
       " 'D',\n",
       " 'D',\n",
       " 'D',\n",
       " 'E',\n",
       " 'E',\n",
       " 'D',\n",
       " 'E',\n",
       " 'D',\n",
       " 'D',\n",
       " 'E']"
      ]
     },
     "execution_count": 20,
     "metadata": {},
     "output_type": "execute_result"
    }
   ],
   "source": [
    "Sequencia_times['Fluminense']"
   ]
  },
  {
   "cell_type": "code",
   "execution_count": 24,
   "metadata": {
    "collapsed": true
   },
   "outputs": [],
   "source": [
    "import re"
   ]
  },
  {
   "cell_type": "code",
   "execution_count": 109,
   "metadata": {
    "collapsed": false
   },
   "outputs": [],
   "source": [
    "hist1 = list(itertools.product(['V','E','D'],repeat=4))"
   ]
  },
  {
   "cell_type": "code",
   "execution_count": 110,
   "metadata": {
    "collapsed": true
   },
   "outputs": [],
   "source": [
    "padrao = [ ''.join(j) for j in hist1]"
   ]
  },
  {
   "cell_type": "code",
   "execution_count": 111,
   "metadata": {
    "collapsed": true
   },
   "outputs": [
    {
     "data": {
      "text/plain": [
       "['VVVV',\n",
       " 'VVVE',\n",
       " 'VVVD',\n",
       " 'VVEV',\n",
       " 'VVEE',\n",
       " 'VVED',\n",
       " 'VVDV',\n",
       " 'VVDE',\n",
       " 'VVDD',\n",
       " 'VEVV',\n",
       " 'VEVE',\n",
       " 'VEVD',\n",
       " 'VEEV',\n",
       " 'VEEE',\n",
       " 'VEED',\n",
       " 'VEDV',\n",
       " 'VEDE',\n",
       " 'VEDD',\n",
       " 'VDVV',\n",
       " 'VDVE',\n",
       " 'VDVD',\n",
       " 'VDEV',\n",
       " 'VDEE',\n",
       " 'VDED',\n",
       " 'VDDV',\n",
       " 'VDDE',\n",
       " 'VDDD',\n",
       " 'EVVV',\n",
       " 'EVVE',\n",
       " 'EVVD',\n",
       " 'EVEV',\n",
       " 'EVEE',\n",
       " 'EVED',\n",
       " 'EVDV',\n",
       " 'EVDE',\n",
       " 'EVDD',\n",
       " 'EEVV',\n",
       " 'EEVE',\n",
       " 'EEVD',\n",
       " 'EEEV',\n",
       " 'EEEE',\n",
       " 'EEED',\n",
       " 'EEDV',\n",
       " 'EEDE',\n",
       " 'EEDD',\n",
       " 'EDVV',\n",
       " 'EDVE',\n",
       " 'EDVD',\n",
       " 'EDEV',\n",
       " 'EDEE',\n",
       " 'EDED',\n",
       " 'EDDV',\n",
       " 'EDDE',\n",
       " 'EDDD',\n",
       " 'DVVV',\n",
       " 'DVVE',\n",
       " 'DVVD',\n",
       " 'DVEV',\n",
       " 'DVEE',\n",
       " 'DVED',\n",
       " 'DVDV',\n",
       " 'DVDE',\n",
       " 'DVDD',\n",
       " 'DEVV',\n",
       " 'DEVE',\n",
       " 'DEVD',\n",
       " 'DEEV',\n",
       " 'DEEE',\n",
       " 'DEED',\n",
       " 'DEDV',\n",
       " 'DEDE',\n",
       " 'DEDD',\n",
       " 'DDVV',\n",
       " 'DDVE',\n",
       " 'DDVD',\n",
       " 'DDEV',\n",
       " 'DDEE',\n",
       " 'DDED',\n",
       " 'DDDV',\n",
       " 'DDDE',\n",
       " 'DDDD']"
      ]
     },
     "execution_count": 111,
     "metadata": {},
     "output_type": "execute_result"
    }
   ],
   "source": [
    "padrao"
   ]
  },
  {
   "cell_type": "code",
   "execution_count": 112,
   "metadata": {
    "collapsed": true
   },
   "outputs": [],
   "source": [
    "resultado = []\n",
    "for time in times:\n",
    "    s = ''.join(Sequencia_times[time])\n",
    "    pre = {}\n",
    "    pre['time'] = time\n",
    "    for p in padrao:\n",
    "        pre[p] = len(re.findall(p,s))\n",
    "    \n",
    "    resultado.append(pre)\n",
    "    "
   ]
  },
  {
   "cell_type": "code",
   "execution_count": 119,
   "metadata": {
    "collapsed": false
   },
   "outputs": [],
   "source": [
    "plan = pd.DataFrame(pd.DataFrame(resultado).sum(axis=0))"
   ]
  },
  {
   "cell_type": "code",
   "execution_count": 120,
   "metadata": {
    "collapsed": true
   },
   "outputs": [],
   "source": [
    "plan.reset_index(inplace=True)"
   ]
  },
  {
   "cell_type": "code",
   "execution_count": 121,
   "metadata": {
    "collapsed": false
   },
   "outputs": [],
   "source": [
    "plan.columns = ['Seq', 'Freq']"
   ]
  },
  {
   "cell_type": "code",
   "execution_count": 122,
   "metadata": {
    "collapsed": true
   },
   "outputs": [],
   "source": [
    "plan['Estado'] = plan.Seq.apply(lambda x: x[-1])"
   ]
  },
  {
   "cell_type": "code",
   "execution_count": 123,
   "metadata": {
    "collapsed": false
   },
   "outputs": [],
   "source": [
    "plan['Seq'] = plan.Seq.apply(lambda x: x[:3])"
   ]
  },
  {
   "cell_type": "code",
   "execution_count": 125,
   "metadata": {
    "collapsed": false
   },
   "outputs": [],
   "source": [
    "plan = plan[plan['Estado'] != 'e']"
   ]
  },
  {
   "cell_type": "code",
   "execution_count": 126,
   "metadata": {
    "collapsed": false
   },
   "outputs": [],
   "source": [
    "markov = pd.crosstab(index=plan.Seq, columns=plan.Estado, values=plan.Freq, aggfunc='sum')"
   ]
  },
  {
   "cell_type": "code",
   "execution_count": 127,
   "metadata": {
    "collapsed": false
   },
   "outputs": [],
   "source": [
    "markov['Total'] = markov['D']+markov['E']+markov['V']"
   ]
  },
  {
   "cell_type": "code",
   "execution_count": 128,
   "metadata": {
    "collapsed": false
   },
   "outputs": [],
   "source": [
    "markov['D'] = markov['D'] / markov['Total']\n",
    "markov['E'] = markov['E'] / markov['Total']\n",
    "markov['V'] = markov['V'] / markov['Total']"
   ]
  },
  {
   "cell_type": "code",
   "execution_count": 129,
   "metadata": {
    "collapsed": false
   },
   "outputs": [
    {
     "data": {
      "text/html": [
       "<div>\n",
       "<table border=\"1\" class=\"dataframe\">\n",
       "  <thead>\n",
       "    <tr style=\"text-align: right;\">\n",
       "      <th>Estado</th>\n",
       "      <th>D</th>\n",
       "      <th>E</th>\n",
       "      <th>V</th>\n",
       "      <th>Total</th>\n",
       "    </tr>\n",
       "    <tr>\n",
       "      <th>Seq</th>\n",
       "      <th></th>\n",
       "      <th></th>\n",
       "      <th></th>\n",
       "      <th></th>\n",
       "    </tr>\n",
       "  </thead>\n",
       "  <tbody>\n",
       "    <tr>\n",
       "      <th>DDD</th>\n",
       "      <td>0.300000</td>\n",
       "      <td>0.333333</td>\n",
       "      <td>0.366667</td>\n",
       "      <td>30</td>\n",
       "    </tr>\n",
       "    <tr>\n",
       "      <th>DDE</th>\n",
       "      <td>0.318182</td>\n",
       "      <td>0.227273</td>\n",
       "      <td>0.454545</td>\n",
       "      <td>22</td>\n",
       "    </tr>\n",
       "    <tr>\n",
       "      <th>DDV</th>\n",
       "      <td>0.366667</td>\n",
       "      <td>0.300000</td>\n",
       "      <td>0.333333</td>\n",
       "      <td>30</td>\n",
       "    </tr>\n",
       "    <tr>\n",
       "      <th>DED</th>\n",
       "      <td>0.357143</td>\n",
       "      <td>0.214286</td>\n",
       "      <td>0.428571</td>\n",
       "      <td>28</td>\n",
       "    </tr>\n",
       "    <tr>\n",
       "      <th>DEE</th>\n",
       "      <td>0.357143</td>\n",
       "      <td>0.142857</td>\n",
       "      <td>0.500000</td>\n",
       "      <td>14</td>\n",
       "    </tr>\n",
       "    <tr>\n",
       "      <th>DEV</th>\n",
       "      <td>0.400000</td>\n",
       "      <td>0.300000</td>\n",
       "      <td>0.300000</td>\n",
       "      <td>20</td>\n",
       "    </tr>\n",
       "    <tr>\n",
       "      <th>DVD</th>\n",
       "      <td>0.289474</td>\n",
       "      <td>0.210526</td>\n",
       "      <td>0.500000</td>\n",
       "      <td>38</td>\n",
       "    </tr>\n",
       "    <tr>\n",
       "      <th>DVE</th>\n",
       "      <td>0.275862</td>\n",
       "      <td>0.310345</td>\n",
       "      <td>0.413793</td>\n",
       "      <td>29</td>\n",
       "    </tr>\n",
       "    <tr>\n",
       "      <th>DVV</th>\n",
       "      <td>0.486486</td>\n",
       "      <td>0.135135</td>\n",
       "      <td>0.378378</td>\n",
       "      <td>37</td>\n",
       "    </tr>\n",
       "    <tr>\n",
       "      <th>EDD</th>\n",
       "      <td>0.333333</td>\n",
       "      <td>0.285714</td>\n",
       "      <td>0.380952</td>\n",
       "      <td>21</td>\n",
       "    </tr>\n",
       "    <tr>\n",
       "      <th>EDE</th>\n",
       "      <td>0.352941</td>\n",
       "      <td>0.352941</td>\n",
       "      <td>0.294118</td>\n",
       "      <td>17</td>\n",
       "    </tr>\n",
       "    <tr>\n",
       "      <th>EDV</th>\n",
       "      <td>0.629630</td>\n",
       "      <td>0.111111</td>\n",
       "      <td>0.259259</td>\n",
       "      <td>27</td>\n",
       "    </tr>\n",
       "    <tr>\n",
       "      <th>EED</th>\n",
       "      <td>0.176471</td>\n",
       "      <td>0.294118</td>\n",
       "      <td>0.529412</td>\n",
       "      <td>17</td>\n",
       "    </tr>\n",
       "    <tr>\n",
       "      <th>EEE</th>\n",
       "      <td>0.666667</td>\n",
       "      <td>0.000000</td>\n",
       "      <td>0.333333</td>\n",
       "      <td>6</td>\n",
       "    </tr>\n",
       "    <tr>\n",
       "      <th>EEV</th>\n",
       "      <td>0.529412</td>\n",
       "      <td>0.235294</td>\n",
       "      <td>0.235294</td>\n",
       "      <td>17</td>\n",
       "    </tr>\n",
       "    <tr>\n",
       "      <th>EVD</th>\n",
       "      <td>0.344828</td>\n",
       "      <td>0.241379</td>\n",
       "      <td>0.413793</td>\n",
       "      <td>29</td>\n",
       "    </tr>\n",
       "    <tr>\n",
       "      <th>EVE</th>\n",
       "      <td>0.428571</td>\n",
       "      <td>0.357143</td>\n",
       "      <td>0.214286</td>\n",
       "      <td>14</td>\n",
       "    </tr>\n",
       "    <tr>\n",
       "      <th>EVV</th>\n",
       "      <td>0.272727</td>\n",
       "      <td>0.318182</td>\n",
       "      <td>0.409091</td>\n",
       "      <td>22</td>\n",
       "    </tr>\n",
       "    <tr>\n",
       "      <th>VDD</th>\n",
       "      <td>0.424242</td>\n",
       "      <td>0.242424</td>\n",
       "      <td>0.333333</td>\n",
       "      <td>33</td>\n",
       "    </tr>\n",
       "    <tr>\n",
       "      <th>VDE</th>\n",
       "      <td>0.521739</td>\n",
       "      <td>0.130435</td>\n",
       "      <td>0.347826</td>\n",
       "      <td>23</td>\n",
       "    </tr>\n",
       "    <tr>\n",
       "      <th>VDV</th>\n",
       "      <td>0.285714</td>\n",
       "      <td>0.326531</td>\n",
       "      <td>0.387755</td>\n",
       "      <td>49</td>\n",
       "    </tr>\n",
       "    <tr>\n",
       "      <th>VED</th>\n",
       "      <td>0.380952</td>\n",
       "      <td>0.285714</td>\n",
       "      <td>0.333333</td>\n",
       "      <td>21</td>\n",
       "    </tr>\n",
       "    <tr>\n",
       "      <th>VEE</th>\n",
       "      <td>0.450000</td>\n",
       "      <td>0.150000</td>\n",
       "      <td>0.400000</td>\n",
       "      <td>20</td>\n",
       "    </tr>\n",
       "    <tr>\n",
       "      <th>VEV</th>\n",
       "      <td>0.416667</td>\n",
       "      <td>0.166667</td>\n",
       "      <td>0.416667</td>\n",
       "      <td>24</td>\n",
       "    </tr>\n",
       "    <tr>\n",
       "      <th>VVD</th>\n",
       "      <td>0.363636</td>\n",
       "      <td>0.151515</td>\n",
       "      <td>0.484848</td>\n",
       "      <td>33</td>\n",
       "    </tr>\n",
       "    <tr>\n",
       "      <th>VVE</th>\n",
       "      <td>0.272727</td>\n",
       "      <td>0.318182</td>\n",
       "      <td>0.409091</td>\n",
       "      <td>22</td>\n",
       "    </tr>\n",
       "    <tr>\n",
       "      <th>VVV</th>\n",
       "      <td>0.387097</td>\n",
       "      <td>0.322581</td>\n",
       "      <td>0.290323</td>\n",
       "      <td>31</td>\n",
       "    </tr>\n",
       "  </tbody>\n",
       "</table>\n",
       "</div>"
      ],
      "text/plain": [
       "Estado         D         E         V  Total\n",
       "Seq                                        \n",
       "DDD     0.300000  0.333333  0.366667     30\n",
       "DDE     0.318182  0.227273  0.454545     22\n",
       "DDV     0.366667  0.300000  0.333333     30\n",
       "DED     0.357143  0.214286  0.428571     28\n",
       "DEE     0.357143  0.142857  0.500000     14\n",
       "DEV     0.400000  0.300000  0.300000     20\n",
       "DVD     0.289474  0.210526  0.500000     38\n",
       "DVE     0.275862  0.310345  0.413793     29\n",
       "DVV     0.486486  0.135135  0.378378     37\n",
       "EDD     0.333333  0.285714  0.380952     21\n",
       "EDE     0.352941  0.352941  0.294118     17\n",
       "EDV     0.629630  0.111111  0.259259     27\n",
       "EED     0.176471  0.294118  0.529412     17\n",
       "EEE     0.666667  0.000000  0.333333      6\n",
       "EEV     0.529412  0.235294  0.235294     17\n",
       "EVD     0.344828  0.241379  0.413793     29\n",
       "EVE     0.428571  0.357143  0.214286     14\n",
       "EVV     0.272727  0.318182  0.409091     22\n",
       "VDD     0.424242  0.242424  0.333333     33\n",
       "VDE     0.521739  0.130435  0.347826     23\n",
       "VDV     0.285714  0.326531  0.387755     49\n",
       "VED     0.380952  0.285714  0.333333     21\n",
       "VEE     0.450000  0.150000  0.400000     20\n",
       "VEV     0.416667  0.166667  0.416667     24\n",
       "VVD     0.363636  0.151515  0.484848     33\n",
       "VVE     0.272727  0.318182  0.409091     22\n",
       "VVV     0.387097  0.322581  0.290323     31"
      ]
     },
     "execution_count": 129,
     "metadata": {},
     "output_type": "execute_result"
    }
   ],
   "source": [
    "markov"
   ]
  },
  {
   "cell_type": "code",
   "execution_count": 70,
   "metadata": {
    "collapsed": false
   },
   "outputs": [
    {
     "data": {
      "text/plain": [
       "0.452"
      ]
     },
     "execution_count": 70,
     "metadata": {},
     "output_type": "execute_result"
    }
   ],
   "source": [
    "113./(68+69+113)"
   ]
  },
  {
   "cell_type": "code",
   "execution_count": 72,
   "metadata": {
    "collapsed": false
   },
   "outputs": [
    {
     "data": {
      "text/plain": [
       "0.20224719101123595"
      ]
     },
     "execution_count": 72,
     "metadata": {},
     "output_type": "execute_result"
    }
   ],
   "source": [
    "36./(71+36+71)"
   ]
  },
  {
   "cell_type": "code",
   "execution_count": 75,
   "metadata": {
    "collapsed": false
   },
   "outputs": [
    {
     "data": {
      "text/plain": [
       "0.2755905511811024"
      ]
     },
     "execution_count": 75,
     "metadata": {},
     "output_type": "execute_result"
    }
   ],
   "source": [
    "70./(113+71+70)"
   ]
  },
  {
   "cell_type": "code",
   "execution_count": null,
   "metadata": {
    "collapsed": true
   },
   "outputs": [],
   "source": []
  }
 ],
 "metadata": {
  "kernelspec": {
   "display_name": "Python 2",
   "language": "python",
   "name": "python2"
  },
  "language_info": {
   "codemirror_mode": {
    "name": "ipython",
    "version": 2
   },
   "file_extension": ".py",
   "mimetype": "text/x-python",
   "name": "python",
   "nbconvert_exporter": "python",
   "pygments_lexer": "ipython2",
   "version": "2.7.11"
  }
 },
 "nbformat": 4,
 "nbformat_minor": 0
}
