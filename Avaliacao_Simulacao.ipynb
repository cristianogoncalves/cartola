{
 "cells": [
  {
   "cell_type": "code",
   "execution_count": 1,
   "metadata": {
    "collapsed": true
   },
   "outputs": [],
   "source": [
    "import pandas as pd\n",
    "import numpy as np"
   ]
  },
  {
   "cell_type": "code",
   "execution_count": 2,
   "metadata": {
    "collapsed": true
   },
   "outputs": [],
   "source": [
    "nrodada = 22\n",
    "df = pd.read_pickle(r'.\\Simulacao\\simulacao_{}rodada.pkl'.format(str(nrodada)))"
   ]
  },
  {
   "cell_type": "code",
   "execution_count": 3,
   "metadata": {
    "collapsed": true
   },
   "outputs": [],
   "source": [
    "esperado = df[['Jogador','Posicao','Time','Pontuacao']].groupby(['Jogador','Posicao','Time']).agg('mean')\n",
    "esperado.reset_index(inplace=True)\n",
    "esperado['chave'] = esperado.apply(lambda x: '{}_{}_{}'.format(x['Time'],x['Jogador'],x['Posicao']),axis=1)"
   ]
  },
  {
   "cell_type": "code",
   "execution_count": 4,
   "metadata": {
    "collapsed": true
   },
   "outputs": [],
   "source": [
    "realizado = pd.read_pickle(r'.\\Isoladas\\{}rodada_isolada.pkl'.format(str(nrodada)))"
   ]
  },
  {
   "cell_type": "code",
   "execution_count": 5,
   "metadata": {
    "collapsed": true
   },
   "outputs": [],
   "source": [
    "campos_media = ['Gol', 'Assistência', 'Finalização_na_trave', 'Finalização_pra_fora', 'Roubada_de_bola', 'Passe_errado',\n",
    "                'Falta_cometida', 'Pênalti_perdido', 'Gol_contra', 'Falta_sofrida','Impedimento', 'Cartão_amarelo',\n",
    "                'Cartão_vermelho', 'Defesa_de_pênalti','Jogos_sem_sofrer_gols', 'Finalização_defendida',\n",
    "                'Defesa_difícil', 'Gol_sofrido']\n",
    "\n",
    "realizado['TotalQuesitos'] = realizado[campos_media].sum(axis=1)\n",
    "realizado = realizado[realizado['TotalQuesitos'] != 0]\n",
    "realizado.reset_index(inplace=True)\n",
    "realizado.drop(['index','TotalQuesitos'],axis=1, inplace=True)"
   ]
  },
  {
   "cell_type": "code",
   "execution_count": 6,
   "metadata": {
    "collapsed": true
   },
   "outputs": [],
   "source": [
    "realizado = realizado[['Time','Apelido','Posicao','Atleta_pontos']]\n",
    "realizado['chave'] = realizado.apply(lambda x: '{}_{}_{}'.format(x['Time'],x['Apelido'],x['Posicao']),axis=1)"
   ]
  },
  {
   "cell_type": "code",
   "execution_count": 7,
   "metadata": {},
   "outputs": [
    {
     "data": {
      "text/html": [
       "<div>\n",
       "<style>\n",
       "    .dataframe thead tr:only-child th {\n",
       "        text-align: right;\n",
       "    }\n",
       "\n",
       "    .dataframe thead th {\n",
       "        text-align: left;\n",
       "    }\n",
       "\n",
       "    .dataframe tbody tr th {\n",
       "        vertical-align: top;\n",
       "    }\n",
       "</style>\n",
       "<table border=\"1\" class=\"dataframe\">\n",
       "  <thead>\n",
       "    <tr style=\"text-align: right;\">\n",
       "      <th></th>\n",
       "      <th>Jogador</th>\n",
       "      <th>Posicao</th>\n",
       "      <th>Time</th>\n",
       "      <th>Pontuacao</th>\n",
       "      <th>chave</th>\n",
       "    </tr>\n",
       "  </thead>\n",
       "  <tbody>\n",
       "    <tr>\n",
       "      <th>0</th>\n",
       "      <td>Adilson</td>\n",
       "      <td>Meia</td>\n",
       "      <td>Atlético-MG</td>\n",
       "      <td>1.34842</td>\n",
       "      <td>Atlético-MG_Adilson_Meia</td>\n",
       "    </tr>\n",
       "    <tr>\n",
       "      <th>1</th>\n",
       "      <td>Agenor</td>\n",
       "      <td>Goleiro</td>\n",
       "      <td>Sport</td>\n",
       "      <td>3.08906</td>\n",
       "      <td>Sport_Agenor_Goleiro</td>\n",
       "    </tr>\n",
       "    <tr>\n",
       "      <th>2</th>\n",
       "      <td>Airton</td>\n",
       "      <td>Meia</td>\n",
       "      <td>Botafogo</td>\n",
       "      <td>0.78640</td>\n",
       "      <td>Botafogo_Airton_Meia</td>\n",
       "    </tr>\n",
       "    <tr>\n",
       "      <th>3</th>\n",
       "      <td>Airton</td>\n",
       "      <td>Zagueiro</td>\n",
       "      <td>Avaí</td>\n",
       "      <td>1.89924</td>\n",
       "      <td>Avaí_Airton _Zagueiro</td>\n",
       "    </tr>\n",
       "    <tr>\n",
       "      <th>4</th>\n",
       "      <td>Alan Cardoso</td>\n",
       "      <td>Lateral</td>\n",
       "      <td>Vasco</td>\n",
       "      <td>-1.29366</td>\n",
       "      <td>Vasco_Alan Cardoso_Lateral</td>\n",
       "    </tr>\n",
       "  </tbody>\n",
       "</table>\n",
       "</div>"
      ],
      "text/plain": [
       "        Jogador   Posicao         Time  Pontuacao                       chave\n",
       "0       Adilson      Meia  Atlético-MG    1.34842    Atlético-MG_Adilson_Meia\n",
       "1        Agenor   Goleiro        Sport    3.08906        Sport_Agenor_Goleiro\n",
       "2        Airton      Meia     Botafogo    0.78640        Botafogo_Airton_Meia\n",
       "3       Airton   Zagueiro         Avaí    1.89924       Avaí_Airton _Zagueiro\n",
       "4  Alan Cardoso   Lateral        Vasco   -1.29366  Vasco_Alan Cardoso_Lateral"
      ]
     },
     "execution_count": 7,
     "metadata": {},
     "output_type": "execute_result"
    }
   ],
   "source": [
    "esperado.head()"
   ]
  },
  {
   "cell_type": "code",
   "execution_count": 8,
   "metadata": {
    "collapsed": true
   },
   "outputs": [],
   "source": [
    "df = pd.merge(esperado,realizado[['chave','Atleta_pontos']],how='inner',on='chave')"
   ]
  },
  {
   "cell_type": "code",
   "execution_count": 9,
   "metadata": {
    "collapsed": true
   },
   "outputs": [],
   "source": [
    "df['Diferenca'] = df.Atleta_pontos - df.Pontuacao"
   ]
  },
  {
   "cell_type": "code",
   "execution_count": 10,
   "metadata": {
    "collapsed": true
   },
   "outputs": [],
   "source": [
    "erro_times = pd.DataFrame(df.groupby('Time').mean()['Diferenca'])\n",
    "erro_times.reset_index(inplace=True)\n",
    "erro_times.columns = ['Time','Erro_Medio']\n",
    "#erro_times['Rodada'] = nrodada\n",
    "erro_times['Erro_Medio'] = np.round(erro_times['Erro_Medio'],2)\n",
    "erro_times.to_csv('.\\Site\\Avaliacao\\{}rodada_times.csv'.format(nrodada), index=False, sep='\\t', encoding=\"UTF8\")"
   ]
  },
  {
   "cell_type": "code",
   "execution_count": 11,
   "metadata": {
    "collapsed": true
   },
   "outputs": [],
   "source": [
    "erro_posicao = pd.DataFrame(df.groupby('Posicao').mean()['Diferenca'])\n",
    "erro_posicao.reset_index(inplace=True)\n",
    "erro_posicao.columns = ['Time','Erro_Medio']\n",
    "#erro_times['Rodada'] = nrodada\n",
    "erro_posicao['Erro_Medio'] = np.round(erro_posicao['Erro_Medio'],2)\n",
    "erro_posicao.to_csv('.\\Site\\Avaliacao\\{}rodada_posicao.csv'.format(nrodada), index=False, sep='\\t',encoding=\"UTF8\")"
   ]
  },
  {
   "cell_type": "code",
   "execution_count": null,
   "metadata": {
    "collapsed": true
   },
   "outputs": [],
   "source": []
  }
 ],
 "metadata": {
  "anaconda-cloud": {},
  "kernelspec": {
   "display_name": "Python 3",
   "language": "python",
   "name": "python3"
  },
  "language_info": {
   "codemirror_mode": {
    "name": "ipython",
    "version": 3
   },
   "file_extension": ".py",
   "mimetype": "text/x-python",
   "name": "python",
   "nbconvert_exporter": "python",
   "pygments_lexer": "ipython3",
   "version": "3.6.1"
  }
 },
 "nbformat": 4,
 "nbformat_minor": 1
}
