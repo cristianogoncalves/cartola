{
 "cells": [
  {
   "cell_type": "code",
   "execution_count": 17,
   "metadata": {
    "collapsed": true
   },
   "outputs": [],
   "source": [
    "# python 3\n",
    "import pandas as pd"
   ]
  },
  {
   "cell_type": "code",
   "execution_count": 18,
   "metadata": {
    "collapsed": true
   },
   "outputs": [],
   "source": [
    "nrodada = 13"
   ]
  },
  {
   "cell_type": "code",
   "execution_count": 19,
   "metadata": {
    "collapsed": false
   },
   "outputs": [],
   "source": [
    "tabelas = []\n",
    "\n",
    "for i in range(1,nrodada+1):\n",
    "    x = pd.read_excel(r'.\\Excel\\{}rodada.xlsx'.format(str(i)))\n",
    "    x['rodada'] = i\n",
    "    tabelas.append(x)"
   ]
  },
  {
   "cell_type": "code",
   "execution_count": 20,
   "metadata": {
    "collapsed": false
   },
   "outputs": [],
   "source": [
    "tabela = tabelas[0]\n",
    "for i in range(1,len(tabelas)):\n",
    "    tabela = pd.concat([tabela,tabelas[i]],axis=0)"
   ]
  },
  {
   "cell_type": "code",
   "execution_count": 21,
   "metadata": {
    "collapsed": false
   },
   "outputs": [],
   "source": [
    "tabela['chave'] = tabela.apply(lambda x: '{}_{}_{}'.format(x['Abreviacao'],x['Apelido'],x['Posicao']),axis=1)"
   ]
  },
  {
   "cell_type": "code",
   "execution_count": 22,
   "metadata": {
    "collapsed": false
   },
   "outputs": [],
   "source": [
    "agrupado = tabela.groupby(['chave','rodada']).sum()"
   ]
  },
  {
   "cell_type": "code",
   "execution_count": 23,
   "metadata": {
    "collapsed": false
   },
   "outputs": [],
   "source": [
    "textos = [col for col in tabela.columns if tabela[col].dtype == 'O']"
   ]
  },
  {
   "cell_type": "code",
   "execution_count": 24,
   "metadata": {
    "collapsed": false
   },
   "outputs": [],
   "source": [
    "campos_dif = ['Gol', 'Assistência', 'Finalização_na_trave', 'Finalização_pra_fora', 'Roubada_de_bola',\n",
    "              'Passe_errado', 'Falta_cometida', 'Pênalti_perdido', 'Gol_contra', 'Falta_sofrida', 'Impedimento',\n",
    "              'Cartão_amarelo', 'Cartão_vermelho', 'Defesa_de_pênalti', 'Jogos_sem_sofrer_gols', 'Finalização_defendida',\n",
    "              'Defesa_difícil', 'Gol_sofrido']\n",
    "\n",
    "outros_campos = ['Atleta_pontos','Número_Jogos','preco_cartoleta','preco_variacao','Atleta_média'] + textos"
   ]
  },
  {
   "cell_type": "markdown",
   "metadata": {},
   "source": [
    "## 4 rodada menos a terceira"
   ]
  },
  {
   "cell_type": "code",
   "execution_count": 25,
   "metadata": {
    "collapsed": true
   },
   "outputs": [],
   "source": [
    "atual = nrodada\n",
    "anterior = atual -1"
   ]
  },
  {
   "cell_type": "code",
   "execution_count": 26,
   "metadata": {
    "collapsed": true
   },
   "outputs": [],
   "source": [
    "fixo = tabela[tabela.rodada == atual][outros_campos]"
   ]
  },
  {
   "cell_type": "code",
   "execution_count": 27,
   "metadata": {
    "collapsed": false
   },
   "outputs": [],
   "source": [
    "resultados = []\n",
    "for chave in  fixo.chave.tolist():\n",
    "    try:\n",
    "        t = pd.DataFrame(agrupado.loc[(chave,atual)][campos_dif] - agrupado.loc[(chave,anterior)][campos_dif])\n",
    "    except:\n",
    "        t = pd.DataFrame(agrupado.loc[(chave,atual)][campos_dif])\n",
    "        \n",
    "    t=t.transpose()\n",
    "    t['chave'] = chave\n",
    "    resultados.append(t)"
   ]
  },
  {
   "cell_type": "code",
   "execution_count": 28,
   "metadata": {
    "collapsed": false
   },
   "outputs": [],
   "source": [
    "resultado = resultados[0]\n",
    "for r in range(1,len(resultados)):\n",
    "    resultado = pd.concat([resultado,resultados[r]],axis=0)"
   ]
  },
  {
   "cell_type": "code",
   "execution_count": 29,
   "metadata": {
    "collapsed": false
   },
   "outputs": [],
   "source": [
    "planilha = pd.merge(fixo,resultado, how='left', on='chave')"
   ]
  },
  {
   "cell_type": "code",
   "execution_count": 30,
   "metadata": {
    "collapsed": false
   },
   "outputs": [],
   "source": [
    "ordem = ['Time', 'Abreviacao','Nome','Apelido','Posicao','Número_Jogos','seletor','preco_cartoleta','preco_variacao',\n",
    "         'Atleta_pontos', 'Atleta_média','Gol','Assistência','Finalização_na_trave','Finalização_pra_fora','Roubada_de_bola',\n",
    "         'Passe_errado', 'Falta_cometida', 'Pênalti_perdido', 'Gol_contra','Falta_sofrida', 'Impedimento','Cartão_amarelo',\n",
    "         'Cartão_vermelho','Defesa_de_pênalti', 'Jogos_sem_sofrer_gols', 'Finalização_defendida','Defesa_difícil',\n",
    "         'Gol_sofrido','Data', 'Ranking','Ranking_Visitante', 'adversario','hora', 'local', 'local2']\n",
    "\n",
    "\n",
    "planilha = planilha[ordem]"
   ]
  },
  {
   "cell_type": "code",
   "execution_count": 31,
   "metadata": {
    "collapsed": false
   },
   "outputs": [],
   "source": [
    "planilha.to_pickle(r'.\\Isoladas\\{}rodada_isolada.pkl'.format(str(nrodada)))"
   ]
  },
  {
   "cell_type": "code",
   "execution_count": null,
   "metadata": {
    "collapsed": true
   },
   "outputs": [],
   "source": []
  }
 ],
 "metadata": {
  "anaconda-cloud": {},
  "kernelspec": {
   "display_name": "Python [Root]",
   "language": "python",
   "name": "Python [Root]"
  },
  "language_info": {
   "codemirror_mode": {
    "name": "ipython",
    "version": 3
   },
   "file_extension": ".py",
   "mimetype": "text/x-python",
   "name": "python",
   "nbconvert_exporter": "python",
   "pygments_lexer": "ipython3",
   "version": "3.5.2"
  }
 },
 "nbformat": 4,
 "nbformat_minor": 0
}
