{
 "cells": [
  {
   "cell_type": "code",
   "execution_count": 32,
   "metadata": {
    "collapsed": false
   },
   "outputs": [
    {
     "name": "stdout",
     "output_type": "stream",
     "text": [
      "Populating the interactive namespace from numpy and matplotlib\n"
     ]
    }
   ],
   "source": [
    "#python3\n",
    "import pandas as pd\n",
    "import numpy as np\n",
    "import matplotlib.pyplot as plt\n",
    "%pylab inline"
   ]
  },
  {
   "cell_type": "code",
   "execution_count": 221,
   "metadata": {
    "collapsed": true
   },
   "outputs": [],
   "source": [
    "nrodada = 12"
   ]
  },
  {
   "cell_type": "code",
   "execution_count": 225,
   "metadata": {
    "collapsed": true
   },
   "outputs": [],
   "source": [
    "planilhas = pd.read_excel(r'.\\Excel\\1rodada.xlsx')\n",
    "planilhas['rodada'] = 1\n",
    "for i in range(2,nrodada+1):\n",
    "    x = pd.read_pickle(r'.\\Isoladas\\{}rodada_isolada.pkl'.format(i))\n",
    "    x['rodada'] = i\n",
    "    planilhas = pd.concat([planilhas,x],axis=0)"
   ]
  },
  {
   "cell_type": "code",
   "execution_count": 226,
   "metadata": {
    "collapsed": false
   },
   "outputs": [],
   "source": [
    "jogaram = planilhas[planilhas['Atleta_pontos'] != 0]"
   ]
  },
  {
   "cell_type": "code",
   "execution_count": 228,
   "metadata": {
    "collapsed": false
   },
   "outputs": [
    {
     "name": "stderr",
     "output_type": "stream",
     "text": [
      "C:\\Program Files (x86)\\ANACONDA3\\lib\\site-packages\\ipykernel\\__main__.py:1: SettingWithCopyWarning: \n",
      "A value is trying to be set on a copy of a slice from a DataFrame.\n",
      "Try using .loc[row_indexer,col_indexer] = value instead\n",
      "\n",
      "See the caveats in the documentation: http://pandas.pydata.org/pandas-docs/stable/indexing.html#indexing-view-versus-copy\n",
      "  if __name__ == '__main__':\n"
     ]
    },
    {
     "data": {
      "text/html": [
       "<div>\n",
       "<table border=\"1\" class=\"dataframe\">\n",
       "  <thead>\n",
       "    <tr style=\"text-align: right;\">\n",
       "      <th></th>\n",
       "      <th>Time</th>\n",
       "      <th>Abreviacao</th>\n",
       "      <th>Nome</th>\n",
       "      <th>Apelido</th>\n",
       "      <th>Posicao</th>\n",
       "      <th>Número_Jogos</th>\n",
       "      <th>seletor</th>\n",
       "      <th>preco_cartoleta</th>\n",
       "      <th>preco_variacao</th>\n",
       "      <th>Atleta_pontos</th>\n",
       "      <th>...</th>\n",
       "      <th>Gol_sofrido</th>\n",
       "      <th>Data</th>\n",
       "      <th>Ranking</th>\n",
       "      <th>Ranking_Visitante</th>\n",
       "      <th>adversario</th>\n",
       "      <th>hora</th>\n",
       "      <th>local</th>\n",
       "      <th>local2</th>\n",
       "      <th>rodada</th>\n",
       "      <th>preco_cartoleta_antes</th>\n",
       "    </tr>\n",
       "  </thead>\n",
       "  <tbody>\n",
       "    <tr>\n",
       "      <th>1</th>\n",
       "      <td>Palmeiras</td>\n",
       "      <td>PAL</td>\n",
       "      <td>Dudu</td>\n",
       "      <td>Dudu</td>\n",
       "      <td>Atacante</td>\n",
       "      <td>1</td>\n",
       "      <td>provável</td>\n",
       "      <td>24.12</td>\n",
       "      <td>0.12</td>\n",
       "      <td>10.1</td>\n",
       "      <td>...</td>\n",
       "      <td>0.0</td>\n",
       "      <td>SAB 20/05/2017</td>\n",
       "      <td>2º</td>\n",
       "      <td>8º</td>\n",
       "      <td>Chapecoense</td>\n",
       "      <td>19:00</td>\n",
       "      <td>Arena Condá</td>\n",
       "      <td>Fora</td>\n",
       "      <td>1</td>\n",
       "      <td>24.0</td>\n",
       "    </tr>\n",
       "    <tr>\n",
       "      <th>3</th>\n",
       "      <td>Palmeiras</td>\n",
       "      <td>PAL</td>\n",
       "      <td>Borja</td>\n",
       "      <td>Borja</td>\n",
       "      <td>Atacante</td>\n",
       "      <td>1</td>\n",
       "      <td>provável</td>\n",
       "      <td>22.71</td>\n",
       "      <td>6.71</td>\n",
       "      <td>16.1</td>\n",
       "      <td>...</td>\n",
       "      <td>0.0</td>\n",
       "      <td>SAB 20/05/2017</td>\n",
       "      <td>2º</td>\n",
       "      <td>8º</td>\n",
       "      <td>Chapecoense</td>\n",
       "      <td>19:00</td>\n",
       "      <td>Arena Condá</td>\n",
       "      <td>Fora</td>\n",
       "      <td>1</td>\n",
       "      <td>16.0</td>\n",
       "    </tr>\n",
       "    <tr>\n",
       "      <th>4</th>\n",
       "      <td>Atlético-MG</td>\n",
       "      <td>ATL</td>\n",
       "      <td>Fred</td>\n",
       "      <td>Fred</td>\n",
       "      <td>Atacante</td>\n",
       "      <td>1</td>\n",
       "      <td>provável</td>\n",
       "      <td>21.43</td>\n",
       "      <td>-2.57</td>\n",
       "      <td>6.3</td>\n",
       "      <td>...</td>\n",
       "      <td>0.0</td>\n",
       "      <td>DOM 21/05/2017</td>\n",
       "      <td>11º</td>\n",
       "      <td>6º</td>\n",
       "      <td>Fluminense</td>\n",
       "      <td>16:00</td>\n",
       "      <td>Independência</td>\n",
       "      <td>Casa</td>\n",
       "      <td>1</td>\n",
       "      <td>24.0</td>\n",
       "    </tr>\n",
       "    <tr>\n",
       "      <th>5</th>\n",
       "      <td>Ponte Preta</td>\n",
       "      <td>PON</td>\n",
       "      <td>Nino Paraíba</td>\n",
       "      <td>Nino Paraíba</td>\n",
       "      <td>Lateral</td>\n",
       "      <td>1</td>\n",
       "      <td>provável</td>\n",
       "      <td>21.08</td>\n",
       "      <td>14.08</td>\n",
       "      <td>22.8</td>\n",
       "      <td>...</td>\n",
       "      <td>0.0</td>\n",
       "      <td>DOM 21/05/2017</td>\n",
       "      <td>2º</td>\n",
       "      <td>16º</td>\n",
       "      <td>Botafogo</td>\n",
       "      <td>18:00</td>\n",
       "      <td>Engenhão</td>\n",
       "      <td>Fora</td>\n",
       "      <td>1</td>\n",
       "      <td>7.0</td>\n",
       "    </tr>\n",
       "    <tr>\n",
       "      <th>7</th>\n",
       "      <td>Bahia</td>\n",
       "      <td>BAH</td>\n",
       "      <td>Régis</td>\n",
       "      <td>Régis</td>\n",
       "      <td>Meia</td>\n",
       "      <td>1</td>\n",
       "      <td>provável</td>\n",
       "      <td>19.45</td>\n",
       "      <td>10.45</td>\n",
       "      <td>18.5</td>\n",
       "      <td>...</td>\n",
       "      <td>0.0</td>\n",
       "      <td>DOM 21/05/2017</td>\n",
       "      <td>1º</td>\n",
       "      <td>19º</td>\n",
       "      <td>Vasco</td>\n",
       "      <td>11:00</td>\n",
       "      <td>São Januário</td>\n",
       "      <td>Fora</td>\n",
       "      <td>1</td>\n",
       "      <td>9.0</td>\n",
       "    </tr>\n",
       "  </tbody>\n",
       "</table>\n",
       "<p>5 rows × 38 columns</p>\n",
       "</div>"
      ],
      "text/plain": [
       "          Time Abreviacao          Nome       Apelido   Posicao  Número_Jogos  \\\n",
       "1    Palmeiras        PAL          Dudu          Dudu  Atacante             1   \n",
       "3    Palmeiras        PAL         Borja         Borja  Atacante             1   \n",
       "4  Atlético-MG        ATL          Fred          Fred  Atacante             1   \n",
       "5  Ponte Preta        PON  Nino Paraíba  Nino Paraíba   Lateral             1   \n",
       "7        Bahia        BAH         Régis         Régis      Meia             1   \n",
       "\n",
       "    seletor  preco_cartoleta  preco_variacao  Atleta_pontos  \\\n",
       "1  provável            24.12            0.12           10.1   \n",
       "3  provável            22.71            6.71           16.1   \n",
       "4  provável            21.43           -2.57            6.3   \n",
       "5  provável            21.08           14.08           22.8   \n",
       "7  provável            19.45           10.45           18.5   \n",
       "\n",
       "           ...            Gol_sofrido            Data  Ranking  \\\n",
       "1          ...                    0.0  SAB 20/05/2017       2º   \n",
       "3          ...                    0.0  SAB 20/05/2017       2º   \n",
       "4          ...                    0.0  DOM 21/05/2017      11º   \n",
       "5          ...                    0.0  DOM 21/05/2017       2º   \n",
       "7          ...                    0.0  DOM 21/05/2017       1º   \n",
       "\n",
       "   Ranking_Visitante   adversario   hora          local  local2  rodada  \\\n",
       "1                 8º  Chapecoense  19:00    Arena Condá    Fora       1   \n",
       "3                 8º  Chapecoense  19:00    Arena Condá    Fora       1   \n",
       "4                 6º   Fluminense  16:00  Independência    Casa       1   \n",
       "5                16º     Botafogo  18:00       Engenhão    Fora       1   \n",
       "7                19º        Vasco  11:00   São Januário    Fora       1   \n",
       "\n",
       "   preco_cartoleta_antes  \n",
       "1                   24.0  \n",
       "3                   16.0  \n",
       "4                   24.0  \n",
       "5                    7.0  \n",
       "7                    9.0  \n",
       "\n",
       "[5 rows x 38 columns]"
      ]
     },
     "execution_count": 228,
     "metadata": {},
     "output_type": "execute_result"
    }
   ],
   "source": [
    "jogaram['preco_cartoleta_antes'] = jogaram['preco_cartoleta'] - jogaram['preco_variacao']\n",
    "jogaram.head()"
   ]
  },
  {
   "cell_type": "code",
   "execution_count": 236,
   "metadata": {
    "collapsed": false
   },
   "outputs": [],
   "source": [
    "media = pd.DataFrame(jogaram.groupby('rodada').mean()['Atleta_pontos'])"
   ]
  },
  {
   "cell_type": "code",
   "execution_count": 238,
   "metadata": {
    "collapsed": false
   },
   "outputs": [],
   "source": [
    "media.reset_index(inplace=True)"
   ]
  },
  {
   "cell_type": "code",
   "execution_count": 239,
   "metadata": {
    "collapsed": false
   },
   "outputs": [],
   "source": [
    "jogaram = pd.merge(jogaram, media, how='left' , on='rodada')"
   ]
  },
  {
   "cell_type": "code",
   "execution_count": 242,
   "metadata": {
    "collapsed": false
   },
   "outputs": [],
   "source": [
    "jogaram.rename(columns={'Atleta_pontos_x': 'Atleta_pontos', 'Atleta_pontos_y': 'media_pontos_rodada'},inplace=True)"
   ]
  },
  {
   "cell_type": "code",
   "execution_count": 243,
   "metadata": {
    "collapsed": false
   },
   "outputs": [
    {
     "data": {
      "text/html": [
       "<div>\n",
       "<table border=\"1\" class=\"dataframe\">\n",
       "  <thead>\n",
       "    <tr style=\"text-align: right;\">\n",
       "      <th></th>\n",
       "      <th>Time</th>\n",
       "      <th>Abreviacao</th>\n",
       "      <th>Nome</th>\n",
       "      <th>Apelido</th>\n",
       "      <th>Posicao</th>\n",
       "      <th>Número_Jogos</th>\n",
       "      <th>seletor</th>\n",
       "      <th>preco_cartoleta</th>\n",
       "      <th>preco_variacao</th>\n",
       "      <th>Atleta_pontos</th>\n",
       "      <th>...</th>\n",
       "      <th>Data</th>\n",
       "      <th>Ranking</th>\n",
       "      <th>Ranking_Visitante</th>\n",
       "      <th>adversario</th>\n",
       "      <th>hora</th>\n",
       "      <th>local</th>\n",
       "      <th>local2</th>\n",
       "      <th>rodada</th>\n",
       "      <th>preco_cartoleta_antes</th>\n",
       "      <th>media_pontos_rodada</th>\n",
       "    </tr>\n",
       "  </thead>\n",
       "  <tbody>\n",
       "    <tr>\n",
       "      <th>0</th>\n",
       "      <td>Palmeiras</td>\n",
       "      <td>PAL</td>\n",
       "      <td>Dudu</td>\n",
       "      <td>Dudu</td>\n",
       "      <td>Atacante</td>\n",
       "      <td>1</td>\n",
       "      <td>provável</td>\n",
       "      <td>24.12</td>\n",
       "      <td>0.12</td>\n",
       "      <td>10.1</td>\n",
       "      <td>...</td>\n",
       "      <td>SAB 20/05/2017</td>\n",
       "      <td>2º</td>\n",
       "      <td>8º</td>\n",
       "      <td>Chapecoense</td>\n",
       "      <td>19:00</td>\n",
       "      <td>Arena Condá</td>\n",
       "      <td>Fora</td>\n",
       "      <td>1</td>\n",
       "      <td>24.0</td>\n",
       "      <td>3.257631</td>\n",
       "    </tr>\n",
       "    <tr>\n",
       "      <th>1</th>\n",
       "      <td>Palmeiras</td>\n",
       "      <td>PAL</td>\n",
       "      <td>Borja</td>\n",
       "      <td>Borja</td>\n",
       "      <td>Atacante</td>\n",
       "      <td>1</td>\n",
       "      <td>provável</td>\n",
       "      <td>22.71</td>\n",
       "      <td>6.71</td>\n",
       "      <td>16.1</td>\n",
       "      <td>...</td>\n",
       "      <td>SAB 20/05/2017</td>\n",
       "      <td>2º</td>\n",
       "      <td>8º</td>\n",
       "      <td>Chapecoense</td>\n",
       "      <td>19:00</td>\n",
       "      <td>Arena Condá</td>\n",
       "      <td>Fora</td>\n",
       "      <td>1</td>\n",
       "      <td>16.0</td>\n",
       "      <td>3.257631</td>\n",
       "    </tr>\n",
       "    <tr>\n",
       "      <th>2</th>\n",
       "      <td>Atlético-MG</td>\n",
       "      <td>ATL</td>\n",
       "      <td>Fred</td>\n",
       "      <td>Fred</td>\n",
       "      <td>Atacante</td>\n",
       "      <td>1</td>\n",
       "      <td>provável</td>\n",
       "      <td>21.43</td>\n",
       "      <td>-2.57</td>\n",
       "      <td>6.3</td>\n",
       "      <td>...</td>\n",
       "      <td>DOM 21/05/2017</td>\n",
       "      <td>11º</td>\n",
       "      <td>6º</td>\n",
       "      <td>Fluminense</td>\n",
       "      <td>16:00</td>\n",
       "      <td>Independência</td>\n",
       "      <td>Casa</td>\n",
       "      <td>1</td>\n",
       "      <td>24.0</td>\n",
       "      <td>3.257631</td>\n",
       "    </tr>\n",
       "    <tr>\n",
       "      <th>3</th>\n",
       "      <td>Ponte Preta</td>\n",
       "      <td>PON</td>\n",
       "      <td>Nino Paraíba</td>\n",
       "      <td>Nino Paraíba</td>\n",
       "      <td>Lateral</td>\n",
       "      <td>1</td>\n",
       "      <td>provável</td>\n",
       "      <td>21.08</td>\n",
       "      <td>14.08</td>\n",
       "      <td>22.8</td>\n",
       "      <td>...</td>\n",
       "      <td>DOM 21/05/2017</td>\n",
       "      <td>2º</td>\n",
       "      <td>16º</td>\n",
       "      <td>Botafogo</td>\n",
       "      <td>18:00</td>\n",
       "      <td>Engenhão</td>\n",
       "      <td>Fora</td>\n",
       "      <td>1</td>\n",
       "      <td>7.0</td>\n",
       "      <td>3.257631</td>\n",
       "    </tr>\n",
       "    <tr>\n",
       "      <th>4</th>\n",
       "      <td>Bahia</td>\n",
       "      <td>BAH</td>\n",
       "      <td>Régis</td>\n",
       "      <td>Régis</td>\n",
       "      <td>Meia</td>\n",
       "      <td>1</td>\n",
       "      <td>provável</td>\n",
       "      <td>19.45</td>\n",
       "      <td>10.45</td>\n",
       "      <td>18.5</td>\n",
       "      <td>...</td>\n",
       "      <td>DOM 21/05/2017</td>\n",
       "      <td>1º</td>\n",
       "      <td>19º</td>\n",
       "      <td>Vasco</td>\n",
       "      <td>11:00</td>\n",
       "      <td>São Januário</td>\n",
       "      <td>Fora</td>\n",
       "      <td>1</td>\n",
       "      <td>9.0</td>\n",
       "      <td>3.257631</td>\n",
       "    </tr>\n",
       "  </tbody>\n",
       "</table>\n",
       "<p>5 rows × 39 columns</p>\n",
       "</div>"
      ],
      "text/plain": [
       "          Time Abreviacao          Nome       Apelido   Posicao  Número_Jogos  \\\n",
       "0    Palmeiras        PAL          Dudu          Dudu  Atacante             1   \n",
       "1    Palmeiras        PAL         Borja         Borja  Atacante             1   \n",
       "2  Atlético-MG        ATL          Fred          Fred  Atacante             1   \n",
       "3  Ponte Preta        PON  Nino Paraíba  Nino Paraíba   Lateral             1   \n",
       "4        Bahia        BAH         Régis         Régis      Meia             1   \n",
       "\n",
       "    seletor  preco_cartoleta  preco_variacao  Atleta_pontos  \\\n",
       "0  provável            24.12            0.12           10.1   \n",
       "1  provável            22.71            6.71           16.1   \n",
       "2  provável            21.43           -2.57            6.3   \n",
       "3  provável            21.08           14.08           22.8   \n",
       "4  provável            19.45           10.45           18.5   \n",
       "\n",
       "          ...                     Data  Ranking  Ranking_Visitante  \\\n",
       "0         ...           SAB 20/05/2017       2º                 8º   \n",
       "1         ...           SAB 20/05/2017       2º                 8º   \n",
       "2         ...           DOM 21/05/2017      11º                 6º   \n",
       "3         ...           DOM 21/05/2017       2º                16º   \n",
       "4         ...           DOM 21/05/2017       1º                19º   \n",
       "\n",
       "    adversario   hora          local  local2  rodada  preco_cartoleta_antes  \\\n",
       "0  Chapecoense  19:00    Arena Condá    Fora       1                   24.0   \n",
       "1  Chapecoense  19:00    Arena Condá    Fora       1                   16.0   \n",
       "2   Fluminense  16:00  Independência    Casa       1                   24.0   \n",
       "3     Botafogo  18:00       Engenhão    Fora       1                    7.0   \n",
       "4        Vasco  11:00   São Januário    Fora       1                    9.0   \n",
       "\n",
       "   media_pontos_rodada  \n",
       "0             3.257631  \n",
       "1             3.257631  \n",
       "2             3.257631  \n",
       "3             3.257631  \n",
       "4             3.257631  \n",
       "\n",
       "[5 rows x 39 columns]"
      ]
     },
     "execution_count": 243,
     "metadata": {},
     "output_type": "execute_result"
    }
   ],
   "source": [
    "jogaram.head()"
   ]
  },
  {
   "cell_type": "code",
   "execution_count": 244,
   "metadata": {
    "collapsed": false
   },
   "outputs": [],
   "source": [
    "jogaram['razao_pontos'] = (jogaram['Atleta_pontos'] / jogaram['media_pontos_rodada']) - 1\n",
    "jogaram['razao_preco'] = (jogaram['preco_cartoleta'] / jogaram['preco_cartoleta_antes']) -1"
   ]
  },
  {
   "cell_type": "code",
   "execution_count": 246,
   "metadata": {
    "collapsed": false
   },
   "outputs": [
    {
     "data": {
      "text/html": [
       "<div>\n",
       "<table border=\"1\" class=\"dataframe\">\n",
       "  <thead>\n",
       "    <tr style=\"text-align: right;\">\n",
       "      <th></th>\n",
       "      <th>Time</th>\n",
       "      <th>Abreviacao</th>\n",
       "      <th>Nome</th>\n",
       "      <th>Apelido</th>\n",
       "      <th>Posicao</th>\n",
       "      <th>Número_Jogos</th>\n",
       "      <th>seletor</th>\n",
       "      <th>preco_cartoleta</th>\n",
       "      <th>preco_variacao</th>\n",
       "      <th>Atleta_pontos</th>\n",
       "      <th>...</th>\n",
       "      <th>Ranking_Visitante</th>\n",
       "      <th>adversario</th>\n",
       "      <th>hora</th>\n",
       "      <th>local</th>\n",
       "      <th>local2</th>\n",
       "      <th>rodada</th>\n",
       "      <th>preco_cartoleta_antes</th>\n",
       "      <th>media_pontos_rodada</th>\n",
       "      <th>razao_pontos</th>\n",
       "      <th>razao_preco</th>\n",
       "    </tr>\n",
       "  </thead>\n",
       "  <tbody>\n",
       "    <tr>\n",
       "      <th>0</th>\n",
       "      <td>Palmeiras</td>\n",
       "      <td>PAL</td>\n",
       "      <td>Dudu</td>\n",
       "      <td>Dudu</td>\n",
       "      <td>Atacante</td>\n",
       "      <td>1</td>\n",
       "      <td>provável</td>\n",
       "      <td>24.12</td>\n",
       "      <td>0.12</td>\n",
       "      <td>10.1</td>\n",
       "      <td>...</td>\n",
       "      <td>8º</td>\n",
       "      <td>Chapecoense</td>\n",
       "      <td>19:00</td>\n",
       "      <td>Arena Condá</td>\n",
       "      <td>Fora</td>\n",
       "      <td>1</td>\n",
       "      <td>24.0</td>\n",
       "      <td>3.257631</td>\n",
       "      <td>2.100413</td>\n",
       "      <td>0.005000</td>\n",
       "    </tr>\n",
       "    <tr>\n",
       "      <th>1</th>\n",
       "      <td>Palmeiras</td>\n",
       "      <td>PAL</td>\n",
       "      <td>Borja</td>\n",
       "      <td>Borja</td>\n",
       "      <td>Atacante</td>\n",
       "      <td>1</td>\n",
       "      <td>provável</td>\n",
       "      <td>22.71</td>\n",
       "      <td>6.71</td>\n",
       "      <td>16.1</td>\n",
       "      <td>...</td>\n",
       "      <td>8º</td>\n",
       "      <td>Chapecoense</td>\n",
       "      <td>19:00</td>\n",
       "      <td>Arena Condá</td>\n",
       "      <td>Fora</td>\n",
       "      <td>1</td>\n",
       "      <td>16.0</td>\n",
       "      <td>3.257631</td>\n",
       "      <td>3.942242</td>\n",
       "      <td>0.419375</td>\n",
       "    </tr>\n",
       "    <tr>\n",
       "      <th>2</th>\n",
       "      <td>Atlético-MG</td>\n",
       "      <td>ATL</td>\n",
       "      <td>Fred</td>\n",
       "      <td>Fred</td>\n",
       "      <td>Atacante</td>\n",
       "      <td>1</td>\n",
       "      <td>provável</td>\n",
       "      <td>21.43</td>\n",
       "      <td>-2.57</td>\n",
       "      <td>6.3</td>\n",
       "      <td>...</td>\n",
       "      <td>6º</td>\n",
       "      <td>Fluminense</td>\n",
       "      <td>16:00</td>\n",
       "      <td>Independência</td>\n",
       "      <td>Casa</td>\n",
       "      <td>1</td>\n",
       "      <td>24.0</td>\n",
       "      <td>3.257631</td>\n",
       "      <td>0.933921</td>\n",
       "      <td>-0.107083</td>\n",
       "    </tr>\n",
       "    <tr>\n",
       "      <th>3</th>\n",
       "      <td>Ponte Preta</td>\n",
       "      <td>PON</td>\n",
       "      <td>Nino Paraíba</td>\n",
       "      <td>Nino Paraíba</td>\n",
       "      <td>Lateral</td>\n",
       "      <td>1</td>\n",
       "      <td>provável</td>\n",
       "      <td>21.08</td>\n",
       "      <td>14.08</td>\n",
       "      <td>22.8</td>\n",
       "      <td>...</td>\n",
       "      <td>16º</td>\n",
       "      <td>Botafogo</td>\n",
       "      <td>18:00</td>\n",
       "      <td>Engenhão</td>\n",
       "      <td>Fora</td>\n",
       "      <td>1</td>\n",
       "      <td>7.0</td>\n",
       "      <td>3.257631</td>\n",
       "      <td>5.998952</td>\n",
       "      <td>2.011429</td>\n",
       "    </tr>\n",
       "    <tr>\n",
       "      <th>4</th>\n",
       "      <td>Bahia</td>\n",
       "      <td>BAH</td>\n",
       "      <td>Régis</td>\n",
       "      <td>Régis</td>\n",
       "      <td>Meia</td>\n",
       "      <td>1</td>\n",
       "      <td>provável</td>\n",
       "      <td>19.45</td>\n",
       "      <td>10.45</td>\n",
       "      <td>18.5</td>\n",
       "      <td>...</td>\n",
       "      <td>19º</td>\n",
       "      <td>Vasco</td>\n",
       "      <td>11:00</td>\n",
       "      <td>São Januário</td>\n",
       "      <td>Fora</td>\n",
       "      <td>1</td>\n",
       "      <td>9.0</td>\n",
       "      <td>3.257631</td>\n",
       "      <td>4.678974</td>\n",
       "      <td>1.161111</td>\n",
       "    </tr>\n",
       "  </tbody>\n",
       "</table>\n",
       "<p>5 rows × 41 columns</p>\n",
       "</div>"
      ],
      "text/plain": [
       "          Time Abreviacao          Nome       Apelido   Posicao  Número_Jogos  \\\n",
       "0    Palmeiras        PAL          Dudu          Dudu  Atacante             1   \n",
       "1    Palmeiras        PAL         Borja         Borja  Atacante             1   \n",
       "2  Atlético-MG        ATL          Fred          Fred  Atacante             1   \n",
       "3  Ponte Preta        PON  Nino Paraíba  Nino Paraíba   Lateral             1   \n",
       "4        Bahia        BAH         Régis         Régis      Meia             1   \n",
       "\n",
       "    seletor  preco_cartoleta  preco_variacao  Atleta_pontos     ...       \\\n",
       "0  provável            24.12            0.12           10.1     ...        \n",
       "1  provável            22.71            6.71           16.1     ...        \n",
       "2  provável            21.43           -2.57            6.3     ...        \n",
       "3  provável            21.08           14.08           22.8     ...        \n",
       "4  provável            19.45           10.45           18.5     ...        \n",
       "\n",
       "   Ranking_Visitante   adversario   hora          local  local2  rodada  \\\n",
       "0                 8º  Chapecoense  19:00    Arena Condá    Fora       1   \n",
       "1                 8º  Chapecoense  19:00    Arena Condá    Fora       1   \n",
       "2                 6º   Fluminense  16:00  Independência    Casa       1   \n",
       "3                16º     Botafogo  18:00       Engenhão    Fora       1   \n",
       "4                19º        Vasco  11:00   São Januário    Fora       1   \n",
       "\n",
       "   preco_cartoleta_antes  media_pontos_rodada  razao_pontos  razao_preco  \n",
       "0                   24.0             3.257631      2.100413     0.005000  \n",
       "1                   16.0             3.257631      3.942242     0.419375  \n",
       "2                   24.0             3.257631      0.933921    -0.107083  \n",
       "3                    7.0             3.257631      5.998952     2.011429  \n",
       "4                    9.0             3.257631      4.678974     1.161111  \n",
       "\n",
       "[5 rows x 41 columns]"
      ]
     },
     "execution_count": 246,
     "metadata": {},
     "output_type": "execute_result"
    }
   ],
   "source": [
    "jogaram.head()"
   ]
  },
  {
   "cell_type": "code",
   "execution_count": 214,
   "metadata": {
    "collapsed": false
   },
   "outputs": [
    {
     "name": "stderr",
     "output_type": "stream",
     "text": [
      "C:\\Program Files (x86)\\ANACONDA3\\lib\\site-packages\\ipykernel\\__main__.py:1: SettingWithCopyWarning: \n",
      "A value is trying to be set on a copy of a slice from a DataFrame.\n",
      "Try using .loc[row_indexer,col_indexer] = value instead\n",
      "\n",
      "See the caveats in the documentation: http://pandas.pydata.org/pandas-docs/stable/indexing.html#indexing-view-versus-copy\n",
      "  if __name__ == '__main__':\n"
     ]
    }
   ],
   "source": [
    "jogaram['razao_preco_ponto'] = jogaram['razao_pontos'] * jogaram['preco_cartoleta_antes']"
   ]
  },
  {
   "cell_type": "code",
   "execution_count": 247,
   "metadata": {
    "collapsed": false
   },
   "outputs": [
    {
     "data": {
      "text/plain": [
       "<matplotlib.axes._subplots.AxesSubplot at 0x12730198>"
      ]
     },
     "execution_count": 247,
     "metadata": {},
     "output_type": "execute_result"
    },
    {
     "data": {
      "image/png": "[encoded data removed]",
      "text/plain": [
       "<matplotlib.figure.Figure at 0xf089eb8>"
      ]
     },
     "metadata": {},
     "output_type": "display_data"
    }
   ],
   "source": [
    "jogaram.plot('razao_pontos','razao_preco',kind='scatter')"
   ]
  },
  {
   "cell_type": "code",
   "execution_count": 248,
   "metadata": {
    "collapsed": false
   },
   "outputs": [],
   "source": [
    "jogaram['categoria'] = pd.cut(jogaram['preco_cartoleta_antes'], right=True, bins=[0,5,10,15,20,30], labels = [0,1,2,3,4])"
   ]
  },
  {
   "cell_type": "code",
   "execution_count": 249,
   "metadata": {
    "collapsed": false
   },
   "outputs": [
    {
     "data": {
      "text/html": [
       "<div>\n",
       "<table border=\"1\" class=\"dataframe\">\n",
       "  <thead>\n",
       "    <tr style=\"text-align: right;\">\n",
       "      <th></th>\n",
       "      <th>Time</th>\n",
       "      <th>Abreviacao</th>\n",
       "      <th>Nome</th>\n",
       "      <th>Apelido</th>\n",
       "      <th>Posicao</th>\n",
       "      <th>Número_Jogos</th>\n",
       "      <th>seletor</th>\n",
       "      <th>preco_cartoleta</th>\n",
       "      <th>preco_variacao</th>\n",
       "      <th>Atleta_pontos</th>\n",
       "      <th>...</th>\n",
       "      <th>adversario</th>\n",
       "      <th>hora</th>\n",
       "      <th>local</th>\n",
       "      <th>local2</th>\n",
       "      <th>rodada</th>\n",
       "      <th>preco_cartoleta_antes</th>\n",
       "      <th>media_pontos_rodada</th>\n",
       "      <th>razao_pontos</th>\n",
       "      <th>razao_preco</th>\n",
       "      <th>categoria</th>\n",
       "    </tr>\n",
       "  </thead>\n",
       "  <tbody>\n",
       "    <tr>\n",
       "      <th>0</th>\n",
       "      <td>Palmeiras</td>\n",
       "      <td>PAL</td>\n",
       "      <td>Dudu</td>\n",
       "      <td>Dudu</td>\n",
       "      <td>Atacante</td>\n",
       "      <td>1</td>\n",
       "      <td>provável</td>\n",
       "      <td>24.12</td>\n",
       "      <td>0.12</td>\n",
       "      <td>10.1</td>\n",
       "      <td>...</td>\n",
       "      <td>Chapecoense</td>\n",
       "      <td>19:00</td>\n",
       "      <td>Arena Condá</td>\n",
       "      <td>Fora</td>\n",
       "      <td>1</td>\n",
       "      <td>24.0</td>\n",
       "      <td>3.257631</td>\n",
       "      <td>2.100413</td>\n",
       "      <td>0.005000</td>\n",
       "      <td>4</td>\n",
       "    </tr>\n",
       "    <tr>\n",
       "      <th>1</th>\n",
       "      <td>Palmeiras</td>\n",
       "      <td>PAL</td>\n",
       "      <td>Borja</td>\n",
       "      <td>Borja</td>\n",
       "      <td>Atacante</td>\n",
       "      <td>1</td>\n",
       "      <td>provável</td>\n",
       "      <td>22.71</td>\n",
       "      <td>6.71</td>\n",
       "      <td>16.1</td>\n",
       "      <td>...</td>\n",
       "      <td>Chapecoense</td>\n",
       "      <td>19:00</td>\n",
       "      <td>Arena Condá</td>\n",
       "      <td>Fora</td>\n",
       "      <td>1</td>\n",
       "      <td>16.0</td>\n",
       "      <td>3.257631</td>\n",
       "      <td>3.942242</td>\n",
       "      <td>0.419375</td>\n",
       "      <td>3</td>\n",
       "    </tr>\n",
       "    <tr>\n",
       "      <th>2</th>\n",
       "      <td>Atlético-MG</td>\n",
       "      <td>ATL</td>\n",
       "      <td>Fred</td>\n",
       "      <td>Fred</td>\n",
       "      <td>Atacante</td>\n",
       "      <td>1</td>\n",
       "      <td>provável</td>\n",
       "      <td>21.43</td>\n",
       "      <td>-2.57</td>\n",
       "      <td>6.3</td>\n",
       "      <td>...</td>\n",
       "      <td>Fluminense</td>\n",
       "      <td>16:00</td>\n",
       "      <td>Independência</td>\n",
       "      <td>Casa</td>\n",
       "      <td>1</td>\n",
       "      <td>24.0</td>\n",
       "      <td>3.257631</td>\n",
       "      <td>0.933921</td>\n",
       "      <td>-0.107083</td>\n",
       "      <td>4</td>\n",
       "    </tr>\n",
       "    <tr>\n",
       "      <th>3</th>\n",
       "      <td>Ponte Preta</td>\n",
       "      <td>PON</td>\n",
       "      <td>Nino Paraíba</td>\n",
       "      <td>Nino Paraíba</td>\n",
       "      <td>Lateral</td>\n",
       "      <td>1</td>\n",
       "      <td>provável</td>\n",
       "      <td>21.08</td>\n",
       "      <td>14.08</td>\n",
       "      <td>22.8</td>\n",
       "      <td>...</td>\n",
       "      <td>Botafogo</td>\n",
       "      <td>18:00</td>\n",
       "      <td>Engenhão</td>\n",
       "      <td>Fora</td>\n",
       "      <td>1</td>\n",
       "      <td>7.0</td>\n",
       "      <td>3.257631</td>\n",
       "      <td>5.998952</td>\n",
       "      <td>2.011429</td>\n",
       "      <td>1</td>\n",
       "    </tr>\n",
       "    <tr>\n",
       "      <th>4</th>\n",
       "      <td>Bahia</td>\n",
       "      <td>BAH</td>\n",
       "      <td>Régis</td>\n",
       "      <td>Régis</td>\n",
       "      <td>Meia</td>\n",
       "      <td>1</td>\n",
       "      <td>provável</td>\n",
       "      <td>19.45</td>\n",
       "      <td>10.45</td>\n",
       "      <td>18.5</td>\n",
       "      <td>...</td>\n",
       "      <td>Vasco</td>\n",
       "      <td>11:00</td>\n",
       "      <td>São Januário</td>\n",
       "      <td>Fora</td>\n",
       "      <td>1</td>\n",
       "      <td>9.0</td>\n",
       "      <td>3.257631</td>\n",
       "      <td>4.678974</td>\n",
       "      <td>1.161111</td>\n",
       "      <td>1</td>\n",
       "    </tr>\n",
       "  </tbody>\n",
       "</table>\n",
       "<p>5 rows × 42 columns</p>\n",
       "</div>"
      ],
      "text/plain": [
       "          Time Abreviacao          Nome       Apelido   Posicao  Número_Jogos  \\\n",
       "0    Palmeiras        PAL          Dudu          Dudu  Atacante             1   \n",
       "1    Palmeiras        PAL         Borja         Borja  Atacante             1   \n",
       "2  Atlético-MG        ATL          Fred          Fred  Atacante             1   \n",
       "3  Ponte Preta        PON  Nino Paraíba  Nino Paraíba   Lateral             1   \n",
       "4        Bahia        BAH         Régis         Régis      Meia             1   \n",
       "\n",
       "    seletor  preco_cartoleta  preco_variacao  Atleta_pontos    ...      \\\n",
       "0  provável            24.12            0.12           10.1    ...       \n",
       "1  provável            22.71            6.71           16.1    ...       \n",
       "2  provável            21.43           -2.57            6.3    ...       \n",
       "3  provável            21.08           14.08           22.8    ...       \n",
       "4  provável            19.45           10.45           18.5    ...       \n",
       "\n",
       "    adversario   hora          local  local2  rodada  preco_cartoleta_antes  \\\n",
       "0  Chapecoense  19:00    Arena Condá    Fora       1                   24.0   \n",
       "1  Chapecoense  19:00    Arena Condá    Fora       1                   16.0   \n",
       "2   Fluminense  16:00  Independência    Casa       1                   24.0   \n",
       "3     Botafogo  18:00       Engenhão    Fora       1                    7.0   \n",
       "4        Vasco  11:00   São Januário    Fora       1                    9.0   \n",
       "\n",
       "   media_pontos_rodada  razao_pontos  razao_preco  categoria  \n",
       "0             3.257631      2.100413     0.005000          4  \n",
       "1             3.257631      3.942242     0.419375          3  \n",
       "2             3.257631      0.933921    -0.107083          4  \n",
       "3             3.257631      5.998952     2.011429          1  \n",
       "4             3.257631      4.678974     1.161111          1  \n",
       "\n",
       "[5 rows x 42 columns]"
      ]
     },
     "execution_count": 249,
     "metadata": {},
     "output_type": "execute_result"
    }
   ],
   "source": [
    "jogaram.head()"
   ]
  },
  {
   "cell_type": "code",
   "execution_count": 250,
   "metadata": {
    "collapsed": false
   },
   "outputs": [
    {
     "data": {
      "text/plain": [
       "[4, 3, 1, 2, 0]"
      ]
     },
     "execution_count": 250,
     "metadata": {},
     "output_type": "execute_result"
    }
   ],
   "source": [
    "from sklearn import linear_model\n",
    "\n",
    "jogaram = jogaram[jogaram.categoria.isnull() == False]\n",
    "categorias = list(jogaram.categoria.unique())\n",
    "categorias"
   ]
  },
  {
   "cell_type": "code",
   "execution_count": 251,
   "metadata": {
    "collapsed": false
   },
   "outputs": [
    {
     "name": "stdout",
     "output_type": "stream",
     "text": [
      "0\n"
     ]
    },
    {
     "name": "stderr",
     "output_type": "stream",
     "text": [
      "C:\\Program Files (x86)\\ANACONDA3\\lib\\site-packages\\ipykernel\\__main__.py:6: SettingWithCopyWarning: \n",
      "A value is trying to be set on a copy of a slice from a DataFrame.\n",
      "Try using .loc[row_indexer,col_indexer] = value instead\n",
      "\n",
      "See the caveats in the documentation: http://pandas.pydata.org/pandas-docs/stable/indexing.html#indexing-view-versus-copy\n"
     ]
    },
    {
     "name": "stdout",
     "output_type": "stream",
     "text": [
      "1\n",
      "2\n",
      "3\n",
      "4\n"
     ]
    }
   ],
   "source": [
    "modelos = []\n",
    "\n",
    "for cat in [0,1,2,3,4]:\n",
    "    print(cat)\n",
    "    frame = jogaram[jogaram.categoria == cat]\n",
    "    frame['coef'] = 1.\n",
    "    X = frame[['coef','razao_pontos']]\n",
    "    y = frame['razao_preco']\n",
    "    reg = linear_model.LinearRegression(fit_intercept=False)\n",
    "    reg.fit(X,y)\n",
    "    modelos.append({'cat': cat, 'modelo': reg})\n",
    "    "
   ]
  },
  {
   "cell_type": "code",
   "execution_count": 252,
   "metadata": {
    "collapsed": false
   },
   "outputs": [
    {
     "data": {
      "image/png": "[encoded data removed]",
      "text/plain": [
       "<matplotlib.figure.Figure at 0x12908da0>"
      ]
     },
     "metadata": {},
     "output_type": "display_data"
    }
   ],
   "source": [
    "fig , axes = plt.subplots(nrows=5, ncols=1, figsize=(12,15))\n",
    "\n",
    "\n",
    "for i,ax in enumerate(axes.flatten()):\n",
    "    frame = jogaram[jogaram['categoria'] == i]\n",
    "    ax.scatter(x= frame['razao_pontos'], y=frame['razao_preco'], c = 'blue' )\n",
    "    a , b = modelos[i]['modelo'].coef_\n",
    "    f = lambda x: b*x + a\n",
    "    x = np.array([frame.razao_pontos.min(),frame.razao_pontos.max()])\n",
    "    ax.plot(x,f(x),lw=2.5, c=\"r\")\n",
    "    ax.set_title(\"y = {0:.3f} + {1:.3f}x\".format(a, b))"
   ]
  },
  {
   "cell_type": "code",
   "execution_count": 253,
   "metadata": {
    "collapsed": false
   },
   "outputs": [
    {
     "data": {
      "text/plain": [
       "array([ 0.22995565,  0.32314555])"
      ]
     },
     "execution_count": 253,
     "metadata": {},
     "output_type": "execute_result"
    }
   ],
   "source": [
    "modelos[0]['modelo'].coef_"
   ]
  },
  {
   "cell_type": "code",
   "execution_count": 151,
   "metadata": {
    "collapsed": false
   },
   "outputs": [
    {
     "data": {
      "text/plain": [
       "array([-0.10144922,  3.47600575])"
      ]
     },
     "execution_count": 151,
     "metadata": {},
     "output_type": "execute_result"
    }
   ],
   "source": [
    "np.dot(np.linalg.inv(np.dot(X.transpose(),X)),np.dot(X.transpose(),y))"
   ]
  },
  {
   "cell_type": "code",
   "execution_count": null,
   "metadata": {
    "collapsed": true
   },
   "outputs": [],
   "source": []
  }
 ],
 "metadata": {
  "kernelspec": {
   "display_name": "Python [Root]",
   "language": "python",
   "name": "Python [Root]"
  },
  "language_info": {
   "codemirror_mode": {
    "name": "ipython",
    "version": 3
   },
   "file_extension": ".py",
   "mimetype": "text/x-python",
   "name": "python",
   "nbconvert_exporter": "python",
   "pygments_lexer": "ipython3",
   "version": "3.5.2"
  }
 },
 "nbformat": 4,
 "nbformat_minor": 0
}
