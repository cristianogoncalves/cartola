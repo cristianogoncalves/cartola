{
 "cells": [
  {
   "cell_type": "code",
   "execution_count": 52,
   "metadata": {
    "collapsed": false
   },
   "outputs": [
    {
     "name": "stdout",
     "output_type": "stream",
     "text": [
      "Populating the interactive namespace from numpy and matplotlib\n"
     ]
    }
   ],
   "source": [
    "import pandas as pd\n",
    "import numpy as np\n",
    "import scipy.stats as stats\n",
    "import matplotlib.pyplot as plt\n",
    "%pylab inline\n",
    "import re"
   ]
  },
  {
   "cell_type": "code",
   "execution_count": 53,
   "metadata": {
    "collapsed": true
   },
   "outputs": [],
   "source": [
    "nrodada = 12"
   ]
  },
  {
   "cell_type": "code",
   "execution_count": 3,
   "metadata": {
    "collapsed": false
   },
   "outputs": [],
   "source": [
    "planilhas = pd.read_excel(r'.\\Excel\\1rodada.xlsx')\n",
    "planilhas['rodada'] = 1\n",
    "for i in range(2,nrodada+1):\n",
    "    x = pd.read_pickle(r'.\\Isoladas\\{}rodada_isolada.pkl'.format(i))\n",
    "    x['rodada'] = i\n",
    "    planilhas = pd.concat([planilhas,x],axis=0)"
   ]
  },
  {
   "cell_type": "code",
   "execution_count": 4,
   "metadata": {
    "collapsed": false
   },
   "outputs": [
    {
     "data": {
      "text/plain": [
       "Index(['Time', 'Abreviacao', 'Nome', 'Apelido', 'Posicao', 'Número_Jogos',\n",
       "       'seletor', 'preco_cartoleta', 'preco_variacao', 'Atleta_pontos',\n",
       "       'Atleta_média', 'Gol', 'Assistência', 'Finalização_na_trave',\n",
       "       'Finalização_pra_fora', 'Roubada_de_bola', 'Passe_errado',\n",
       "       'Falta_cometida', 'Pênalti_perdido', 'Gol_contra', 'Falta_sofrida',\n",
       "       'Impedimento', 'Cartão_amarelo', 'Cartão_vermelho', 'Defesa_de_pênalti',\n",
       "       'Jogos_sem_sofrer_gols', 'Finalização_defendida', 'Defesa_difícil',\n",
       "       'Gol_sofrido', 'Data', 'Ranking', 'Ranking_Visitante', 'adversario',\n",
       "       'hora', 'local', 'local2', 'rodada'],\n",
       "      dtype='object')"
      ]
     },
     "execution_count": 4,
     "metadata": {},
     "output_type": "execute_result"
    }
   ],
   "source": [
    "planilhas.columns"
   ]
  },
  {
   "cell_type": "code",
   "execution_count": 5,
   "metadata": {
    "collapsed": true
   },
   "outputs": [],
   "source": [
    "colunas = ['Time', 'Abreviacao', 'Nome', 'Apelido', 'Posicao', 'Número_Jogos',\n",
    "           'seletor', 'preco_cartoleta', 'preco_variacao', 'Atleta_pontos',\n",
    "           'Atleta_média', 'Gol', 'Assistência', 'Finalização_na_trave',\n",
    "           'Finalização_pra_fora', 'Roubada_de_bola', 'Passe_errado',\n",
    "           'Falta_cometida', 'Pênalti_perdido', 'Gol_contra', 'Falta_sofrida',\n",
    "           'Impedimento', 'Cartão_amarelo', 'Cartão_vermelho', 'Defesa_de_pênalti',\n",
    "           'Jogos_sem_sofrer_gols', 'Finalização_defendida', 'Defesa_difícil','Gol_sofrido','rodada']\n",
    "\n",
    "planilhas = planilhas[colunas]"
   ]
  },
  {
   "cell_type": "code",
   "execution_count": 6,
   "metadata": {
    "collapsed": false
   },
   "outputs": [
    {
     "data": {
      "text/html": [
       "<div>\n",
       "<table border=\"1\" class=\"dataframe\">\n",
       "  <thead>\n",
       "    <tr style=\"text-align: right;\">\n",
       "      <th></th>\n",
       "      <th>Gol</th>\n",
       "      <th>Assistência</th>\n",
       "      <th>Finalização_na_trave</th>\n",
       "      <th>Finalização_pra_fora</th>\n",
       "      <th>Roubada_de_bola</th>\n",
       "      <th>Passe_errado</th>\n",
       "      <th>Falta_cometida</th>\n",
       "      <th>Pênalti_perdido</th>\n",
       "      <th>Gol_contra</th>\n",
       "      <th>Falta_sofrida</th>\n",
       "      <th>Impedimento</th>\n",
       "      <th>Cartão_amarelo</th>\n",
       "      <th>Cartão_vermelho</th>\n",
       "      <th>Defesa_de_pênalti</th>\n",
       "      <th>Jogos_sem_sofrer_gols</th>\n",
       "      <th>Finalização_defendida</th>\n",
       "      <th>Defesa_difícil</th>\n",
       "      <th>Gol_sofrido</th>\n",
       "      <th>rodada</th>\n",
       "    </tr>\n",
       "  </thead>\n",
       "  <tbody>\n",
       "    <tr>\n",
       "      <th>count</th>\n",
       "      <td>9709.000000</td>\n",
       "      <td>9709.000000</td>\n",
       "      <td>9709.000000</td>\n",
       "      <td>9709.000000</td>\n",
       "      <td>9709.000000</td>\n",
       "      <td>9709.000000</td>\n",
       "      <td>9709.000000</td>\n",
       "      <td>9709.000000</td>\n",
       "      <td>9709.000000</td>\n",
       "      <td>9709.000000</td>\n",
       "      <td>9709.000000</td>\n",
       "      <td>9709.000000</td>\n",
       "      <td>9709.000000</td>\n",
       "      <td>9709.000000</td>\n",
       "      <td>9709.000000</td>\n",
       "      <td>9709.000000</td>\n",
       "      <td>9709.000000</td>\n",
       "      <td>9709.000000</td>\n",
       "      <td>9709.000000</td>\n",
       "    </tr>\n",
       "    <tr>\n",
       "      <th>mean</th>\n",
       "      <td>0.029560</td>\n",
       "      <td>0.021526</td>\n",
       "      <td>0.004429</td>\n",
       "      <td>0.114739</td>\n",
       "      <td>0.331754</td>\n",
       "      <td>0.802039</td>\n",
       "      <td>0.386858</td>\n",
       "      <td>0.001339</td>\n",
       "      <td>0.000309</td>\n",
       "      <td>0.365125</td>\n",
       "      <td>0.045731</td>\n",
       "      <td>0.054074</td>\n",
       "      <td>0.002575</td>\n",
       "      <td>0.000927</td>\n",
       "      <td>0.046864</td>\n",
       "      <td>0.081677</td>\n",
       "      <td>0.037800</td>\n",
       "      <td>0.029766</td>\n",
       "      <td>6.556288</td>\n",
       "    </tr>\n",
       "    <tr>\n",
       "      <th>std</th>\n",
       "      <td>0.190557</td>\n",
       "      <td>0.154756</td>\n",
       "      <td>0.067939</td>\n",
       "      <td>0.397015</td>\n",
       "      <td>0.839415</td>\n",
       "      <td>1.630706</td>\n",
       "      <td>0.894690</td>\n",
       "      <td>0.036569</td>\n",
       "      <td>0.017576</td>\n",
       "      <td>0.901552</td>\n",
       "      <td>0.251836</td>\n",
       "      <td>0.226174</td>\n",
       "      <td>0.050681</td>\n",
       "      <td>0.030434</td>\n",
       "      <td>0.211845</td>\n",
       "      <td>0.341208</td>\n",
       "      <td>0.327482</td>\n",
       "      <td>0.267448</td>\n",
       "      <td>3.445534</td>\n",
       "    </tr>\n",
       "    <tr>\n",
       "      <th>min</th>\n",
       "      <td>0.000000</td>\n",
       "      <td>0.000000</td>\n",
       "      <td>0.000000</td>\n",
       "      <td>0.000000</td>\n",
       "      <td>0.000000</td>\n",
       "      <td>0.000000</td>\n",
       "      <td>0.000000</td>\n",
       "      <td>0.000000</td>\n",
       "      <td>0.000000</td>\n",
       "      <td>0.000000</td>\n",
       "      <td>0.000000</td>\n",
       "      <td>0.000000</td>\n",
       "      <td>0.000000</td>\n",
       "      <td>0.000000</td>\n",
       "      <td>-1.000000</td>\n",
       "      <td>0.000000</td>\n",
       "      <td>0.000000</td>\n",
       "      <td>0.000000</td>\n",
       "      <td>1.000000</td>\n",
       "    </tr>\n",
       "    <tr>\n",
       "      <th>25%</th>\n",
       "      <td>0.000000</td>\n",
       "      <td>0.000000</td>\n",
       "      <td>0.000000</td>\n",
       "      <td>0.000000</td>\n",
       "      <td>0.000000</td>\n",
       "      <td>0.000000</td>\n",
       "      <td>0.000000</td>\n",
       "      <td>0.000000</td>\n",
       "      <td>0.000000</td>\n",
       "      <td>0.000000</td>\n",
       "      <td>0.000000</td>\n",
       "      <td>0.000000</td>\n",
       "      <td>0.000000</td>\n",
       "      <td>0.000000</td>\n",
       "      <td>0.000000</td>\n",
       "      <td>0.000000</td>\n",
       "      <td>0.000000</td>\n",
       "      <td>0.000000</td>\n",
       "      <td>4.000000</td>\n",
       "    </tr>\n",
       "    <tr>\n",
       "      <th>50%</th>\n",
       "      <td>0.000000</td>\n",
       "      <td>0.000000</td>\n",
       "      <td>0.000000</td>\n",
       "      <td>0.000000</td>\n",
       "      <td>0.000000</td>\n",
       "      <td>0.000000</td>\n",
       "      <td>0.000000</td>\n",
       "      <td>0.000000</td>\n",
       "      <td>0.000000</td>\n",
       "      <td>0.000000</td>\n",
       "      <td>0.000000</td>\n",
       "      <td>0.000000</td>\n",
       "      <td>0.000000</td>\n",
       "      <td>0.000000</td>\n",
       "      <td>0.000000</td>\n",
       "      <td>0.000000</td>\n",
       "      <td>0.000000</td>\n",
       "      <td>0.000000</td>\n",
       "      <td>7.000000</td>\n",
       "    </tr>\n",
       "    <tr>\n",
       "      <th>75%</th>\n",
       "      <td>0.000000</td>\n",
       "      <td>0.000000</td>\n",
       "      <td>0.000000</td>\n",
       "      <td>0.000000</td>\n",
       "      <td>0.000000</td>\n",
       "      <td>1.000000</td>\n",
       "      <td>0.000000</td>\n",
       "      <td>0.000000</td>\n",
       "      <td>0.000000</td>\n",
       "      <td>0.000000</td>\n",
       "      <td>0.000000</td>\n",
       "      <td>0.000000</td>\n",
       "      <td>0.000000</td>\n",
       "      <td>0.000000</td>\n",
       "      <td>0.000000</td>\n",
       "      <td>0.000000</td>\n",
       "      <td>0.000000</td>\n",
       "      <td>0.000000</td>\n",
       "      <td>10.000000</td>\n",
       "    </tr>\n",
       "    <tr>\n",
       "      <th>max</th>\n",
       "      <td>3.000000</td>\n",
       "      <td>4.000000</td>\n",
       "      <td>2.000000</td>\n",
       "      <td>5.000000</td>\n",
       "      <td>8.000000</td>\n",
       "      <td>13.000000</td>\n",
       "      <td>10.000000</td>\n",
       "      <td>1.000000</td>\n",
       "      <td>1.000000</td>\n",
       "      <td>10.000000</td>\n",
       "      <td>4.000000</td>\n",
       "      <td>1.000000</td>\n",
       "      <td>1.000000</td>\n",
       "      <td>1.000000</td>\n",
       "      <td>1.000000</td>\n",
       "      <td>6.000000</td>\n",
       "      <td>7.000000</td>\n",
       "      <td>6.000000</td>\n",
       "      <td>12.000000</td>\n",
       "    </tr>\n",
       "  </tbody>\n",
       "</table>\n",
       "</div>"
      ],
      "text/plain": [
       "               Gol  Assistência  Finalização_na_trave  Finalização_pra_fora  \\\n",
       "count  9709.000000  9709.000000           9709.000000           9709.000000   \n",
       "mean      0.029560     0.021526              0.004429              0.114739   \n",
       "std       0.190557     0.154756              0.067939              0.397015   \n",
       "min       0.000000     0.000000              0.000000              0.000000   \n",
       "25%       0.000000     0.000000              0.000000              0.000000   \n",
       "50%       0.000000     0.000000              0.000000              0.000000   \n",
       "75%       0.000000     0.000000              0.000000              0.000000   \n",
       "max       3.000000     4.000000              2.000000              5.000000   \n",
       "\n",
       "       Roubada_de_bola  Passe_errado  Falta_cometida  Pênalti_perdido  \\\n",
       "count      9709.000000   9709.000000     9709.000000      9709.000000   \n",
       "mean          0.331754      0.802039        0.386858         0.001339   \n",
       "std           0.839415      1.630706        0.894690         0.036569   \n",
       "min           0.000000      0.000000        0.000000         0.000000   \n",
       "25%           0.000000      0.000000        0.000000         0.000000   \n",
       "50%           0.000000      0.000000        0.000000         0.000000   \n",
       "75%           0.000000      1.000000        0.000000         0.000000   \n",
       "max           8.000000     13.000000       10.000000         1.000000   \n",
       "\n",
       "        Gol_contra  Falta_sofrida  Impedimento  Cartão_amarelo  \\\n",
       "count  9709.000000    9709.000000  9709.000000     9709.000000   \n",
       "mean      0.000309       0.365125     0.045731        0.054074   \n",
       "std       0.017576       0.901552     0.251836        0.226174   \n",
       "min       0.000000       0.000000     0.000000        0.000000   \n",
       "25%       0.000000       0.000000     0.000000        0.000000   \n",
       "50%       0.000000       0.000000     0.000000        0.000000   \n",
       "75%       0.000000       0.000000     0.000000        0.000000   \n",
       "max       1.000000      10.000000     4.000000        1.000000   \n",
       "\n",
       "       Cartão_vermelho  Defesa_de_pênalti  Jogos_sem_sofrer_gols  \\\n",
       "count      9709.000000        9709.000000            9709.000000   \n",
       "mean          0.002575           0.000927               0.046864   \n",
       "std           0.050681           0.030434               0.211845   \n",
       "min           0.000000           0.000000              -1.000000   \n",
       "25%           0.000000           0.000000               0.000000   \n",
       "50%           0.000000           0.000000               0.000000   \n",
       "75%           0.000000           0.000000               0.000000   \n",
       "max           1.000000           1.000000               1.000000   \n",
       "\n",
       "       Finalização_defendida  Defesa_difícil  Gol_sofrido       rodada  \n",
       "count            9709.000000     9709.000000  9709.000000  9709.000000  \n",
       "mean                0.081677        0.037800     0.029766     6.556288  \n",
       "std                 0.341208        0.327482     0.267448     3.445534  \n",
       "min                 0.000000        0.000000     0.000000     1.000000  \n",
       "25%                 0.000000        0.000000     0.000000     4.000000  \n",
       "50%                 0.000000        0.000000     0.000000     7.000000  \n",
       "75%                 0.000000        0.000000     0.000000    10.000000  \n",
       "max                 6.000000        7.000000     6.000000    12.000000  "
      ]
     },
     "execution_count": 6,
     "metadata": {},
     "output_type": "execute_result"
    }
   ],
   "source": [
    "planilhas[['Gol', 'Assistência', 'Finalização_na_trave',\n",
    "           'Finalização_pra_fora', 'Roubada_de_bola', 'Passe_errado',\n",
    "           'Falta_cometida', 'Pênalti_perdido', 'Gol_contra', 'Falta_sofrida',\n",
    "           'Impedimento', 'Cartão_amarelo', 'Cartão_vermelho', 'Defesa_de_pênalti',\n",
    "           'Jogos_sem_sofrer_gols', 'Finalização_defendida', 'Defesa_difícil','Gol_sofrido','rodada']].describe()"
   ]
  },
  {
   "cell_type": "code",
   "execution_count": 7,
   "metadata": {
    "collapsed": false
   },
   "outputs": [
    {
     "data": {
      "text/html": [
       "<div>\n",
       "<table border=\"1\" class=\"dataframe\">\n",
       "  <thead>\n",
       "    <tr style=\"text-align: right;\">\n",
       "      <th></th>\n",
       "      <th>Time</th>\n",
       "      <th>Abreviacao</th>\n",
       "      <th>Nome</th>\n",
       "      <th>Apelido</th>\n",
       "      <th>Posicao</th>\n",
       "      <th>Número_Jogos</th>\n",
       "      <th>seletor</th>\n",
       "      <th>preco_cartoleta</th>\n",
       "      <th>preco_variacao</th>\n",
       "      <th>Atleta_pontos</th>\n",
       "      <th>...</th>\n",
       "      <th>Falta_sofrida</th>\n",
       "      <th>Impedimento</th>\n",
       "      <th>Cartão_amarelo</th>\n",
       "      <th>Cartão_vermelho</th>\n",
       "      <th>Defesa_de_pênalti</th>\n",
       "      <th>Jogos_sem_sofrer_gols</th>\n",
       "      <th>Finalização_defendida</th>\n",
       "      <th>Defesa_difícil</th>\n",
       "      <th>Gol_sofrido</th>\n",
       "      <th>rodada</th>\n",
       "    </tr>\n",
       "  </thead>\n",
       "  <tbody>\n",
       "    <tr>\n",
       "      <th>266</th>\n",
       "      <td>São Paulo</td>\n",
       "      <td>SAO</td>\n",
       "      <td>Sidão</td>\n",
       "      <td>Sidão</td>\n",
       "      <td>Goleiro</td>\n",
       "      <td>0</td>\n",
       "      <td>Nulo</td>\n",
       "      <td>6.25</td>\n",
       "      <td>0.0</td>\n",
       "      <td>0.0</td>\n",
       "      <td>...</td>\n",
       "      <td>0.0</td>\n",
       "      <td>0.0</td>\n",
       "      <td>0.0</td>\n",
       "      <td>0.0</td>\n",
       "      <td>0.0</td>\n",
       "      <td>-1.0</td>\n",
       "      <td>0.0</td>\n",
       "      <td>0.0</td>\n",
       "      <td>0.0</td>\n",
       "      <td>4</td>\n",
       "    </tr>\n",
       "  </tbody>\n",
       "</table>\n",
       "<p>1 rows × 30 columns</p>\n",
       "</div>"
      ],
      "text/plain": [
       "          Time Abreviacao   Nome Apelido  Posicao  Número_Jogos seletor  \\\n",
       "266  São Paulo        SAO  Sidão   Sidão  Goleiro             0    Nulo   \n",
       "\n",
       "     preco_cartoleta  preco_variacao  Atleta_pontos   ...    Falta_sofrida  \\\n",
       "266             6.25             0.0            0.0   ...              0.0   \n",
       "\n",
       "     Impedimento  Cartão_amarelo  Cartão_vermelho  Defesa_de_pênalti  \\\n",
       "266          0.0             0.0              0.0                0.0   \n",
       "\n",
       "     Jogos_sem_sofrer_gols  Finalização_defendida  Defesa_difícil  \\\n",
       "266                   -1.0                    0.0             0.0   \n",
       "\n",
       "     Gol_sofrido  rodada  \n",
       "266          0.0       4  \n",
       "\n",
       "[1 rows x 30 columns]"
      ]
     },
     "execution_count": 7,
     "metadata": {},
     "output_type": "execute_result"
    }
   ],
   "source": [
    "planilhas[planilhas['Jogos_sem_sofrer_gols'] == -1]"
   ]
  },
  {
   "cell_type": "markdown",
   "metadata": {},
   "source": [
    "# Inclusão se o jogo foi em casa ou fora"
   ]
  },
  {
   "cell_type": "code",
   "execution_count": 8,
   "metadata": {
    "collapsed": false
   },
   "outputs": [],
   "source": [
    "resultados = pd.read_excel(r'.\\Excel\\resultados.xlsx')\n",
    "resultados['nrodada'] = resultados.rodada.apply(lambda x: int(re.findall('\\d+',x)[0]))\n",
    "time = resultados.Mandante.unique()\n",
    "\n",
    "def casa_fora(df, time):\n",
    "    return len(df[df['Mandante'] == time])\n",
    "\n",
    "relacao_jogos = {}\n",
    "for i in range(1,nrodada+1):\n",
    "    frame = resultados[resultados.nrodada == i]\n",
    "    \n",
    "    relacao_jogos[i] = {t : casa_fora(frame,t) for t in time}"
   ]
  },
  {
   "cell_type": "code",
   "execution_count": 9,
   "metadata": {
    "collapsed": false
   },
   "outputs": [],
   "source": [
    "planilhas['Local'] = planilhas.apply(lambda x: relacao_jogos[x.rodada][x.Time],axis=1)\n",
    "planilhas['Local'] = planilhas['Local'].map({1: 'Casa',0: 'Fora'})"
   ]
  },
  {
   "cell_type": "code",
   "execution_count": 10,
   "metadata": {
    "collapsed": true
   },
   "outputs": [],
   "source": [
    "campos_media = ['Gol', 'Assistência', 'Finalização_na_trave', 'Finalização_pra_fora', 'Roubada_de_bola', 'Passe_errado',\n",
    "                'Falta_cometida', 'Pênalti_perdido', 'Gol_contra', 'Falta_sofrida','Impedimento', 'Cartão_amarelo',\n",
    "                'Cartão_vermelho', 'Defesa_de_pênalti','Jogos_sem_sofrer_gols', 'Finalização_defendida',\n",
    "                'Defesa_difícil', 'Gol_sofrido']"
   ]
  },
  {
   "cell_type": "code",
   "execution_count": 11,
   "metadata": {
    "collapsed": false
   },
   "outputs": [],
   "source": [
    "planilhas['TotalQuesitos'] = planilhas[campos_media].sum(axis=1)\n",
    "planilhas = planilhas[planilhas['TotalQuesitos'] != 0]\n",
    "planilhas.reset_index(inplace=True)\n",
    "planilhas.drop(['index','TotalQuesitos'],axis=1, inplace=True)"
   ]
  },
  {
   "cell_type": "code",
   "execution_count": 12,
   "metadata": {
    "collapsed": false
   },
   "outputs": [
    {
     "name": "stdout",
     "output_type": "stream",
     "text": [
      "Qtde de Informações: 3277\n"
     ]
    }
   ],
   "source": [
    "print('Qtde de Informações: {}'.format(len(planilhas)))"
   ]
  },
  {
   "cell_type": "code",
   "execution_count": 13,
   "metadata": {
    "collapsed": false
   },
   "outputs": [],
   "source": [
    "#dict_time = {'Atlético-MG':'AtléticoMG','Atlético-GO':'AtléticoGO','Atlético-PR':'AtléticoPR'}\n",
    "#planilhas['Time'] = planilhas['Time'].apply(lambda x: dict_time.get(x,x))\n",
    "planilhas['chave'] = planilhas.apply(lambda x: '{}_{}_{}'.format(x['Time'],x['Apelido'],x['Posicao']),axis=1)"
   ]
  },
  {
   "cell_type": "code",
   "execution_count": 14,
   "metadata": {
    "collapsed": false
   },
   "outputs": [],
   "source": [
    "medias = []\n",
    "\n",
    "for jogador in planilhas.chave.unique():\n",
    "    for local in ['Casa','Fora']:\n",
    "        r = planilhas[(planilhas.chave == jogador) & (planilhas.Local == local)].mean(axis=0)[campos_media]\n",
    "        r['jogador'] = jogador\n",
    "        r['local'] = local\n",
    "        r = pd.DataFrame(r).transpose()\n",
    "        medias.append(r)\n",
    "    "
   ]
  },
  {
   "cell_type": "code",
   "execution_count": 15,
   "metadata": {
    "collapsed": false
   },
   "outputs": [],
   "source": [
    "df2 = medias[0]\n",
    "for i in range(1,len(medias)):\n",
    "    df2 = pd.concat([df2,medias[i]],axis=0)"
   ]
  },
  {
   "cell_type": "code",
   "execution_count": 16,
   "metadata": {
    "collapsed": false
   },
   "outputs": [],
   "source": [
    "df2.fillna(0,inplace=True)"
   ]
  },
  {
   "cell_type": "code",
   "execution_count": 17,
   "metadata": {
    "collapsed": false
   },
   "outputs": [],
   "source": [
    "df2['Time'] = df2['jogador'].apply(lambda x: x.split('_')[0])\n",
    "df2['Jogador'] = df2['jogador'].apply(lambda x: x.split('_')[1])\n",
    "df2['Posicao'] = df2['jogador'].apply(lambda x: x.split('_')[2])"
   ]
  },
  {
   "cell_type": "code",
   "execution_count": 18,
   "metadata": {
    "collapsed": false
   },
   "outputs": [
    {
     "data": {
      "text/html": [
       "<div>\n",
       "<table border=\"1\" class=\"dataframe\">\n",
       "  <thead>\n",
       "    <tr style=\"text-align: right;\">\n",
       "      <th></th>\n",
       "      <th>Gol</th>\n",
       "      <th>Assistência</th>\n",
       "      <th>Finalização_na_trave</th>\n",
       "      <th>Finalização_pra_fora</th>\n",
       "      <th>Roubada_de_bola</th>\n",
       "      <th>Passe_errado</th>\n",
       "      <th>Falta_cometida</th>\n",
       "      <th>Pênalti_perdido</th>\n",
       "      <th>Gol_contra</th>\n",
       "      <th>Falta_sofrida</th>\n",
       "      <th>...</th>\n",
       "      <th>Defesa_de_pênalti</th>\n",
       "      <th>Jogos_sem_sofrer_gols</th>\n",
       "      <th>Finalização_defendida</th>\n",
       "      <th>Defesa_difícil</th>\n",
       "      <th>Gol_sofrido</th>\n",
       "      <th>jogador</th>\n",
       "      <th>local</th>\n",
       "      <th>Time</th>\n",
       "      <th>Jogador</th>\n",
       "      <th>Posicao</th>\n",
       "    </tr>\n",
       "  </thead>\n",
       "  <tbody>\n",
       "    <tr>\n",
       "      <th>0</th>\n",
       "      <td>0.00</td>\n",
       "      <td>0.0</td>\n",
       "      <td>0.0</td>\n",
       "      <td>0.50</td>\n",
       "      <td>2.50</td>\n",
       "      <td>2.000000</td>\n",
       "      <td>0.000000</td>\n",
       "      <td>0.0</td>\n",
       "      <td>0.0</td>\n",
       "      <td>7.0</td>\n",
       "      <td>...</td>\n",
       "      <td>0.0</td>\n",
       "      <td>0.0</td>\n",
       "      <td>0.5</td>\n",
       "      <td>0.0</td>\n",
       "      <td>0.0</td>\n",
       "      <td>Palmeiras_Dudu_Atacante</td>\n",
       "      <td>Casa</td>\n",
       "      <td>Palmeiras</td>\n",
       "      <td>Dudu</td>\n",
       "      <td>Atacante</td>\n",
       "    </tr>\n",
       "    <tr>\n",
       "      <th>0</th>\n",
       "      <td>0.00</td>\n",
       "      <td>0.0</td>\n",
       "      <td>0.0</td>\n",
       "      <td>0.00</td>\n",
       "      <td>0.00</td>\n",
       "      <td>3.333333</td>\n",
       "      <td>0.666667</td>\n",
       "      <td>0.0</td>\n",
       "      <td>0.0</td>\n",
       "      <td>1.0</td>\n",
       "      <td>...</td>\n",
       "      <td>0.0</td>\n",
       "      <td>0.0</td>\n",
       "      <td>0.0</td>\n",
       "      <td>0.0</td>\n",
       "      <td>0.0</td>\n",
       "      <td>Palmeiras_Dudu_Atacante</td>\n",
       "      <td>Fora</td>\n",
       "      <td>Palmeiras</td>\n",
       "      <td>Dudu</td>\n",
       "      <td>Atacante</td>\n",
       "    </tr>\n",
       "    <tr>\n",
       "      <th>0</th>\n",
       "      <td>0.75</td>\n",
       "      <td>0.0</td>\n",
       "      <td>0.0</td>\n",
       "      <td>1.25</td>\n",
       "      <td>0.25</td>\n",
       "      <td>1.250000</td>\n",
       "      <td>1.500000</td>\n",
       "      <td>0.0</td>\n",
       "      <td>0.0</td>\n",
       "      <td>2.0</td>\n",
       "      <td>...</td>\n",
       "      <td>0.0</td>\n",
       "      <td>0.0</td>\n",
       "      <td>0.5</td>\n",
       "      <td>0.0</td>\n",
       "      <td>0.0</td>\n",
       "      <td>Palmeiras_Borja_Atacante</td>\n",
       "      <td>Casa</td>\n",
       "      <td>Palmeiras</td>\n",
       "      <td>Borja</td>\n",
       "      <td>Atacante</td>\n",
       "    </tr>\n",
       "    <tr>\n",
       "      <th>0</th>\n",
       "      <td>0.00</td>\n",
       "      <td>0.0</td>\n",
       "      <td>0.0</td>\n",
       "      <td>0.50</td>\n",
       "      <td>0.00</td>\n",
       "      <td>0.500000</td>\n",
       "      <td>1.000000</td>\n",
       "      <td>0.0</td>\n",
       "      <td>0.0</td>\n",
       "      <td>0.5</td>\n",
       "      <td>...</td>\n",
       "      <td>0.0</td>\n",
       "      <td>0.0</td>\n",
       "      <td>0.0</td>\n",
       "      <td>0.0</td>\n",
       "      <td>0.0</td>\n",
       "      <td>Palmeiras_Borja_Atacante</td>\n",
       "      <td>Fora</td>\n",
       "      <td>Palmeiras</td>\n",
       "      <td>Borja</td>\n",
       "      <td>Atacante</td>\n",
       "    </tr>\n",
       "    <tr>\n",
       "      <th>0</th>\n",
       "      <td>0.80</td>\n",
       "      <td>0.0</td>\n",
       "      <td>0.0</td>\n",
       "      <td>0.60</td>\n",
       "      <td>0.40</td>\n",
       "      <td>2.600000</td>\n",
       "      <td>2.000000</td>\n",
       "      <td>0.0</td>\n",
       "      <td>0.0</td>\n",
       "      <td>2.6</td>\n",
       "      <td>...</td>\n",
       "      <td>0.0</td>\n",
       "      <td>0.0</td>\n",
       "      <td>0.4</td>\n",
       "      <td>0.0</td>\n",
       "      <td>0.0</td>\n",
       "      <td>Atlético-MG_Fred_Atacante</td>\n",
       "      <td>Casa</td>\n",
       "      <td>Atlético-MG</td>\n",
       "      <td>Fred</td>\n",
       "      <td>Atacante</td>\n",
       "    </tr>\n",
       "  </tbody>\n",
       "</table>\n",
       "<p>5 rows × 23 columns</p>\n",
       "</div>"
      ],
      "text/plain": [
       "    Gol  Assistência  Finalização_na_trave  Finalização_pra_fora  \\\n",
       "0  0.00          0.0                   0.0                  0.50   \n",
       "0  0.00          0.0                   0.0                  0.00   \n",
       "0  0.75          0.0                   0.0                  1.25   \n",
       "0  0.00          0.0                   0.0                  0.50   \n",
       "0  0.80          0.0                   0.0                  0.60   \n",
       "\n",
       "   Roubada_de_bola  Passe_errado  Falta_cometida  Pênalti_perdido  Gol_contra  \\\n",
       "0             2.50      2.000000        0.000000              0.0         0.0   \n",
       "0             0.00      3.333333        0.666667              0.0         0.0   \n",
       "0             0.25      1.250000        1.500000              0.0         0.0   \n",
       "0             0.00      0.500000        1.000000              0.0         0.0   \n",
       "0             0.40      2.600000        2.000000              0.0         0.0   \n",
       "\n",
       "   Falta_sofrida    ...     Defesa_de_pênalti  Jogos_sem_sofrer_gols  \\\n",
       "0            7.0    ...                   0.0                    0.0   \n",
       "0            1.0    ...                   0.0                    0.0   \n",
       "0            2.0    ...                   0.0                    0.0   \n",
       "0            0.5    ...                   0.0                    0.0   \n",
       "0            2.6    ...                   0.0                    0.0   \n",
       "\n",
       "   Finalização_defendida  Defesa_difícil  Gol_sofrido  \\\n",
       "0                    0.5             0.0          0.0   \n",
       "0                    0.0             0.0          0.0   \n",
       "0                    0.5             0.0          0.0   \n",
       "0                    0.0             0.0          0.0   \n",
       "0                    0.4             0.0          0.0   \n",
       "\n",
       "                     jogador  local         Time Jogador   Posicao  \n",
       "0    Palmeiras_Dudu_Atacante   Casa    Palmeiras    Dudu  Atacante  \n",
       "0    Palmeiras_Dudu_Atacante   Fora    Palmeiras    Dudu  Atacante  \n",
       "0   Palmeiras_Borja_Atacante   Casa    Palmeiras   Borja  Atacante  \n",
       "0   Palmeiras_Borja_Atacante   Fora    Palmeiras   Borja  Atacante  \n",
       "0  Atlético-MG_Fred_Atacante   Casa  Atlético-MG    Fred  Atacante  \n",
       "\n",
       "[5 rows x 23 columns]"
      ]
     },
     "execution_count": 18,
     "metadata": {},
     "output_type": "execute_result"
    }
   ],
   "source": [
    "df2.head()"
   ]
  },
  {
   "cell_type": "code",
   "execution_count": 19,
   "metadata": {
    "collapsed": false
   },
   "outputs": [],
   "source": [
    "rodada_seguinte = pd.read_excel(r'.\\Excel\\{}rodada.xlsx'.format(str(nrodada)))\n",
    "rodada_seguinte = rodada_seguinte[['Time','local2']].drop_duplicates()\n",
    "#rodada_seguinte['Time'] = rodada_seguinte['Time'].apply(lambda x: dict_time.get(x,x))"
   ]
  },
  {
   "cell_type": "code",
   "execution_count": 20,
   "metadata": {
    "collapsed": false
   },
   "outputs": [],
   "source": [
    "df2 = pd.merge(df2,rodada_seguinte, how='left',on='Time')"
   ]
  },
  {
   "cell_type": "code",
   "execution_count": 21,
   "metadata": {
    "collapsed": false
   },
   "outputs": [],
   "source": [
    "df2['Apaga'] = df2['local'] == df2['local2']\n",
    "df2 = df2[df2['Apaga'] == True]"
   ]
  },
  {
   "cell_type": "code",
   "execution_count": 22,
   "metadata": {
    "collapsed": false
   },
   "outputs": [],
   "source": [
    "df2.drop(['Apaga'],axis=1,inplace=True)"
   ]
  },
  {
   "cell_type": "code",
   "execution_count": 23,
   "metadata": {
    "collapsed": false
   },
   "outputs": [
    {
     "name": "stdout",
     "output_type": "stream",
     "text": [
      "Qtde de Informações: 566\n"
     ]
    }
   ],
   "source": [
    "print('Qtde de Informações: {}'.format(len(df2)))"
   ]
  },
  {
   "cell_type": "code",
   "execution_count": 24,
   "metadata": {
    "collapsed": false
   },
   "outputs": [],
   "source": [
    "df2.reset_index(inplace=True)\n",
    "df2.drop('index',axis=1,inplace=True)"
   ]
  },
  {
   "cell_type": "code",
   "execution_count": 25,
   "metadata": {
    "collapsed": false
   },
   "outputs": [
    {
     "data": {
      "text/html": [
       "<div>\n",
       "<table border=\"1\" class=\"dataframe\">\n",
       "  <thead>\n",
       "    <tr style=\"text-align: right;\">\n",
       "      <th></th>\n",
       "      <th>Gol</th>\n",
       "      <th>Assistência</th>\n",
       "      <th>Finalização_na_trave</th>\n",
       "      <th>Finalização_pra_fora</th>\n",
       "      <th>Roubada_de_bola</th>\n",
       "      <th>Passe_errado</th>\n",
       "      <th>Falta_cometida</th>\n",
       "      <th>Pênalti_perdido</th>\n",
       "      <th>Gol_contra</th>\n",
       "      <th>Falta_sofrida</th>\n",
       "      <th>...</th>\n",
       "      <th>Jogos_sem_sofrer_gols</th>\n",
       "      <th>Finalização_defendida</th>\n",
       "      <th>Defesa_difícil</th>\n",
       "      <th>Gol_sofrido</th>\n",
       "      <th>jogador</th>\n",
       "      <th>local</th>\n",
       "      <th>Time</th>\n",
       "      <th>Jogador</th>\n",
       "      <th>Posicao</th>\n",
       "      <th>local2</th>\n",
       "    </tr>\n",
       "  </thead>\n",
       "  <tbody>\n",
       "    <tr>\n",
       "      <th>0</th>\n",
       "      <td>0.00</td>\n",
       "      <td>0.0</td>\n",
       "      <td>0.0</td>\n",
       "      <td>0.50</td>\n",
       "      <td>2.50</td>\n",
       "      <td>2.00</td>\n",
       "      <td>0.0</td>\n",
       "      <td>0.0</td>\n",
       "      <td>0.0</td>\n",
       "      <td>7.0</td>\n",
       "      <td>...</td>\n",
       "      <td>0.0</td>\n",
       "      <td>0.5</td>\n",
       "      <td>0.0</td>\n",
       "      <td>0.0</td>\n",
       "      <td>Palmeiras_Dudu_Atacante</td>\n",
       "      <td>Casa</td>\n",
       "      <td>Palmeiras</td>\n",
       "      <td>Dudu</td>\n",
       "      <td>Atacante</td>\n",
       "      <td>Casa</td>\n",
       "    </tr>\n",
       "    <tr>\n",
       "      <th>1</th>\n",
       "      <td>0.75</td>\n",
       "      <td>0.0</td>\n",
       "      <td>0.0</td>\n",
       "      <td>1.25</td>\n",
       "      <td>0.25</td>\n",
       "      <td>1.25</td>\n",
       "      <td>1.5</td>\n",
       "      <td>0.0</td>\n",
       "      <td>0.0</td>\n",
       "      <td>2.0</td>\n",
       "      <td>...</td>\n",
       "      <td>0.0</td>\n",
       "      <td>0.5</td>\n",
       "      <td>0.0</td>\n",
       "      <td>0.0</td>\n",
       "      <td>Palmeiras_Borja_Atacante</td>\n",
       "      <td>Casa</td>\n",
       "      <td>Palmeiras</td>\n",
       "      <td>Borja</td>\n",
       "      <td>Atacante</td>\n",
       "      <td>Casa</td>\n",
       "    </tr>\n",
       "    <tr>\n",
       "      <th>2</th>\n",
       "      <td>0.80</td>\n",
       "      <td>0.0</td>\n",
       "      <td>0.0</td>\n",
       "      <td>0.60</td>\n",
       "      <td>0.40</td>\n",
       "      <td>2.60</td>\n",
       "      <td>2.0</td>\n",
       "      <td>0.0</td>\n",
       "      <td>0.0</td>\n",
       "      <td>2.6</td>\n",
       "      <td>...</td>\n",
       "      <td>0.0</td>\n",
       "      <td>0.4</td>\n",
       "      <td>0.0</td>\n",
       "      <td>0.0</td>\n",
       "      <td>Atlético-MG_Fred_Atacante</td>\n",
       "      <td>Casa</td>\n",
       "      <td>Atlético-MG</td>\n",
       "      <td>Fred</td>\n",
       "      <td>Atacante</td>\n",
       "      <td>Casa</td>\n",
       "    </tr>\n",
       "    <tr>\n",
       "      <th>3</th>\n",
       "      <td>0.20</td>\n",
       "      <td>0.2</td>\n",
       "      <td>0.0</td>\n",
       "      <td>0.00</td>\n",
       "      <td>2.60</td>\n",
       "      <td>4.40</td>\n",
       "      <td>1.8</td>\n",
       "      <td>0.0</td>\n",
       "      <td>0.0</td>\n",
       "      <td>2.4</td>\n",
       "      <td>...</td>\n",
       "      <td>0.6</td>\n",
       "      <td>0.6</td>\n",
       "      <td>0.0</td>\n",
       "      <td>0.0</td>\n",
       "      <td>Ponte Preta_Nino Paraíba_Lateral</td>\n",
       "      <td>Casa</td>\n",
       "      <td>Ponte Preta</td>\n",
       "      <td>Nino Paraíba</td>\n",
       "      <td>Lateral</td>\n",
       "      <td>Casa</td>\n",
       "    </tr>\n",
       "    <tr>\n",
       "      <th>4</th>\n",
       "      <td>0.00</td>\n",
       "      <td>0.0</td>\n",
       "      <td>0.0</td>\n",
       "      <td>0.00</td>\n",
       "      <td>0.50</td>\n",
       "      <td>1.00</td>\n",
       "      <td>0.0</td>\n",
       "      <td>0.0</td>\n",
       "      <td>0.0</td>\n",
       "      <td>1.5</td>\n",
       "      <td>...</td>\n",
       "      <td>0.0</td>\n",
       "      <td>0.0</td>\n",
       "      <td>0.0</td>\n",
       "      <td>0.0</td>\n",
       "      <td>Bahia_Régis_Meia</td>\n",
       "      <td>Fora</td>\n",
       "      <td>Bahia</td>\n",
       "      <td>Régis</td>\n",
       "      <td>Meia</td>\n",
       "      <td>Fora</td>\n",
       "    </tr>\n",
       "  </tbody>\n",
       "</table>\n",
       "<p>5 rows × 24 columns</p>\n",
       "</div>"
      ],
      "text/plain": [
       "    Gol  Assistência  Finalização_na_trave  Finalização_pra_fora  \\\n",
       "0  0.00          0.0                   0.0                  0.50   \n",
       "1  0.75          0.0                   0.0                  1.25   \n",
       "2  0.80          0.0                   0.0                  0.60   \n",
       "3  0.20          0.2                   0.0                  0.00   \n",
       "4  0.00          0.0                   0.0                  0.00   \n",
       "\n",
       "   Roubada_de_bola  Passe_errado  Falta_cometida  Pênalti_perdido  Gol_contra  \\\n",
       "0             2.50          2.00             0.0              0.0         0.0   \n",
       "1             0.25          1.25             1.5              0.0         0.0   \n",
       "2             0.40          2.60             2.0              0.0         0.0   \n",
       "3             2.60          4.40             1.8              0.0         0.0   \n",
       "4             0.50          1.00             0.0              0.0         0.0   \n",
       "\n",
       "   Falta_sofrida  ...    Jogos_sem_sofrer_gols  Finalização_defendida  \\\n",
       "0            7.0  ...                      0.0                    0.5   \n",
       "1            2.0  ...                      0.0                    0.5   \n",
       "2            2.6  ...                      0.0                    0.4   \n",
       "3            2.4  ...                      0.6                    0.6   \n",
       "4            1.5  ...                      0.0                    0.0   \n",
       "\n",
       "   Defesa_difícil  Gol_sofrido                           jogador  local  \\\n",
       "0             0.0          0.0           Palmeiras_Dudu_Atacante   Casa   \n",
       "1             0.0          0.0          Palmeiras_Borja_Atacante   Casa   \n",
       "2             0.0          0.0         Atlético-MG_Fred_Atacante   Casa   \n",
       "3             0.0          0.0  Ponte Preta_Nino Paraíba_Lateral   Casa   \n",
       "4             0.0          0.0                  Bahia_Régis_Meia   Fora   \n",
       "\n",
       "          Time       Jogador   Posicao local2  \n",
       "0    Palmeiras          Dudu  Atacante   Casa  \n",
       "1    Palmeiras         Borja  Atacante   Casa  \n",
       "2  Atlético-MG          Fred  Atacante   Casa  \n",
       "3  Ponte Preta  Nino Paraíba   Lateral   Casa  \n",
       "4        Bahia         Régis      Meia   Fora  \n",
       "\n",
       "[5 rows x 24 columns]"
      ]
     },
     "execution_count": 25,
     "metadata": {},
     "output_type": "execute_result"
    }
   ],
   "source": [
    "df2.head()"
   ]
  },
  {
   "cell_type": "code",
   "execution_count": 26,
   "metadata": {
    "collapsed": true
   },
   "outputs": [],
   "source": [
    "# incluir valor de Cartoleta"
   ]
  },
  {
   "cell_type": "code",
   "execution_count": 27,
   "metadata": {
    "collapsed": false
   },
   "outputs": [],
   "source": [
    "rodada_seguinte = pd.read_excel(r'.\\Excel\\{}rodada.xlsx'.format(nrodada))\n",
    "rodada_seguinte['chave'] = rodada_seguinte.apply(lambda x: '{}_{}_{}'.format(x['Time'],x['Apelido'],x['Posicao']),axis=1)\n",
    "df2['chave'] = df2.apply(lambda x: '{}_{}_{}'.format(x['Time'],x['Jogador'],x['Posicao']),axis=1)\n",
    "\n",
    "df2 = pd.merge(df2,rodada_seguinte[['chave','seletor','preco_cartoleta','Atleta_pontos']],how='inner',on='chave')"
   ]
  },
  {
   "cell_type": "code",
   "execution_count": 28,
   "metadata": {
    "collapsed": false
   },
   "outputs": [
    {
     "name": "stdout",
     "output_type": "stream",
     "text": [
      "Qtde de Informações: 541\n"
     ]
    }
   ],
   "source": [
    "print('Qtde de Informações: {}'.format(len(df2)))"
   ]
  },
  {
   "cell_type": "code",
   "execution_count": 29,
   "metadata": {
    "collapsed": false
   },
   "outputs": [],
   "source": [
    "df2 = df2.sort_values(by='preco_cartoleta', ascending=False)"
   ]
  },
  {
   "cell_type": "code",
   "execution_count": 30,
   "metadata": {
    "collapsed": false
   },
   "outputs": [],
   "source": [
    "df2.reset_index(inplace=True)\n",
    "df2.drop(['index'],axis=1,inplace=True)"
   ]
  },
  {
   "cell_type": "code",
   "execution_count": 31,
   "metadata": {
    "collapsed": false
   },
   "outputs": [
    {
     "data": {
      "text/html": [
       "<div>\n",
       "<table border=\"1\" class=\"dataframe\">\n",
       "  <thead>\n",
       "    <tr style=\"text-align: right;\">\n",
       "      <th></th>\n",
       "      <th>Gol</th>\n",
       "      <th>Assistência</th>\n",
       "      <th>Finalização_na_trave</th>\n",
       "      <th>Finalização_pra_fora</th>\n",
       "      <th>Roubada_de_bola</th>\n",
       "      <th>Passe_errado</th>\n",
       "      <th>Falta_cometida</th>\n",
       "      <th>Pênalti_perdido</th>\n",
       "      <th>Gol_contra</th>\n",
       "      <th>Falta_sofrida</th>\n",
       "      <th>Impedimento</th>\n",
       "      <th>Cartão_amarelo</th>\n",
       "      <th>Cartão_vermelho</th>\n",
       "      <th>Defesa_de_pênalti</th>\n",
       "      <th>Jogos_sem_sofrer_gols</th>\n",
       "      <th>Finalização_defendida</th>\n",
       "      <th>Defesa_difícil</th>\n",
       "      <th>Gol_sofrido</th>\n",
       "      <th>preco_cartoleta</th>\n",
       "      <th>Atleta_pontos</th>\n",
       "    </tr>\n",
       "  </thead>\n",
       "  <tbody>\n",
       "    <tr>\n",
       "      <th>count</th>\n",
       "      <td>541.000000</td>\n",
       "      <td>541.000000</td>\n",
       "      <td>541.000000</td>\n",
       "      <td>541.000000</td>\n",
       "      <td>541.000000</td>\n",
       "      <td>541.000000</td>\n",
       "      <td>541.000000</td>\n",
       "      <td>541.000000</td>\n",
       "      <td>541.000000</td>\n",
       "      <td>541.000000</td>\n",
       "      <td>541.000000</td>\n",
       "      <td>541.000000</td>\n",
       "      <td>541.000000</td>\n",
       "      <td>541.000000</td>\n",
       "      <td>541.000000</td>\n",
       "      <td>541.000000</td>\n",
       "      <td>541.000000</td>\n",
       "      <td>541.000000</td>\n",
       "      <td>541.000000</td>\n",
       "      <td>541.000000</td>\n",
       "    </tr>\n",
       "    <tr>\n",
       "      <th>mean</th>\n",
       "      <td>0.064079</td>\n",
       "      <td>0.052742</td>\n",
       "      <td>0.009951</td>\n",
       "      <td>0.283364</td>\n",
       "      <td>0.770795</td>\n",
       "      <td>1.900647</td>\n",
       "      <td>0.988201</td>\n",
       "      <td>0.001294</td>\n",
       "      <td>0.002773</td>\n",
       "      <td>0.894116</td>\n",
       "      <td>0.110012</td>\n",
       "      <td>0.131762</td>\n",
       "      <td>0.008441</td>\n",
       "      <td>0.001109</td>\n",
       "      <td>0.119409</td>\n",
       "      <td>0.173105</td>\n",
       "      <td>0.071288</td>\n",
       "      <td>0.065034</td>\n",
       "      <td>6.387579</td>\n",
       "      <td>1.352680</td>\n",
       "    </tr>\n",
       "    <tr>\n",
       "      <th>std</th>\n",
       "      <td>0.183307</td>\n",
       "      <td>0.158391</td>\n",
       "      <td>0.050898</td>\n",
       "      <td>0.424562</td>\n",
       "      <td>0.869072</td>\n",
       "      <td>1.572081</td>\n",
       "      <td>0.946136</td>\n",
       "      <td>0.017432</td>\n",
       "      <td>0.048032</td>\n",
       "      <td>1.014475</td>\n",
       "      <td>0.272320</td>\n",
       "      <td>0.228222</td>\n",
       "      <td>0.062933</td>\n",
       "      <td>0.014866</td>\n",
       "      <td>0.253452</td>\n",
       "      <td>0.330815</td>\n",
       "      <td>0.358745</td>\n",
       "      <td>0.339238</td>\n",
       "      <td>4.258319</td>\n",
       "      <td>3.557743</td>\n",
       "    </tr>\n",
       "    <tr>\n",
       "      <th>min</th>\n",
       "      <td>0.000000</td>\n",
       "      <td>0.000000</td>\n",
       "      <td>0.000000</td>\n",
       "      <td>0.000000</td>\n",
       "      <td>0.000000</td>\n",
       "      <td>0.000000</td>\n",
       "      <td>0.000000</td>\n",
       "      <td>0.000000</td>\n",
       "      <td>0.000000</td>\n",
       "      <td>0.000000</td>\n",
       "      <td>0.000000</td>\n",
       "      <td>0.000000</td>\n",
       "      <td>0.000000</td>\n",
       "      <td>0.000000</td>\n",
       "      <td>0.000000</td>\n",
       "      <td>0.000000</td>\n",
       "      <td>0.000000</td>\n",
       "      <td>0.000000</td>\n",
       "      <td>0.710000</td>\n",
       "      <td>-6.600000</td>\n",
       "    </tr>\n",
       "    <tr>\n",
       "      <th>25%</th>\n",
       "      <td>0.000000</td>\n",
       "      <td>0.000000</td>\n",
       "      <td>0.000000</td>\n",
       "      <td>0.000000</td>\n",
       "      <td>0.000000</td>\n",
       "      <td>0.500000</td>\n",
       "      <td>0.000000</td>\n",
       "      <td>0.000000</td>\n",
       "      <td>0.000000</td>\n",
       "      <td>0.000000</td>\n",
       "      <td>0.000000</td>\n",
       "      <td>0.000000</td>\n",
       "      <td>0.000000</td>\n",
       "      <td>0.000000</td>\n",
       "      <td>0.000000</td>\n",
       "      <td>0.000000</td>\n",
       "      <td>0.000000</td>\n",
       "      <td>0.000000</td>\n",
       "      <td>3.190000</td>\n",
       "      <td>0.000000</td>\n",
       "    </tr>\n",
       "    <tr>\n",
       "      <th>50%</th>\n",
       "      <td>0.000000</td>\n",
       "      <td>0.000000</td>\n",
       "      <td>0.000000</td>\n",
       "      <td>0.000000</td>\n",
       "      <td>0.500000</td>\n",
       "      <td>1.800000</td>\n",
       "      <td>1.000000</td>\n",
       "      <td>0.000000</td>\n",
       "      <td>0.000000</td>\n",
       "      <td>0.666667</td>\n",
       "      <td>0.000000</td>\n",
       "      <td>0.000000</td>\n",
       "      <td>0.000000</td>\n",
       "      <td>0.000000</td>\n",
       "      <td>0.000000</td>\n",
       "      <td>0.000000</td>\n",
       "      <td>0.000000</td>\n",
       "      <td>0.000000</td>\n",
       "      <td>5.500000</td>\n",
       "      <td>0.000000</td>\n",
       "    </tr>\n",
       "    <tr>\n",
       "      <th>75%</th>\n",
       "      <td>0.000000</td>\n",
       "      <td>0.000000</td>\n",
       "      <td>0.000000</td>\n",
       "      <td>0.500000</td>\n",
       "      <td>1.000000</td>\n",
       "      <td>3.000000</td>\n",
       "      <td>1.500000</td>\n",
       "      <td>0.000000</td>\n",
       "      <td>0.000000</td>\n",
       "      <td>1.333333</td>\n",
       "      <td>0.000000</td>\n",
       "      <td>0.250000</td>\n",
       "      <td>0.000000</td>\n",
       "      <td>0.000000</td>\n",
       "      <td>0.000000</td>\n",
       "      <td>0.250000</td>\n",
       "      <td>0.000000</td>\n",
       "      <td>0.000000</td>\n",
       "      <td>9.080000</td>\n",
       "      <td>1.900000</td>\n",
       "    </tr>\n",
       "    <tr>\n",
       "      <th>max</th>\n",
       "      <td>1.000000</td>\n",
       "      <td>1.000000</td>\n",
       "      <td>0.500000</td>\n",
       "      <td>4.000000</td>\n",
       "      <td>4.250000</td>\n",
       "      <td>8.000000</td>\n",
       "      <td>6.000000</td>\n",
       "      <td>0.250000</td>\n",
       "      <td>1.000000</td>\n",
       "      <td>7.000000</td>\n",
       "      <td>2.000000</td>\n",
       "      <td>1.000000</td>\n",
       "      <td>1.000000</td>\n",
       "      <td>0.200000</td>\n",
       "      <td>1.000000</td>\n",
       "      <td>3.000000</td>\n",
       "      <td>3.000000</td>\n",
       "      <td>4.000000</td>\n",
       "      <td>23.530000</td>\n",
       "      <td>33.000000</td>\n",
       "    </tr>\n",
       "  </tbody>\n",
       "</table>\n",
       "</div>"
      ],
      "text/plain": [
       "              Gol  Assistência  Finalização_na_trave  Finalização_pra_fora  \\\n",
       "count  541.000000   541.000000            541.000000            541.000000   \n",
       "mean     0.064079     0.052742              0.009951              0.283364   \n",
       "std      0.183307     0.158391              0.050898              0.424562   \n",
       "min      0.000000     0.000000              0.000000              0.000000   \n",
       "25%      0.000000     0.000000              0.000000              0.000000   \n",
       "50%      0.000000     0.000000              0.000000              0.000000   \n",
       "75%      0.000000     0.000000              0.000000              0.500000   \n",
       "max      1.000000     1.000000              0.500000              4.000000   \n",
       "\n",
       "       Roubada_de_bola  Passe_errado  Falta_cometida  Pênalti_perdido  \\\n",
       "count       541.000000    541.000000      541.000000       541.000000   \n",
       "mean          0.770795      1.900647        0.988201         0.001294   \n",
       "std           0.869072      1.572081        0.946136         0.017432   \n",
       "min           0.000000      0.000000        0.000000         0.000000   \n",
       "25%           0.000000      0.500000        0.000000         0.000000   \n",
       "50%           0.500000      1.800000        1.000000         0.000000   \n",
       "75%           1.000000      3.000000        1.500000         0.000000   \n",
       "max           4.250000      8.000000        6.000000         0.250000   \n",
       "\n",
       "       Gol_contra  Falta_sofrida  Impedimento  Cartão_amarelo  \\\n",
       "count  541.000000     541.000000   541.000000      541.000000   \n",
       "mean     0.002773       0.894116     0.110012        0.131762   \n",
       "std      0.048032       1.014475     0.272320        0.228222   \n",
       "min      0.000000       0.000000     0.000000        0.000000   \n",
       "25%      0.000000       0.000000     0.000000        0.000000   \n",
       "50%      0.000000       0.666667     0.000000        0.000000   \n",
       "75%      0.000000       1.333333     0.000000        0.250000   \n",
       "max      1.000000       7.000000     2.000000        1.000000   \n",
       "\n",
       "       Cartão_vermelho  Defesa_de_pênalti  Jogos_sem_sofrer_gols  \\\n",
       "count       541.000000         541.000000             541.000000   \n",
       "mean          0.008441           0.001109               0.119409   \n",
       "std           0.062933           0.014866               0.253452   \n",
       "min           0.000000           0.000000               0.000000   \n",
       "25%           0.000000           0.000000               0.000000   \n",
       "50%           0.000000           0.000000               0.000000   \n",
       "75%           0.000000           0.000000               0.000000   \n",
       "max           1.000000           0.200000               1.000000   \n",
       "\n",
       "       Finalização_defendida  Defesa_difícil  Gol_sofrido  preco_cartoleta  \\\n",
       "count             541.000000      541.000000   541.000000       541.000000   \n",
       "mean                0.173105        0.071288     0.065034         6.387579   \n",
       "std                 0.330815        0.358745     0.339238         4.258319   \n",
       "min                 0.000000        0.000000     0.000000         0.710000   \n",
       "25%                 0.000000        0.000000     0.000000         3.190000   \n",
       "50%                 0.000000        0.000000     0.000000         5.500000   \n",
       "75%                 0.250000        0.000000     0.000000         9.080000   \n",
       "max                 3.000000        3.000000     4.000000        23.530000   \n",
       "\n",
       "       Atleta_pontos  \n",
       "count     541.000000  \n",
       "mean        1.352680  \n",
       "std         3.557743  \n",
       "min        -6.600000  \n",
       "25%         0.000000  \n",
       "50%         0.000000  \n",
       "75%         1.900000  \n",
       "max        33.000000  "
      ]
     },
     "execution_count": 31,
     "metadata": {},
     "output_type": "execute_result"
    }
   ],
   "source": [
    "df2.describe()"
   ]
  },
  {
   "cell_type": "code",
   "execution_count": 32,
   "metadata": {
    "collapsed": false
   },
   "outputs": [],
   "source": [
    "simulacao = []\n",
    "nsimulacao = 5000\n",
    "np.random.seed(50)\n",
    "\n",
    "for i in range(len(df2)):\n",
    "    jogador = {}\n",
    "    jogador['Jogador'] = df2.iloc[i]['Jogador']\n",
    "    jogador['Time'] = df2.iloc[i]['Time']\n",
    "    jogador['Posicao'] = df2.iloc[i]['Posicao']    \n",
    "    jogador['local'] = df2.iloc[i]['local']\n",
    "    jogador['chave'] = df2.iloc[i]['chave']\n",
    "    jogador['seletor'] = df2.iloc[i]['seletor']\n",
    "    jogador['preco_cartoleta'] = df2.iloc[i]['preco_cartoleta']\n",
    "    jogador['Atleta_pontos'] = df2.iloc[i]['Atleta_pontos']\n",
    "    \n",
    "    for campo in campos_media:\n",
    "        parametro = df2.iloc[i][campo]\n",
    "        parametro = parametro if parametro >= 0 else 0\n",
    "        jogador[campo] = np.random.poisson(parametro,size=nsimulacao)\n",
    "\n",
    "    simulacao.append(jogador)"
   ]
  },
  {
   "cell_type": "code",
   "execution_count": 33,
   "metadata": {
    "collapsed": false
   },
   "outputs": [
    {
     "data": {
      "text/plain": [
       "541"
      ]
     },
     "execution_count": 33,
     "metadata": {},
     "output_type": "execute_result"
    }
   ],
   "source": [
    "len(simulacao)"
   ]
  },
  {
   "cell_type": "code",
   "execution_count": 34,
   "metadata": {
    "collapsed": false
   },
   "outputs": [],
   "source": [
    "# Pontuacao\n",
    "ptos = {'Gol': 8, 'Assistência': 5,\n",
    "        'Finalização_na_trave': 3.5, 'Finalização_pra_fora': 0.7, 'Finalização_defendida': 1.0,\n",
    "        'Falta_sofrida': 0.5,\n",
    "        'Pênalti_perdido': -3.5, 'Impedimento': -0.5, 'Passe_errado': -0.3,\n",
    "        'Jogos_sem_sofrer_gols': 5.0, 'Defesa_de_pênalti': 7., 'Defesa_difícil': 3.0, 'Roubada_de_bola': 1.7,\n",
    "        'Gol_contra' : -6.0, 'Cartão_vermelho': -5.0, 'Cartão_amarelo': -2.0,\n",
    "        'Gol_sofrido': -2., 'Falta_cometida': -0.5\n",
    "       }\n",
    " "
   ]
  },
  {
   "cell_type": "code",
   "execution_count": 35,
   "metadata": {
    "collapsed": true
   },
   "outputs": [],
   "source": [
    "def ajusta_dados(sim):\n",
    "    frame = pd.DataFrame(sim)\n",
    "    cols_to_update = list(ptos.keys())  # you might need cols_to_update = list(d.keys()) in python 3\n",
    "    # multiply the selected columns and update\n",
    "    frame[cols_to_update] = frame[cols_to_update].mul(pd.Series(ptos), axis=1)[cols_to_update]\n",
    "    frame['Pontuacao'] = frame[cols_to_update].sum(axis=1)\n",
    "    return frame[['Jogador','Posicao', 'Time', 'Pontuacao', 'chave', 'seletor','preco_cartoleta', 'Atleta_pontos']]\n",
    "    \n",
    "    "
   ]
  },
  {
   "cell_type": "code",
   "execution_count": 36,
   "metadata": {
    "collapsed": false
   },
   "outputs": [],
   "source": [
    "df3 = ajusta_dados(simulacao[0])\n",
    "for i in range(1,len(simulacao)):\n",
    "    df3 = df3.append(ajusta_dados(simulacao[i]),ignore_index=True)"
   ]
  },
  {
   "cell_type": "code",
   "execution_count": 37,
   "metadata": {
    "collapsed": false
   },
   "outputs": [
    {
     "name": "stdout",
     "output_type": "stream",
     "text": [
      "<class 'pandas.core.frame.DataFrame'>\n",
      "RangeIndex: 2705000 entries, 0 to 2704999\n",
      "Data columns (total 8 columns):\n",
      "Jogador            object\n",
      "Posicao            object\n",
      "Time               object\n",
      "Pontuacao          float64\n",
      "chave              object\n",
      "seletor            object\n",
      "preco_cartoleta    float64\n",
      "Atleta_pontos      float64\n",
      "dtypes: float64(3), object(5)\n",
      "memory usage: 165.1+ MB\n"
     ]
    }
   ],
   "source": [
    "df3.info()"
   ]
  },
  {
   "cell_type": "code",
   "execution_count": 38,
   "metadata": {
    "collapsed": false,
    "scrolled": true
   },
   "outputs": [],
   "source": [
    "df3.to_pickle(r'.\\Simulacao\\simulacao_{}rodada.pkl'.format(nrodada+1))"
   ]
  },
  {
   "cell_type": "markdown",
   "metadata": {},
   "source": [
    "# Gerar arquivos com informacoes para o site"
   ]
  },
  {
   "cell_type": "code",
   "execution_count": 54,
   "metadata": {
    "collapsed": true
   },
   "outputs": [],
   "source": [
    "nrodada = nrodada+1"
   ]
  },
  {
   "cell_type": "code",
   "execution_count": 55,
   "metadata": {
    "collapsed": true
   },
   "outputs": [],
   "source": [
    "df2 = pd.read_pickle(r'.\\Simulacao\\simulacao_{}rodada.pkl'.format(str(nrodada)))"
   ]
  },
  {
   "cell_type": "code",
   "execution_count": 56,
   "metadata": {
    "collapsed": false
   },
   "outputs": [],
   "source": [
    "verif = df2.groupby('chave')['Pontuacao'].agg([{'media': 'mean', 'Desvio' : 'std' }])"
   ]
  },
  {
   "cell_type": "code",
   "execution_count": 57,
   "metadata": {
    "collapsed": false
   },
   "outputs": [],
   "source": [
    "verif = verif[(verif[None]['Desvio'] != 0) & (verif[None]['media'] != 0) ].index"
   ]
  },
  {
   "cell_type": "code",
   "execution_count": 58,
   "metadata": {
    "collapsed": false
   },
   "outputs": [],
   "source": [
    "df2 = df2[df2.chave.isin(verif)]\n",
    "df2.reset_index(drop=True,inplace=True)"
   ]
  },
  {
   "cell_type": "code",
   "execution_count": 59,
   "metadata": {
    "collapsed": true
   },
   "outputs": [],
   "source": [
    "lista = pd.DataFrame(df2.groupby(['chave','Jogador','Time','Posicao']).mean())\n",
    "lista.reset_index(inplace=True)\n",
    "lista = lista[['chave','Jogador','Time','Posicao','Pontuacao','preco_cartoleta']]"
   ]
  },
  {
   "cell_type": "code",
   "execution_count": 60,
   "metadata": {
    "collapsed": true
   },
   "outputs": [],
   "source": [
    "lista = lista.sort_values('preco_cartoleta',ascending=False)\n",
    "lista.reset_index(inplace=True)\n",
    "lista.drop(['index'],inplace=True,axis=1)\n",
    "lista.columns = ['chave','Jogador','Time','Posicao','Media','preco_cartoleta']"
   ]
  },
  {
   "cell_type": "code",
   "execution_count": 61,
   "metadata": {
    "collapsed": false
   },
   "outputs": [
    {
     "data": {
      "text/plain": [
       "2350000"
      ]
     },
     "execution_count": 61,
     "metadata": {},
     "output_type": "execute_result"
    }
   ],
   "source": [
    "len(df2)"
   ]
  },
  {
   "cell_type": "code",
   "execution_count": 62,
   "metadata": {
    "collapsed": false
   },
   "outputs": [
    {
     "data": {
      "text/plain": [
       "470"
      ]
     },
     "execution_count": 62,
     "metadata": {},
     "output_type": "execute_result"
    }
   ],
   "source": [
    "len(lista)"
   ]
  },
  {
   "cell_type": "code",
   "execution_count": 48,
   "metadata": {
    "collapsed": false
   },
   "outputs": [
    {
     "name": "stderr",
     "output_type": "stream",
     "text": [
      "C:\\Program Files (x86)\\ANACONDA3\\lib\\site-packages\\ipykernel\\__main__.py:10: SettingWithCopyWarning: \n",
      "A value is trying to be set on a copy of a slice from a DataFrame.\n",
      "Try using .loc[row_indexer,col_indexer] = value instead\n",
      "\n",
      "See the caveats in the documentation: http://pandas.pydata.org/pandas-docs/stable/indexing.html#indexing-view-versus-copy\n"
     ]
    }
   ],
   "source": [
    "erros =[]\n",
    "for i in range(len(lista)):\n",
    "    \n",
    "    try:\n",
    "        hist = df2[df2.chave ==  lista.iloc[i].chave]\n",
    "        minimo = np.floor(hist.Pontuacao.min())\n",
    "        maximo = np.ceil(hist.Pontuacao.max())\n",
    "        media = hist.Pontuacao.mean()\n",
    "        intervalo = np.arange(minimo,maximo,1)\n",
    "        hist['class'] = pd.cut(hist.Pontuacao, intervalo,labels=intervalo[1:]);\n",
    "        hist2 = pd.DataFrame(hist.groupby('class').count()['Pontuacao']/5000)\n",
    "        hist2.reset_index(inplace=True)\n",
    "        hist2.columns = ['pontuacao','frequencia']\n",
    "        hist2.pontuacao = hist2.pontuacao.astype('int')\n",
    "        hist2['media'] = media\n",
    "        hist2.to_csv(r'.\\Site\\rodada{}\\Graf\\file_{}.csv'.format(nrodada,i) , sep='\\t', encoding=\"UTF8\",index=False)\n",
    "    except:\n",
    "        erros.append(i)\n",
    "        "
   ]
  },
  {
   "cell_type": "code",
   "execution_count": 49,
   "metadata": {
    "collapsed": false
   },
   "outputs": [
    {
     "data": {
      "text/plain": [
       "[]"
      ]
     },
     "execution_count": 49,
     "metadata": {},
     "output_type": "execute_result"
    }
   ],
   "source": [
    "erros"
   ]
  },
  {
   "cell_type": "code",
   "execution_count": 50,
   "metadata": {
    "collapsed": true
   },
   "outputs": [],
   "source": [
    "\n",
    "lista = lista[['Jogador','Time','Posicao','preco_cartoleta']].reset_index()\n",
    "lista.to_csv(r'.\\Site\\rodada{}\\lista.csv'.format(nrodada), sep='\\t', encoding=\"UTF8\",index=False)"
   ]
  },
  {
   "cell_type": "markdown",
   "metadata": {
    "collapsed": true
   },
   "source": [
    "# Criar Tabela para analise"
   ]
  },
  {
   "cell_type": "code",
   "execution_count": 74,
   "metadata": {
    "collapsed": false
   },
   "outputs": [],
   "source": [
    "mean_std = df2[['Pontuacao','chave']].groupby('chave').agg([{'esperado': np.mean, 'desvio' : np.std}])"
   ]
  },
  {
   "cell_type": "code",
   "execution_count": 76,
   "metadata": {
    "collapsed": false
   },
   "outputs": [],
   "source": [
    "mean_std.reset_index(inplace=True)"
   ]
  },
  {
   "cell_type": "code",
   "execution_count": 82,
   "metadata": {
    "collapsed": false
   },
   "outputs": [],
   "source": [
    "mean_std.columns = ['chave','desvio','esperado']"
   ]
  },
  {
   "cell_type": "code",
   "execution_count": 85,
   "metadata": {
    "collapsed": false
   },
   "outputs": [],
   "source": [
    "lista = pd.merge(lista, mean_std, how='left', on='chave')"
   ]
  },
  {
   "cell_type": "code",
   "execution_count": 101,
   "metadata": {
    "collapsed": false
   },
   "outputs": [],
   "source": [
    "lista = pd.merge( lista, planilhas[planilhas['rodada'] == nrodada-1][['chave','seletor']], how='left', on='chave')"
   ]
  },
  {
   "cell_type": "code",
   "execution_count": 103,
   "metadata": {
    "collapsed": false
   },
   "outputs": [],
   "source": [
    "media_provaveis = lista[lista['seletor'] == 'provável']['esperado'].mean()"
   ]
  },
  {
   "cell_type": "code",
   "execution_count": 118,
   "metadata": {
    "collapsed": false
   },
   "outputs": [
    {
     "data": {
      "text/plain": [
       "3.5329995721925243"
      ]
     },
     "execution_count": 118,
     "metadata": {},
     "output_type": "execute_result"
    }
   ],
   "source": [
    "media_provaveis"
   ]
  },
  {
   "cell_type": "code",
   "execution_count": 111,
   "metadata": {
    "collapsed": true
   },
   "outputs": [],
   "source": [
    "def projeta_cartoleta(v_esperado, cartoleta_atual , media):\n",
    "    \n",
    "    razao_pontos = (v_esperado/media)-1\n",
    "        \n",
    "    if cartoleta_atual > 20 :\n",
    "        return cartoleta_atual*(-0.0753424 + 0.04335506*razao_pontos + 1)\n",
    "        \n",
    "    elif cartoleta_atual > 15:\n",
    "        return cartoleta_atual*(-0.05365716 + 0.05228891*razao_pontos + 1)\n",
    "        \n",
    "    elif cartoleta_atual > 10:\n",
    "        return cartoleta_atual*(-0.03201649 + 0.07262454*razao_pontos + 1)\n",
    "        \n",
    "    elif cartoleta_atual > 5:\n",
    "        return cartoleta_atual*(0.00725582 + 0.12644463*razao_pontos + 1)\n",
    "         \n",
    "    else:\n",
    "        return cartoleta_atual*(0.22995565 + 0.32314555*razao_pontos + 1)\n",
    "        \n",
    "        "
   ]
  },
  {
   "cell_type": "code",
   "execution_count": 116,
   "metadata": {
    "collapsed": false
   },
   "outputs": [],
   "source": [
    "lista['preco_cartoleta_estimada'] = lista.apply(lambda x: projeta_cartoleta(x['esperado'], x['preco_cartoleta'], media_provaveis),axis=1)"
   ]
  },
  {
   "cell_type": "code",
   "execution_count": 121,
   "metadata": {
    "collapsed": false
   },
   "outputs": [],
   "source": [
    "lista['variacao_cartoleta'] = lista['preco_cartoleta_estimada'] - lista['preco_cartoleta']"
   ]
  },
  {
   "cell_type": "code",
   "execution_count": 124,
   "metadata": {
    "collapsed": false
   },
   "outputs": [],
   "source": [
    "lista['esperado_cartoleta'] = lista['esperado'] / lista['preco_cartoleta']\n",
    "lista['esperado_desvio'] = lista['esperado'] / lista['desvio']"
   ]
  },
  {
   "cell_type": "code",
   "execution_count": 128,
   "metadata": {
    "collapsed": false
   },
   "outputs": [],
   "source": [
    "lista.drop(['chave','Media'],axis=1,inplace=True)"
   ]
  },
  {
   "cell_type": "code",
   "execution_count": 137,
   "metadata": {
    "collapsed": true
   },
   "outputs": [],
   "source": [
    "lista.seletor.fillna('nulo',inplace=True)"
   ]
  },
  {
   "cell_type": "code",
   "execution_count": 138,
   "metadata": {
    "collapsed": false
   },
   "outputs": [],
   "source": [
    "lista.to_json('./Site/Indicadores/tabela.json', orient='records',force_ascii=False)"
   ]
  },
  {
   "cell_type": "code",
   "execution_count": 135,
   "metadata": {
    "collapsed": false
   },
   "outputs": [
    {
     "data": {
      "text/html": [
       "<div>\n",
       "<table border=\"1\" class=\"dataframe\">\n",
       "  <thead>\n",
       "    <tr style=\"text-align: right;\">\n",
       "      <th></th>\n",
       "      <th>Jogador</th>\n",
       "      <th>Time</th>\n",
       "      <th>Posicao</th>\n",
       "      <th>preco_cartoleta</th>\n",
       "      <th>desvio</th>\n",
       "      <th>esperado</th>\n",
       "      <th>seletor</th>\n",
       "      <th>preco_cartoleta_estimada</th>\n",
       "      <th>variacao_cartoleta</th>\n",
       "      <th>esperado_cartoleta</th>\n",
       "      <th>esperado_desvio</th>\n",
       "    </tr>\n",
       "  </thead>\n",
       "  <tbody>\n",
       "    <tr>\n",
       "      <th>0</th>\n",
       "      <td>Henrique Dourado</td>\n",
       "      <td>Fluminense</td>\n",
       "      <td>Atacante</td>\n",
       "      <td>23.53</td>\n",
       "      <td>8.294839</td>\n",
       "      <td>7.63446</td>\n",
       "      <td>suspenso</td>\n",
       "      <td>22.941480</td>\n",
       "      <td>-0.588520</td>\n",
       "      <td>0.324456</td>\n",
       "      <td>0.920387</td>\n",
       "    </tr>\n",
       "    <tr>\n",
       "      <th>1</th>\n",
       "      <td>Gatito Fernández</td>\n",
       "      <td>Botafogo</td>\n",
       "      <td>Goleiro</td>\n",
       "      <td>23.03</td>\n",
       "      <td>6.691514</td>\n",
       "      <td>7.64320</td>\n",
       "      <td>NaN</td>\n",
       "      <td>22.456455</td>\n",
       "      <td>-0.573545</td>\n",
       "      <td>0.331880</td>\n",
       "      <td>1.142223</td>\n",
       "    </tr>\n",
       "    <tr>\n",
       "      <th>2</th>\n",
       "      <td>Luan</td>\n",
       "      <td>Grêmio</td>\n",
       "      <td>Atacante</td>\n",
       "      <td>22.61</td>\n",
       "      <td>8.704592</td>\n",
       "      <td>12.29814</td>\n",
       "      <td>provável</td>\n",
       "      <td>23.338464</td>\n",
       "      <td>0.728464</td>\n",
       "      <td>0.543925</td>\n",
       "      <td>1.412834</td>\n",
       "    </tr>\n",
       "    <tr>\n",
       "      <th>3</th>\n",
       "      <td>Diego</td>\n",
       "      <td>Flamengo</td>\n",
       "      <td>Meia</td>\n",
       "      <td>20.81</td>\n",
       "      <td>8.023103</td>\n",
       "      <td>10.77534</td>\n",
       "      <td>provável</td>\n",
       "      <td>21.091594</td>\n",
       "      <td>0.281594</td>\n",
       "      <td>0.517796</td>\n",
       "      <td>1.343039</td>\n",
       "    </tr>\n",
       "    <tr>\n",
       "      <th>4</th>\n",
       "      <td>Zé Rafael</td>\n",
       "      <td>Bahia</td>\n",
       "      <td>Meia</td>\n",
       "      <td>20.55</td>\n",
       "      <td>3.119035</td>\n",
       "      <td>3.63902</td>\n",
       "      <td>provável</td>\n",
       "      <td>19.028450</td>\n",
       "      <td>-1.521550</td>\n",
       "      <td>0.177081</td>\n",
       "      <td>1.166714</td>\n",
       "    </tr>\n",
       "  </tbody>\n",
       "</table>\n",
       "</div>"
      ],
      "text/plain": [
       "            Jogador        Time   Posicao  preco_cartoleta    desvio  \\\n",
       "0  Henrique Dourado  Fluminense  Atacante            23.53  8.294839   \n",
       "1  Gatito Fernández    Botafogo   Goleiro            23.03  6.691514   \n",
       "2              Luan      Grêmio  Atacante            22.61  8.704592   \n",
       "3             Diego    Flamengo      Meia            20.81  8.023103   \n",
       "4        Zé Rafael        Bahia      Meia            20.55  3.119035   \n",
       "\n",
       "   esperado   seletor  preco_cartoleta_estimada  variacao_cartoleta  \\\n",
       "0   7.63446  suspenso                 22.941480           -0.588520   \n",
       "1   7.64320       NaN                 22.456455           -0.573545   \n",
       "2  12.29814  provável                 23.338464            0.728464   \n",
       "3  10.77534  provável                 21.091594            0.281594   \n",
       "4   3.63902  provável                 19.028450           -1.521550   \n",
       "\n",
       "   esperado_cartoleta  esperado_desvio  \n",
       "0            0.324456         0.920387  \n",
       "1            0.331880         1.142223  \n",
       "2            0.543925         1.412834  \n",
       "3            0.517796         1.343039  \n",
       "4            0.177081         1.166714  "
      ]
     },
     "execution_count": 135,
     "metadata": {},
     "output_type": "execute_result"
    }
   ],
   "source": [
    "lista.head()"
   ]
  },
  {
   "cell_type": "code",
   "execution_count": 139,
   "metadata": {
    "collapsed": false
   },
   "outputs": [],
   "source": [
    "agrupado = lista.groupby('Posicao').mean()"
   ]
  },
  {
   "cell_type": "code",
   "execution_count": 140,
   "metadata": {
    "collapsed": true
   },
   "outputs": [],
   "source": [
    "agrupado.reset_index(inplace=True)"
   ]
  },
  {
   "cell_type": "code",
   "execution_count": 141,
   "metadata": {
    "collapsed": false
   },
   "outputs": [
    {
     "data": {
      "text/html": [
       "<div>\n",
       "<table border=\"1\" class=\"dataframe\">\n",
       "  <thead>\n",
       "    <tr style=\"text-align: right;\">\n",
       "      <th></th>\n",
       "      <th>Posicao</th>\n",
       "      <th>preco_cartoleta</th>\n",
       "      <th>desvio</th>\n",
       "      <th>esperado</th>\n",
       "      <th>preco_cartoleta_estimada</th>\n",
       "      <th>variacao_cartoleta</th>\n",
       "      <th>esperado_cartoleta</th>\n",
       "      <th>esperado_desvio</th>\n",
       "    </tr>\n",
       "  </thead>\n",
       "  <tbody>\n",
       "    <tr>\n",
       "      <th>0</th>\n",
       "      <td>Atacante</td>\n",
       "      <td>6.915526</td>\n",
       "      <td>3.535805</td>\n",
       "      <td>2.788735</td>\n",
       "      <td>6.931821</td>\n",
       "      <td>0.016294</td>\n",
       "      <td>0.314693</td>\n",
       "      <td>0.552839</td>\n",
       "    </tr>\n",
       "    <tr>\n",
       "      <th>1</th>\n",
       "      <td>Goleiro</td>\n",
       "      <td>8.781429</td>\n",
       "      <td>5.249033</td>\n",
       "      <td>3.317575</td>\n",
       "      <td>8.771086</td>\n",
       "      <td>-0.010342</td>\n",
       "      <td>-0.043715</td>\n",
       "      <td>0.538181</td>\n",
       "    </tr>\n",
       "    <tr>\n",
       "      <th>2</th>\n",
       "      <td>Lateral</td>\n",
       "      <td>6.738452</td>\n",
       "      <td>3.787022</td>\n",
       "      <td>2.717554</td>\n",
       "      <td>6.691548</td>\n",
       "      <td>-0.046904</td>\n",
       "      <td>0.406750</td>\n",
       "      <td>0.587127</td>\n",
       "    </tr>\n",
       "    <tr>\n",
       "      <th>3</th>\n",
       "      <td>Meia</td>\n",
       "      <td>6.569828</td>\n",
       "      <td>2.869957</td>\n",
       "      <td>2.057857</td>\n",
       "      <td>6.425820</td>\n",
       "      <td>-0.144007</td>\n",
       "      <td>0.272854</td>\n",
       "      <td>0.472183</td>\n",
       "    </tr>\n",
       "    <tr>\n",
       "      <th>4</th>\n",
       "      <td>Zagueiro</td>\n",
       "      <td>6.570000</td>\n",
       "      <td>3.737885</td>\n",
       "      <td>2.603634</td>\n",
       "      <td>6.583739</td>\n",
       "      <td>0.013739</td>\n",
       "      <td>0.259125</td>\n",
       "      <td>0.479403</td>\n",
       "    </tr>\n",
       "  </tbody>\n",
       "</table>\n",
       "</div>"
      ],
      "text/plain": [
       "    Posicao  preco_cartoleta    desvio  esperado  preco_cartoleta_estimada  \\\n",
       "0  Atacante         6.915526  3.535805  2.788735                  6.931821   \n",
       "1   Goleiro         8.781429  5.249033  3.317575                  8.771086   \n",
       "2   Lateral         6.738452  3.787022  2.717554                  6.691548   \n",
       "3      Meia         6.569828  2.869957  2.057857                  6.425820   \n",
       "4  Zagueiro         6.570000  3.737885  2.603634                  6.583739   \n",
       "\n",
       "   variacao_cartoleta  esperado_cartoleta  esperado_desvio  \n",
       "0            0.016294            0.314693         0.552839  \n",
       "1           -0.010342           -0.043715         0.538181  \n",
       "2           -0.046904            0.406750         0.587127  \n",
       "3           -0.144007            0.272854         0.472183  \n",
       "4            0.013739            0.259125         0.479403  "
      ]
     },
     "execution_count": 141,
     "metadata": {},
     "output_type": "execute_result"
    }
   ],
   "source": [
    "agrupado"
   ]
  },
  {
   "cell_type": "code",
   "execution_count": 149,
   "metadata": {
    "collapsed": false
   },
   "outputs": [],
   "source": [
    "lista2 = pd.concat([lista,agrupado],axis=0)"
   ]
  },
  {
   "cell_type": "code",
   "execution_count": 150,
   "metadata": {
    "collapsed": true
   },
   "outputs": [],
   "source": [
    "lista2.fillna('-',inplace=True)"
   ]
  },
  {
   "cell_type": "code",
   "execution_count": 151,
   "metadata": {
    "collapsed": true
   },
   "outputs": [],
   "source": [
    "lista2.to_json('./Site/Indicadores/tabela.json', orient='records',force_ascii=False)"
   ]
  },
  {
   "cell_type": "code",
   "execution_count": 148,
   "metadata": {
    "collapsed": false
   },
   "outputs": [
    {
     "data": {
      "text/html": [
       "<div>\n",
       "<table border=\"1\" class=\"dataframe\">\n",
       "  <thead>\n",
       "    <tr style=\"text-align: right;\">\n",
       "      <th></th>\n",
       "      <th>Jogador</th>\n",
       "      <th>Posicao</th>\n",
       "      <th>Time</th>\n",
       "      <th>desvio</th>\n",
       "      <th>esperado</th>\n",
       "      <th>esperado_cartoleta</th>\n",
       "      <th>esperado_desvio</th>\n",
       "      <th>preco_cartoleta</th>\n",
       "      <th>preco_cartoleta_estimada</th>\n",
       "      <th>seletor</th>\n",
       "      <th>variacao_cartoleta</th>\n",
       "    </tr>\n",
       "  </thead>\n",
       "  <tbody>\n",
       "    <tr>\n",
       "      <th>0</th>\n",
       "      <td>-</td>\n",
       "      <td>Atacante</td>\n",
       "      <td>-</td>\n",
       "      <td>3.535805</td>\n",
       "      <td>2.788735</td>\n",
       "      <td>0.314693</td>\n",
       "      <td>0.552839</td>\n",
       "      <td>6.915526</td>\n",
       "      <td>6.931821</td>\n",
       "      <td>-</td>\n",
       "      <td>0.016294</td>\n",
       "    </tr>\n",
       "    <tr>\n",
       "      <th>1</th>\n",
       "      <td>-</td>\n",
       "      <td>Goleiro</td>\n",
       "      <td>-</td>\n",
       "      <td>5.249033</td>\n",
       "      <td>3.317575</td>\n",
       "      <td>-0.043715</td>\n",
       "      <td>0.538181</td>\n",
       "      <td>8.781429</td>\n",
       "      <td>8.771086</td>\n",
       "      <td>-</td>\n",
       "      <td>-0.010342</td>\n",
       "    </tr>\n",
       "    <tr>\n",
       "      <th>2</th>\n",
       "      <td>-</td>\n",
       "      <td>Lateral</td>\n",
       "      <td>-</td>\n",
       "      <td>3.787022</td>\n",
       "      <td>2.717554</td>\n",
       "      <td>0.406750</td>\n",
       "      <td>0.587127</td>\n",
       "      <td>6.738452</td>\n",
       "      <td>6.691548</td>\n",
       "      <td>-</td>\n",
       "      <td>-0.046904</td>\n",
       "    </tr>\n",
       "    <tr>\n",
       "      <th>3</th>\n",
       "      <td>-</td>\n",
       "      <td>Meia</td>\n",
       "      <td>-</td>\n",
       "      <td>2.869957</td>\n",
       "      <td>2.057857</td>\n",
       "      <td>0.272854</td>\n",
       "      <td>0.472183</td>\n",
       "      <td>6.569828</td>\n",
       "      <td>6.425820</td>\n",
       "      <td>-</td>\n",
       "      <td>-0.144007</td>\n",
       "    </tr>\n",
       "    <tr>\n",
       "      <th>4</th>\n",
       "      <td>-</td>\n",
       "      <td>Zagueiro</td>\n",
       "      <td>-</td>\n",
       "      <td>3.737885</td>\n",
       "      <td>2.603634</td>\n",
       "      <td>0.259125</td>\n",
       "      <td>0.479403</td>\n",
       "      <td>6.570000</td>\n",
       "      <td>6.583739</td>\n",
       "      <td>-</td>\n",
       "      <td>0.013739</td>\n",
       "    </tr>\n",
       "  </tbody>\n",
       "</table>\n",
       "</div>"
      ],
      "text/plain": [
       "  Jogador   Posicao Time    desvio  esperado  esperado_cartoleta  \\\n",
       "0       -  Atacante    -  3.535805  2.788735            0.314693   \n",
       "1       -   Goleiro    -  5.249033  3.317575           -0.043715   \n",
       "2       -   Lateral    -  3.787022  2.717554            0.406750   \n",
       "3       -      Meia    -  2.869957  2.057857            0.272854   \n",
       "4       -  Zagueiro    -  3.737885  2.603634            0.259125   \n",
       "\n",
       "   esperado_desvio  preco_cartoleta  preco_cartoleta_estimada seletor  \\\n",
       "0         0.552839         6.915526                  6.931821       -   \n",
       "1         0.538181         8.781429                  8.771086       -   \n",
       "2         0.587127         6.738452                  6.691548       -   \n",
       "3         0.472183         6.569828                  6.425820       -   \n",
       "4         0.479403         6.570000                  6.583739       -   \n",
       "\n",
       "   variacao_cartoleta  \n",
       "0            0.016294  \n",
       "1           -0.010342  \n",
       "2           -0.046904  \n",
       "3           -0.144007  \n",
       "4            0.013739  "
      ]
     },
     "execution_count": 148,
     "metadata": {},
     "output_type": "execute_result"
    }
   ],
   "source": [
    "lista2"
   ]
  },
  {
   "cell_type": "code",
   "execution_count": null,
   "metadata": {
    "collapsed": true
   },
   "outputs": [],
   "source": []
  }
 ],
 "metadata": {
  "anaconda-cloud": {},
  "kernelspec": {
   "display_name": "Python [Root]",
   "language": "python",
   "name": "Python [Root]"
  },
  "language_info": {
   "codemirror_mode": {
    "name": "ipython",
    "version": 3
   },
   "file_extension": ".py",
   "mimetype": "text/x-python",
   "name": "python",
   "nbconvert_exporter": "python",
   "pygments_lexer": "ipython3",
   "version": "3.5.2"
  }
 },
 "nbformat": 4,
 "nbformat_minor": 0
}
