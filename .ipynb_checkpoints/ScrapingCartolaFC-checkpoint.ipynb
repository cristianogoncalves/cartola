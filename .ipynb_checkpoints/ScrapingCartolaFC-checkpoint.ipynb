{
 "cells": [
  {
   "cell_type": "code",
   "execution_count": 1,
   "metadata": {
    "collapsed": true
   },
   "outputs": [],
   "source": [
    "import pandas as pd\n",
    "\n",
    "from selenium import webdriver\n",
    "from selenium.webdriver.common.keys import Keys\n",
    "from selenium.webdriver.common.by import By\n",
    "from selenium.webdriver.support.ui import WebDriverWait\n",
    "import selenium.webdriver.support.expected_conditions as EC\n",
    "from selenium.common.exceptions import TimeoutException\n",
    "from selenium.common.exceptions import NoSuchElementException\n",
    "from selenium.webdriver.chrome.options import Options\n",
    "from selenium.webdriver.common.action_chains import ActionChains\n",
    "import time\n",
    "import sqlite3\n",
    "import random\n",
    "from datetime import datetime\n",
    "\n",
    "from bs4 import BeautifulSoup\n",
    "import re\n",
    "#from goose import Goose\n",
    "#import pymongo\n",
    "from time import mktime\n",
    "import os"
   ]
  },
  {
   "cell_type": "code",
   "execution_count": 2,
   "metadata": {
    "collapsed": true
   },
   "outputs": [],
   "source": [
    "nrodada = 10"
   ]
  },
  {
   "cell_type": "code",
   "execution_count": 3,
   "metadata": {
    "collapsed": false
   },
   "outputs": [],
   "source": [
    "chromedriver = \".\\chromedriver\\chromedriver\"\n",
    "os.environ[\"webdriver.chrome.driver\"] = chromedriver\n",
    "chrome_options = Options()\n",
    "chrome_options.add_argument(\"--disable-extensions\")\n",
    "\n",
    "browser = webdriver.Chrome(chromedriver,chrome_options=chrome_options)\n",
    "browser.implicitly_wait(10)\n",
    "        "
   ]
  },
  {
   "cell_type": "code",
   "execution_count": 4,
   "metadata": {
    "collapsed": true
   },
   "outputs": [],
   "source": [
    "browser.get(u'https://cartolafc.globo.com/#/time')\n",
    "time.sleep(5)"
   ]
  },
  {
   "cell_type": "code",
   "execution_count": 5,
   "metadata": {
    "collapsed": true
   },
   "outputs": [],
   "source": [
    "f = open('login.txt')\n",
    "user = f.readline()\n",
    "password = f.readline().replace('\\r\\n','')\n",
    "f.close()"
   ]
  },
  {
   "cell_type": "code",
   "execution_count": 6,
   "metadata": {
    "collapsed": false
   },
   "outputs": [],
   "source": [
    "entrar = browser.find_element_by_link_text('ENTRAR ›')\n",
    "ActionChains(browser).move_to_element(entrar).perform()\n",
    "entrar.click()\n",
    "\n",
    "time.sleep(1)\n",
    "browser.switch_to_frame('login-popin-iframe')\n",
    "time.sleep(1)\n",
    "browser.find_element_by_xpath('//*[@id=\"login\"]').clear()\n",
    "time.sleep(1)\n",
    "browser.find_element_by_xpath('//*[@id=\"login\"]').send_keys(user)\n",
    "time.sleep(1)\n",
    "browser.find_element_by_xpath('//*[@id=\"password\"]').clear()\n",
    "time.sleep(1)\n",
    "browser.find_element_by_xpath('//*[@id=\"password\"]').send_keys(password)\n",
    "time.sleep(2)\n",
    "browser.find_element_by_xpath('//*[@id=\"tpl-content\"]/div[2]/div[1]/form/div[6]').click()\n",
    "\n",
    "time.sleep(5)\n",
    "browser.find_element_by_xpath('//*[@id=\"botao-entre-cartola\"]/span').click()  # Entra no Cartola"
   ]
  },
  {
   "cell_type": "code",
   "execution_count": 7,
   "metadata": {
    "collapsed": true
   },
   "outputs": [],
   "source": [
    "browser.find_element_by_xpath('/html/body/div/div[7]/main/div/div[3]/div/button').click() # Escalar meu time"
   ]
  },
  {
   "cell_type": "code",
   "execution_count": 11,
   "metadata": {
    "collapsed": false,
    "scrolled": true
   },
   "outputs": [],
   "source": [
    "#browser.find_element_by_xpath('/html/body/div/div[5]/ui-view/main/div[3]/div/div[1]/div[2]/div/section/article/footer/a').click()"
   ]
  },
  {
   "cell_type": "code",
   "execution_count": 8,
   "metadata": {
    "collapsed": true
   },
   "outputs": [],
   "source": [
    "#opcoes = {'MEIA': ['Provavel','Duvida','Nulo'],\n",
    "#          'LATERAL': ['Provavel','Duvida','Nulo'],\n",
    "#          'ZAGUEIRO': ['Provavel','Duvida','Nulo'],\n",
    "#          'ATACANTE': ['Provavel','Duvida','Nulo'],\n",
    "#          'GOLEIRO' :['Provavel','Nulo'],\n",
    "#          u'TÉCNICO' : ['Provavel']          \n",
    "#         }\n",
    "\n",
    "opcoes = ['MEIA','ATACANTE', 'ZAGUEIRO','LATERAL','GOLEIRO',u'TÉCNICO']\n",
    "\n",
    "dict_estados = {'Provavel':'//*[@id=\"atletas-mercado\"]/div[2]/div[2]/div/div/div[2]/div/div[2]/div/span',\n",
    "                'Duvida': '//*[@id=\"atletas-mercado\"]/div[2]/div[2]/div/div/div[2]/div/div[4]/div/span',\n",
    "                'Nulo': '//*[@id=\"atletas-mercado\"]/div[2]/div[2]/div/div/div[2]/div/div[6]/div/span'\n",
    "                }\n",
    "\n",
    "dict_posicao = {'GOLEIRO' : '//*[@id=\"atletas-mercado\"]/div[2]/div[2]/div/div/div[1]/div/div[2]/div/span',\n",
    "               'ZAGUEIRO': '//*[@id=\"atletas-mercado\"]/div[2]/div[2]/div/div/div[1]/div/div[3]/div/span',\n",
    "                'LATERAL': '//*[@id=\"atletas-mercado\"]/div[2]/div[2]/div/div/div[1]/div/div[4]/div/span',\n",
    "                'MEIA': '//*[@id=\"atletas-mercado\"]/div[2]/div[2]/div/div/div[1]/div/div[5]/div/span',\n",
    "                'ATACANTE': '//*[@id=\"atletas-mercado\"]/div[2]/div[2]/div/div/div[1]/div/div[6]/div/span',\n",
    "                u'TÉCNICO': '//*[@id=\"atletas-mercado\"]/div[2]/div[2]/div/div/div[1]/div/div[7]/div/span'\n",
    "                }\n",
    "\n",
    "dict_qtde = {'MEIA': 45, 'ATACANTE': 5, 'ZAGUEIRO': 5,'LATERAL': 5,'GOLEIRO' : 5,u'TÉCNICO': 2}\n",
    "               "
   ]
  },
  {
   "cell_type": "code",
   "execution_count": 9,
   "metadata": {
    "collapsed": false
   },
   "outputs": [
    {
     "data": {
      "text/plain": [
       "'\\nbrowser.find_element_by_xpath(\\'//*[@id=\"atletas-mercado\"]/div[1]/div/div[2]/div/div[2]/span\\').click()  # botao Filtro\\ntime.sleep(3)\\nbrowser.find_element_by_xpath(dict_estados[\\'Provavel\\']).click()\\ntime.sleep(3)\\nbrowser.find_element_by_xpath(dict_estados[\\'Provavel\\']).click()\\ntime.sleep(3)\\nbrowser.find_element_by_xpath(dict_posicao[\\'GOLEIRO\\']).click()\\ntime.sleep(5)\\nbrowser.find_element_by_xpath(\\'//*[@id=\"atletas-mercado\"]/div[2]/div[3]/div/div/div[2]\\').click()\\n'"
      ]
     },
     "execution_count": 9,
     "metadata": {},
     "output_type": "execute_result"
    }
   ],
   "source": [
    "browser.find_element_by_xpath('//*[@id=\"atletas-mercado\"]/div[1]/div/div[2]/div/div[2]/span').click()  # botao Filtro\n",
    "time.sleep(3)\n",
    "browser.find_element_by_xpath('//*[@id=\"atletas-mercado\"]/div[2]/div[3]/div/div/div[1]').click()  # limpar filtro\n",
    "time.sleep(2)\n",
    "\"\"\"\n",
    "browser.find_element_by_xpath('//*[@id=\"atletas-mercado\"]/div[1]/div/div[2]/div/div[2]/span').click()  # botao Filtro\n",
    "time.sleep(3)\n",
    "browser.find_element_by_xpath(dict_estados['Provavel']).click()\n",
    "time.sleep(3)\n",
    "browser.find_element_by_xpath(dict_estados['Provavel']).click()\n",
    "time.sleep(3)\n",
    "browser.find_element_by_xpath(dict_posicao['GOLEIRO']).click()\n",
    "time.sleep(5)\n",
    "browser.find_element_by_xpath('//*[@id=\"atletas-mercado\"]/div[2]/div[3]/div/div/div[2]').click()\n",
    "\"\"\""
   ]
  },
  {
   "cell_type": "code",
   "execution_count": 10,
   "metadata": {
    "collapsed": false
   },
   "outputs": [],
   "source": [
    "def rola_pagina(qtd):\n",
    "    for i in range(qtd):\n",
    "        element = browser.find_element_by_xpath('/html/body/div/div[7]')\n",
    "        ActionChains(browser).move_to_element(element).perform()\n",
    "        time.sleep(2)"
   ]
  },
  {
   "cell_type": "code",
   "execution_count": 11,
   "metadata": {
    "collapsed": true
   },
   "outputs": [],
   "source": [
    "dict_pontuacao = {\"atleta.pontos ? atleta.pontos : '-'\" : u'Atleta_pontos',\n",
    "\"atleta.media ? atleta.media : '-'\": u'Atleta_média',\n",
    "\"atleta.jogos_num ? atleta.jogos_num : '-'\": u'Número_Jogos',\n",
    "\"atleta.scout.G\": u'Gol',\n",
    "\"atleta.scout.A\": 'Assistência', \n",
    "\"atleta.scout.FT\": u'Finalização_na_trave',\n",
    "\"atleta.scout.FD\": u'Finalização_defendida',\n",
    "\"atleta.scout.FF\": u'Finalização_pra_fora',\n",
    "\"atleta.scout.FS\": u'Falta_sofrida',\n",
    "\"atleta.scout.PP\": u'Pênalti_perdido',\n",
    "\"atleta.scout.I\": u'Impedimento',\n",
    "\"atleta.scout.PE\": u'Passe_errado',\n",
    "\"atleta.scout.SG\": u'Jogos_sem_sofrer_gols',\n",
    "\"atleta.scout.DP\": u'Defesa_de_pênalti',\n",
    "\"atleta.scout.DD\": u'Defesa_difícil',\n",
    "\"atleta.scout.RB\": u'Roubada_de_bola',\n",
    "\"atleta.scout.GC\": u'Gol_contra',\n",
    "\"atleta.scout.CV\": u'Cartão_vermelho',\n",
    "\"atleta.scout.CA\": u'Cartão_amarelo',\n",
    "\"atleta.scout.GS\": u'Gol_sofrido',\n",
    "\"atleta.scout.FC\": u'Falta_cometida'}\n"
   ]
  },
  {
   "cell_type": "code",
   "execution_count": 12,
   "metadata": {
    "collapsed": false
   },
   "outputs": [],
   "source": [
    "\n",
    "def scraping_resultado_posicao(soup):\n",
    "    jogadores = []\n",
    "    for s in soup.body.findAll(attrs={'ng-repeat': \"atleta in timecontroller.atletasInfiniteScroll track by $index\"}):\n",
    "\n",
    "        dados = {}\n",
    "        dados[u'Nome'] = s.find(attrs={'class': \"small-11 medium-8 large-2 columns cartola-atletas__foto-container large-push-2\"}).img['alt'] # nome\n",
    "        dados[u'Time'] = s.find(attrs={'class': \"cartola-atletas__time\"}).img['title'] # time\n",
    "        dados[u'Abreviacao'] = s.find(attrs={'class': \"show-for-large-up cartola-atletas__time__abreviacao\"}).getText() # Abreviação\n",
    "        dados[u'Apelido'] = s.find(attrs={'class': \"columns cartola-atletas__apelido\"}).getText() # apelido\n",
    "        dados[u'Posicao'] =  s.find(attrs={'class': \"column cartola-atletas__posicao cartola-atletas__posicao--full\"}).getText() # posicao\n",
    "        try:\n",
    "            dados[u'seletor'] = s.find(attrs={'class': \"cartola-atletas__card-badges\"}).svg['seletor']  # seletor\n",
    "        except:\n",
    "            dados[u'seletor'] = 'Nulo'\n",
    "\n",
    "        for s2 in s.findAll(attrs={'class': \"cartola-atletas__stats__numeros\"}):\n",
    "            dados[dict_pontuacao[s2['ng-bind']]]= s2.getText()\n",
    "\n",
    "        dados['preco_cartoleta'] = s.find(attrs={'class': \"cartola-atletas__preco-cartoleta\"}).text\n",
    "\n",
    "        try:\n",
    "            dados['preco_variacao_positiva'] = '+' + s.find(attrs={'class': \"cartola-atletas__preco-media cartola-atletas__preco-media--positiva\"}).text\n",
    "        except:\n",
    "            try:\n",
    "                dados['preco_variacao_negativa'] = '-' + s.find(attrs={'class': \"cartola-atletas__preco-media cartola-atletas__preco-media--negativa\"}).text\n",
    "            except:\n",
    "                dados['preco_variacao_negativa'] = '-' + s.find(attrs={'class': \"cartola-atletas__preco-media\"}).text\n",
    "                pass\n",
    "\n",
    "        jogadores.append(dados)\n",
    "    \n",
    "    return jogadores"
   ]
  },
  {
   "cell_type": "code",
   "execution_count": 13,
   "metadata": {
    "collapsed": false
   },
   "outputs": [],
   "source": [
    "resultado_global = []\n",
    "\n",
    "for i, pos in enumerate(opcoes):\n",
    "    \n",
    "    #for e in estados:\n",
    "    if i == 0:    \n",
    "        browser.find_element_by_xpath('//*[@id=\"atletas-mercado\"]/div[1]/div/div[2]/div/div[2]/span').click() \n",
    "        time.sleep(2)\n",
    "    else:\n",
    "        browser.find_element_by_xpath('html/body/div/div[5]/ui-view/div[2]/div[1]/div/div[2]/div[2]').click() \n",
    "        time.sleep(2)\n",
    "\n",
    "    browser.find_element_by_xpath(dict_posicao[pos]).click()\n",
    "    time.sleep(1)\n",
    "    #browser.find_element_by_xpath(dict_estados[e]).click()\n",
    "    #time.sleep(.5)\n",
    "\n",
    "    # executa o filtro\n",
    "    browser.find_element_by_xpath('//*[@id=\"atletas-mercado\"]/div[2]/div[3]/div/div/div[2]').click()\n",
    "    time.sleep(2)\n",
    "\n",
    "    rola_pagina(dict_qtde[pos])\n",
    "\n",
    "    f = browser.page_source\n",
    "    soup = BeautifulSoup(f, 'html.parser')\n",
    "    resultado_global.append(scraping_resultado_posicao(soup))\n",
    "    time.sleep(5)\n",
    "\n",
    "        "
   ]
  },
  {
   "cell_type": "code",
   "execution_count": 14,
   "metadata": {
    "collapsed": false
   },
   "outputs": [],
   "source": [
    "planilha = [r2 for r in resultado_global for r2 in r]\n",
    "df = pd.DataFrame(planilha)"
   ]
  },
  {
   "cell_type": "code",
   "execution_count": 15,
   "metadata": {
    "collapsed": false
   },
   "outputs": [
    {
     "name": "stdout",
     "output_type": "stream",
     "text": [
      "<class 'pandas.core.frame.DataFrame'>\n",
      "RangeIndex: 818 entries, 0 to 817\n",
      "Data columns (total 30 columns):\n",
      "Atleta_média               818 non-null object\n",
      "Cartão_amarelo             818 non-null object\n",
      "Cartão_vermelho            818 non-null object\n",
      "Defesa_de_pênalti          818 non-null object\n",
      "Falta_sofrida              818 non-null object\n",
      "Finalização_na_trave       818 non-null object\n",
      "Finalização_pra_fora       818 non-null object\n",
      "Gol                        818 non-null object\n",
      "Nome                       818 non-null object\n",
      "Número_Jogos               818 non-null object\n",
      "Posicao                    818 non-null object\n",
      "Roubada_de_bola            818 non-null object\n",
      "preco_cartoleta            818 non-null object\n",
      "preco_variacao_positiva    142 non-null object\n",
      "seletor                    818 non-null object\n",
      "Assistência                818 non-null object\n",
      "Atleta_pontos              818 non-null object\n",
      "Jogos_sem_sofrer_gols      818 non-null object\n",
      "Finalização_defendida      818 non-null object\n",
      "Time                       818 non-null object\n",
      "Abreviacao                 818 non-null object\n",
      "Defesa_difícil             818 non-null object\n",
      "Falta_cometida             818 non-null object\n",
      "Pênalti_perdido            818 non-null object\n",
      "Gol_contra                 818 non-null object\n",
      "Passe_errado               818 non-null object\n",
      "Gol_sofrido                818 non-null object\n",
      "Apelido                    818 non-null object\n",
      "Impedimento                818 non-null object\n",
      "preco_variacao_negativa    676 non-null object\n",
      "dtypes: object(30)\n",
      "memory usage: 191.8+ KB\n"
     ]
    }
   ],
   "source": [
    "df.info()"
   ]
  },
  {
   "cell_type": "code",
   "execution_count": 16,
   "metadata": {
    "collapsed": true
   },
   "outputs": [],
   "source": [
    "df.to_pickle('{}rodada.pkl'.format(str(nrodada)))"
   ]
  },
  {
   "cell_type": "code",
   "execution_count": 17,
   "metadata": {
    "collapsed": true
   },
   "outputs": [],
   "source": [
    "### Tabela de Jogos"
   ]
  },
  {
   "cell_type": "code",
   "execution_count": 18,
   "metadata": {
    "collapsed": false
   },
   "outputs": [],
   "source": [
    "#browser.find_element_by_xpath('//*[@id=\"atletas-mercado\"]/div[1]/div/div[2]/div/div[1]/span').click()\n",
    "browser.find_element_by_xpath('/html/body/div[1]/div[5]/ui-view/div[2]/div[1]/div/div[2]/div[1]/span').click()"
   ]
  },
  {
   "cell_type": "code",
   "execution_count": 19,
   "metadata": {
    "collapsed": true
   },
   "outputs": [],
   "source": [
    "f = browser.page_source\n",
    "soup = BeautifulSoup(f, 'html.parser')  "
   ]
  },
  {
   "cell_type": "code",
   "execution_count": 20,
   "metadata": {
    "collapsed": false,
    "scrolled": true
   },
   "outputs": [],
   "source": [
    "r = []\n",
    "\n",
    "\n",
    "for s in soup.findAll(attrs={'class': 'jogos-rodada__partidas'}):\n",
    "#for s in soup.findAll(attrs={'class': 'cartola-popin-body-content cartola-card'}):\n",
    "    \n",
    "    for s2 in s.find_all('li'):\n",
    "        \n",
    "        dados = {}\n",
    "        dados['data'] =  s2.find(attrs={'class': \"jogos-rodada__partida__data\"}).text\n",
    "        dados['local'] =  s2.find(attrs={'class': \"jogos-rodada__partida__local\"}).text\n",
    "        dados['hora'] = s2.find(attrs={'class': \"jogos-rodada__partida__hora\"}).text\n",
    "        dados['Mandante_posicao'] = s2.find(attrs={'class': \"jogos-rodada__partida__mandante__posicao column small-2\"}).text\n",
    "        dados['Mandante'] = s2.find(attrs={'class': \"column small-3\"}).img['alt']\n",
    "        dados['Visitante_posicao'] = s2.find(attrs={'class': \"jogos-rodada__partida__visitante__posicao column small-2\"}).text\n",
    "        dados['Visitante'] = s2.findAll(attrs={'class': \"column small-3\"})[1].img['alt']\n",
    "\n",
    "        r.append(dados)\n",
    "        \n",
    "        \n",
    "    "
   ]
  },
  {
   "cell_type": "code",
   "execution_count": 21,
   "metadata": {
    "collapsed": false,
    "scrolled": true
   },
   "outputs": [],
   "source": [
    "proximo_jogos = r"
   ]
  },
  {
   "cell_type": "code",
   "execution_count": 22,
   "metadata": {
    "collapsed": false
   },
   "outputs": [],
   "source": [
    "df2  = pd.DataFrame(proximo_jogos)"
   ]
  },
  {
   "cell_type": "code",
   "execution_count": 23,
   "metadata": {
    "collapsed": false
   },
   "outputs": [],
   "source": [
    "df2.to_pickle('{}rodada_jogos.pkl'.format(str(nrodada+1)))"
   ]
  },
  {
   "cell_type": "markdown",
   "metadata": {
    "collapsed": true
   },
   "source": [
    "# Captura Resultados"
   ]
  },
  {
   "cell_type": "code",
   "execution_count": 24,
   "metadata": {
    "collapsed": true
   },
   "outputs": [],
   "source": [
    "browser.get('http://globoesporte.globo.com/futebol/brasileirao-serie-a/')\n",
    "time.sleep(5)"
   ]
  },
  {
   "cell_type": "code",
   "execution_count": 25,
   "metadata": {
    "collapsed": true
   },
   "outputs": [],
   "source": [
    "f = browser.page_source\n",
    "soup = BeautifulSoup(f, 'html.parser')\n",
    "\n",
    "def get_back(soup):\n",
    "    while soup.body.find(attrs={'class':'tabela-navegacao-seletor'}).text != u'01\\xaa RODADA':\n",
    "        browser.find_element_by_xpath('//*[@id=\"container-para-tabela-simulador-ou-navegacao-js\"]/article/aside/nav/span[1]').click()\n",
    "        f = browser.page_source\n",
    "        soup = BeautifulSoup(f, 'html.parser')\n",
    "        time.sleep(1)\n",
    "\n",
    "get_back(soup)"
   ]
  },
  {
   "cell_type": "code",
   "execution_count": 26,
   "metadata": {
    "collapsed": true
   },
   "outputs": [],
   "source": [
    "jogos = []\n",
    "for i in range(nrodada): # ate a 6º rodada\n",
    "    \n",
    "    f = browser.page_source\n",
    "    soup = BeautifulSoup(f, 'html.parser')\n",
    "    \n",
    "    rodada = soup.body.find(attrs={'class':'tabela-navegacao-seletor'}).text\n",
    "    for t in soup.body.findAll(attrs={'class':'placar-jogo'}):\n",
    "        jogo = {}\n",
    "        jogo['rodada'] = rodada\n",
    "        jogo['jogo']= t.find(attrs={'itemprop':'name'})['content']  #Jogo\n",
    "        jogo['Mandante'] =  t.find(attrs={'class':'placar-jogo-equipes-escudo-mandante'})['title']  #Mandante\n",
    "        jogo['Mandante_Score'] =  t.find(attrs={'class':'placar-jogo-equipes-placar-mandante'}).text # Mandante Score\n",
    "        jogo['Visitante'] =  t.find(attrs={'class':'placar-jogo-equipes-escudo-visitante'})['title']  # Visitante\n",
    "        jogo['Visitante_Score'] = t.find(attrs={'class':'placar-jogo-equipes-placar-visitante'}).text   #Visitante Score\n",
    "        jogos.append(jogo)\n",
    "\n",
    "    \n",
    "    browser.find_element_by_xpath('//*[@id=\"container-para-tabela-simulador-ou-navegacao-js\"]/article/aside/nav/span[3]').click()\n",
    "    time.sleep(5)"
   ]
  },
  {
   "cell_type": "code",
   "execution_count": 27,
   "metadata": {
    "collapsed": true
   },
   "outputs": [],
   "source": [
    "pd.DataFrame(jogos).to_excel(r'.\\Excel\\resultados.xlsx')\n",
    "pd.DataFrame(jogos).to_pickle('resultados.pkl')"
   ]
  },
  {
   "cell_type": "code",
   "execution_count": null,
   "metadata": {
    "collapsed": true
   },
   "outputs": [],
   "source": []
  }
 ],
 "metadata": {
  "kernelspec": {
   "display_name": "Python 2",
   "language": "python",
   "name": "python2"
  },
  "language_info": {
   "codemirror_mode": {
    "name": "ipython",
    "version": 2
   },
   "file_extension": ".py",
   "mimetype": "text/x-python",
   "name": "python",
   "nbconvert_exporter": "python",
   "pygments_lexer": "ipython2",
   "version": "2.7.11"
  }
 },
 "nbformat": 4,
 "nbformat_minor": 0
}
