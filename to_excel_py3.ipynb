{
 "cells": [
  {
   "cell_type": "code",
   "execution_count": 23,
   "metadata": {
    "collapsed": true
   },
   "outputs": [],
   "source": [
    "# python 3\n",
    "import pandas as pd"
   ]
  },
  {
   "cell_type": "code",
   "execution_count": 24,
   "metadata": {
    "collapsed": true
   },
   "outputs": [],
   "source": [
    "nrodada = 13"
   ]
  },
  {
   "cell_type": "code",
   "execution_count": 25,
   "metadata": {
    "collapsed": true
   },
   "outputs": [],
   "source": [
    "df = pd.read_pickle('{}rodada.pkl'.format(str(nrodada)))"
   ]
  },
  {
   "cell_type": "code",
   "execution_count": 26,
   "metadata": {
    "collapsed": false
   },
   "outputs": [],
   "source": [
    "df[u'Atleta_média'] = df[u'Atleta_média'].astype(float)\n",
    "df[u'Cartão_amarelo'] = df[u'Cartão_amarelo'].astype(int)\n",
    "df[u'Cartão_vermelho'] = df[u'Cartão_vermelho'].astype(int)\n",
    "df[u'Falta_sofrida'] = df[u'Falta_sofrida'].astype(int)\n",
    "df[u'Finalização_na_trave'] = df[u'Finalização_na_trave'].astype(int)\n",
    "df[u'Finalização_pra_fora'] = df[u'Finalização_pra_fora'].astype(int)\n",
    "df[u'Gol'] = df[u'Gol'].astype(int)\n",
    "\n",
    "df[u'Número_Jogos'] = df[u'Número_Jogos'].apply(lambda x: 0 if x == '-' else x)\n",
    "df[u'Número_Jogos'] = df[u'Número_Jogos'].astype(int)\n",
    "\n",
    "df[u'Roubada_de_bola'] = df[u'Roubada_de_bola'].astype(int)\n",
    "df[u'preco_cartoleta'] = df[u'preco_cartoleta'].astype(float)\n",
    "\n",
    "df[u'Atleta_pontos'] = df[u'Atleta_pontos'].astype(float)\n",
    "\n",
    "df[u'Assistência'] = df[u'AssistÃªncia'].astype(float)\n",
    "df.drop([u'AssistÃªncia'],axis=1,inplace=True)\n",
    "\n",
    "df[u'Finalização_defendida'] = df[u'Finalização_defendida'].astype(int)\n",
    "\n",
    "df[u'Jogos_sem_sofrer_gols'] = df[u'Jogos_sem_sofrer_gols'].astype(int)\n",
    "\n",
    "df[u'Defesa_difícil'] = df[u'Defesa_difícil'].astype(int)\n",
    "df[u'Falta_cometida'] = df[u'Falta_cometida'].astype(int)\n",
    "df[u'Pênalti_perdido'] = df[u'Pênalti_perdido'].astype(int)\n",
    "df[u'Defesa_de_pênalti'] = df[u'Defesa_de_pênalti'].astype(int)\n",
    "df[u'Gol_contra'] = df[u'Gol_contra'].astype(int)\n",
    "df[u'Passe_errado'] = df[u'Passe_errado'].astype(int)\n",
    "df[u'Gol_sofrido'] = df[u'Gol_sofrido'].astype(int)\n",
    "df[u'Impedimento'] = df[u'Impedimento'].astype(int)\n",
    "\n",
    "df[u'preco_variacao_negativa'].fillna(0,inplace=True)\n",
    "df[u'preco_variacao_negativa'] = df[u'preco_variacao_negativa'].astype(float)\n",
    "df[u'preco_variacao_positiva'].fillna(0,inplace=True)\n",
    "df[u'preco_variacao_positiva'] = df[u'preco_variacao_positiva'].astype(float)\n",
    "\n",
    "df['preco_variacao'] = df[u'preco_variacao_negativa'] + df[u'preco_variacao_positiva']\n",
    "\n",
    "df.drop([u'preco_variacao_positiva',u'preco_variacao_negativa'],axis=1,inplace=True)\n",
    "\n",
    "dict_seletor = {'status-atleta--contundido' : u'contundido', 'Nulo':'Nulo', 'status-atleta--provavel': u'provável',\n",
    "               'status-atleta--duvida': u'dúvida', 'status-atleta--suspenso': 'suspenso'}\n",
    "\n",
    "df['seletor'] = df['seletor'].apply(lambda x: dict_seletor[x])\n"
   ]
  },
  {
   "cell_type": "code",
   "execution_count": 27,
   "metadata": {
    "collapsed": false
   },
   "outputs": [
    {
     "data": {
      "text/plain": [
       "29"
      ]
     },
     "execution_count": 27,
     "metadata": {},
     "output_type": "execute_result"
    }
   ],
   "source": [
    "len(df.columns)"
   ]
  },
  {
   "cell_type": "code",
   "execution_count": 28,
   "metadata": {
    "collapsed": true
   },
   "outputs": [],
   "source": [
    "ordem = ['Time', 'Abreviacao','Nome','Apelido','Posicao','Número_Jogos','seletor','preco_cartoleta','preco_variacao',\n",
    "'Atleta_pontos', 'Atleta_média','Gol','Assistência','Finalização_na_trave','Finalização_pra_fora','Roubada_de_bola',\n",
    "'Passe_errado', 'Falta_cometida', 'Pênalti_perdido', 'Gol_contra','Falta_sofrida', 'Impedimento','Cartão_amarelo', 'Cartão_vermelho',\n",
    "'Defesa_de_pênalti', 'Jogos_sem_sofrer_gols', 'Finalização_defendida','Defesa_difícil','Gol_sofrido']\n"
   ]
  },
  {
   "cell_type": "code",
   "execution_count": 29,
   "metadata": {
    "collapsed": false
   },
   "outputs": [],
   "source": [
    "df = df[ordem]\n",
    "df = df.sort_values('preco_cartoleta',ascending=0)\n",
    "df.reset_index(inplace=True)\n",
    "df.drop('index',axis=1,inplace=True)"
   ]
  },
  {
   "cell_type": "code",
   "execution_count": 30,
   "metadata": {
    "collapsed": true
   },
   "outputs": [],
   "source": [
    "pj = pd.read_pickle('{}rodada_jogos.pkl'.format(str(nrodada+1)))"
   ]
  },
  {
   "cell_type": "code",
   "execution_count": 31,
   "metadata": {
    "collapsed": false
   },
   "outputs": [
    {
     "data": {
      "text/html": [
       "<div>\n",
       "<table border=\"1\" class=\"dataframe\">\n",
       "  <thead>\n",
       "    <tr style=\"text-align: right;\">\n",
       "      <th></th>\n",
       "      <th>Mandante</th>\n",
       "      <th>Mandante_posicao</th>\n",
       "      <th>Visitante</th>\n",
       "      <th>Visitante_posicao</th>\n",
       "      <th>data</th>\n",
       "      <th>hora</th>\n",
       "      <th>local</th>\n",
       "    </tr>\n",
       "  </thead>\n",
       "  <tbody>\n",
       "    <tr>\n",
       "      <th>0</th>\n",
       "      <td>Corinthians</td>\n",
       "      <td>1º</td>\n",
       "      <td>Atlético-PR</td>\n",
       "      <td>14º</td>\n",
       "      <td>SAB 15/07/2017</td>\n",
       "      <td>19:00</td>\n",
       "      <td>Arena Corinthians</td>\n",
       "    </tr>\n",
       "    <tr>\n",
       "      <th>1</th>\n",
       "      <td>Palmeiras</td>\n",
       "      <td>7º</td>\n",
       "      <td>Vitória</td>\n",
       "      <td>18º</td>\n",
       "      <td>DOM 16/07/2017</td>\n",
       "      <td>11:00</td>\n",
       "      <td>Arena Palmeiras</td>\n",
       "    </tr>\n",
       "    <tr>\n",
       "      <th>2</th>\n",
       "      <td>Vasco</td>\n",
       "      <td>8º</td>\n",
       "      <td>Santos</td>\n",
       "      <td>3º</td>\n",
       "      <td>DOM 16/07/2017</td>\n",
       "      <td>16:00</td>\n",
       "      <td>Engenhão</td>\n",
       "    </tr>\n",
       "    <tr>\n",
       "      <th>3</th>\n",
       "      <td>Cruzeiro</td>\n",
       "      <td>6º</td>\n",
       "      <td>Flamengo</td>\n",
       "      <td>4º</td>\n",
       "      <td>DOM 16/07/2017</td>\n",
       "      <td>16:00</td>\n",
       "      <td>Mineirão</td>\n",
       "    </tr>\n",
       "    <tr>\n",
       "      <th>4</th>\n",
       "      <td>Grêmio</td>\n",
       "      <td>2º</td>\n",
       "      <td>Ponte Preta</td>\n",
       "      <td>15º</td>\n",
       "      <td>DOM 16/07/2017</td>\n",
       "      <td>16:00</td>\n",
       "      <td>Arena do Grêmio</td>\n",
       "    </tr>\n",
       "  </tbody>\n",
       "</table>\n",
       "</div>"
      ],
      "text/plain": [
       "      Mandante Mandante_posicao    Visitante Visitante_posicao  \\\n",
       "0  Corinthians               1º  Atlético-PR               14º   \n",
       "1    Palmeiras               7º      Vitória               18º   \n",
       "2        Vasco               8º       Santos                3º   \n",
       "3     Cruzeiro               6º     Flamengo                4º   \n",
       "4       Grêmio               2º  Ponte Preta               15º   \n",
       "\n",
       "             data   hora              local  \n",
       "0  SAB 15/07/2017  19:00  Arena Corinthians  \n",
       "1  DOM 16/07/2017  11:00    Arena Palmeiras  \n",
       "2  DOM 16/07/2017  16:00           Engenhão  \n",
       "3  DOM 16/07/2017  16:00           Mineirão  \n",
       "4  DOM 16/07/2017  16:00    Arena do Grêmio  "
      ]
     },
     "execution_count": 31,
     "metadata": {},
     "output_type": "execute_result"
    }
   ],
   "source": [
    "pj.head()"
   ]
  },
  {
   "cell_type": "code",
   "execution_count": 32,
   "metadata": {
    "collapsed": false
   },
   "outputs": [],
   "source": [
    "adversario = pj\n",
    "resultado = []\n",
    "for i in range(len(adversario)):\n",
    "    adv = {}    \n",
    "    adv['Time'] = adversario.iloc[i]['Mandante']\n",
    "    adv['Data'] = adversario.iloc[i]['data']\n",
    "    adv['hora'] = adversario.iloc[i]['hora']\n",
    "    adv['local'] = adversario.iloc[i]['local']\n",
    "    adv['adversario'] = adversario.iloc[i]['Visitante']\n",
    "    adv['Ranking'] = adversario.iloc[i]['Mandante_posicao']\n",
    "    adv['Ranking_Visitante'] = adversario.iloc[i]['Visitante_posicao']\n",
    "    adv['local2'] = 'Casa'\n",
    "    resultado.append(adv)\n",
    "    adv = {}    \n",
    "    adv['Time'] = adversario.iloc[i]['Visitante']\n",
    "    adv['Data'] = adversario.iloc[i]['data']\n",
    "    adv['hora'] = adversario.iloc[i]['hora']\n",
    "    adv['local'] = adversario.iloc[i]['local']\n",
    "    adv['adversario'] = adversario.iloc[i]['Mandante']\n",
    "    adv['Ranking'] = adversario.iloc[i]['Visitante_posicao']\n",
    "    adv['Ranking_Visitante'] = adversario.iloc[i]['Mandante_posicao']\n",
    "    adv['local2'] = 'Fora'\n",
    "    resultado.append(adv)\n",
    "    "
   ]
  },
  {
   "cell_type": "code",
   "execution_count": 33,
   "metadata": {
    "collapsed": false
   },
   "outputs": [],
   "source": [
    "df2 = pd.DataFrame(resultado)"
   ]
  },
  {
   "cell_type": "code",
   "execution_count": 34,
   "metadata": {
    "collapsed": false
   },
   "outputs": [],
   "source": [
    "df = pd.merge(df,df2, how='left', on='Time')"
   ]
  },
  {
   "cell_type": "code",
   "execution_count": 35,
   "metadata": {
    "collapsed": false,
    "scrolled": true
   },
   "outputs": [],
   "source": [
    "df.to_excel(r'.\\Excel\\{}rodada.xlsx'.format(str(nrodada)))"
   ]
  },
  {
   "cell_type": "code",
   "execution_count": 36,
   "metadata": {
    "collapsed": false
   },
   "outputs": [
    {
     "data": {
      "text/plain": [
       "Index(['Time', 'Abreviacao', 'Nome', 'Apelido', 'Posicao', 'Número_Jogos',\n",
       "       'seletor', 'preco_cartoleta', 'preco_variacao', 'Atleta_pontos',\n",
       "       'Atleta_média', 'Gol', 'Assistência', 'Finalização_na_trave',\n",
       "       'Finalização_pra_fora', 'Roubada_de_bola', 'Passe_errado',\n",
       "       'Falta_cometida', 'Pênalti_perdido', 'Gol_contra', 'Falta_sofrida',\n",
       "       'Impedimento', 'Cartão_amarelo', 'Cartão_vermelho', 'Defesa_de_pênalti',\n",
       "       'Jogos_sem_sofrer_gols', 'Finalização_defendida', 'Defesa_difícil',\n",
       "       'Gol_sofrido', 'Data', 'Ranking', 'Ranking_Visitante', 'adversario',\n",
       "       'hora', 'local', 'local2'],\n",
       "      dtype='object')"
      ]
     },
     "execution_count": 36,
     "metadata": {},
     "output_type": "execute_result"
    }
   ],
   "source": [
    "df.columns"
   ]
  },
  {
   "cell_type": "code",
   "execution_count": null,
   "metadata": {
    "collapsed": true
   },
   "outputs": [],
   "source": []
  }
 ],
 "metadata": {
  "anaconda-cloud": {},
  "kernelspec": {
   "display_name": "Python [Root]",
   "language": "python",
   "name": "Python [Root]"
  },
  "language_info": {
   "codemirror_mode": {
    "name": "ipython",
    "version": 3
   },
   "file_extension": ".py",
   "mimetype": "text/x-python",
   "name": "python",
   "nbconvert_exporter": "python",
   "pygments_lexer": "ipython3",
   "version": "3.5.2"
  }
 },
 "nbformat": 4,
 "nbformat_minor": 0
}
