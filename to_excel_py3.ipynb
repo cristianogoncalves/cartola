{
 "cells": [
  {
   "cell_type": "code",
   "execution_count": 1,
   "metadata": {
    "collapsed": true
   },
   "outputs": [],
   "source": [
    "# python 3\n",
    "import pandas as pd"
   ]
  },
  {
   "cell_type": "code",
   "execution_count": 2,
   "metadata": {
    "collapsed": true
   },
   "outputs": [],
   "source": [
    "nrodada = 22"
   ]
  },
  {
   "cell_type": "code",
   "execution_count": 3,
   "metadata": {
    "collapsed": true
   },
   "outputs": [],
   "source": [
    "df = pd.read_pickle('{}rodada.pkl'.format(str(nrodada)))"
   ]
  },
  {
   "cell_type": "code",
   "execution_count": 4,
   "metadata": {
    "collapsed": true
   },
   "outputs": [],
   "source": [
    "df[u'Atleta_média'] = df[u'Atleta_média'].astype(float)\n",
    "df[u'Cartão_amarelo'] = df[u'Cartão_amarelo'].astype(int)\n",
    "df[u'Cartão_vermelho'] = df[u'Cartão_vermelho'].astype(int)\n",
    "df[u'Falta_sofrida'] = df[u'Falta_sofrida'].astype(int)\n",
    "df[u'Finalização_na_trave'] = df[u'Finalização_na_trave'].astype(int)\n",
    "df[u'Finalização_pra_fora'] = df[u'Finalização_pra_fora'].astype(int)\n",
    "df[u'Gol'] = df[u'Gol'].astype(int)\n",
    "\n",
    "df[u'Número_Jogos'] = df[u'Número_Jogos'].apply(lambda x: 0 if x == '-' else x)\n",
    "df[u'Número_Jogos'] = df[u'Número_Jogos'].astype(int)\n",
    "\n",
    "df[u'Roubada_de_bola'] = df[u'Roubada_de_bola'].astype(int)\n",
    "df[u'preco_cartoleta'] = df[u'preco_cartoleta'].astype(float)\n",
    "\n",
    "df[u'Atleta_pontos'] = df[u'Atleta_pontos'].astype(float)\n",
    "\n",
    "df[u'Assistência'] = df[u'AssistÃªncia'].astype(float)\n",
    "df.drop([u'AssistÃªncia'],axis=1,inplace=True)\n",
    "\n",
    "df[u'Finalização_defendida'] = df[u'Finalização_defendida'].astype(int)\n",
    "\n",
    "df[u'Jogos_sem_sofrer_gols'] = df[u'Jogos_sem_sofrer_gols'].astype(int)\n",
    "\n",
    "df[u'Defesa_difícil'] = df[u'Defesa_difícil'].astype(int)\n",
    "df[u'Falta_cometida'] = df[u'Falta_cometida'].astype(int)\n",
    "df[u'Pênalti_perdido'] = df[u'Pênalti_perdido'].astype(int)\n",
    "df[u'Defesa_de_pênalti'] = df[u'Defesa_de_pênalti'].astype(int)\n",
    "df[u'Gol_contra'] = df[u'Gol_contra'].astype(int)\n",
    "df[u'Passe_errado'] = df[u'Passe_errado'].astype(int)\n",
    "df[u'Gol_sofrido'] = df[u'Gol_sofrido'].astype(int)\n",
    "df[u'Impedimento'] = df[u'Impedimento'].astype(int)\n",
    "\n",
    "df[u'preco_variacao_negativa'].fillna(0,inplace=True)\n",
    "df[u'preco_variacao_negativa'] = df[u'preco_variacao_negativa'].astype(float)\n",
    "df[u'preco_variacao_positiva'].fillna(0,inplace=True)\n",
    "df[u'preco_variacao_positiva'] = df[u'preco_variacao_positiva'].astype(float)\n",
    "\n",
    "df['preco_variacao'] = df[u'preco_variacao_negativa'] + df[u'preco_variacao_positiva']\n",
    "\n",
    "df.drop([u'preco_variacao_positiva',u'preco_variacao_negativa'],axis=1,inplace=True)\n",
    "\n",
    "dict_seletor = {'status-atleta--contundido' : u'contundido', 'Nulo':'Nulo', 'status-atleta--provavel': u'provável',\n",
    "               'status-atleta--duvida': u'dúvida', 'status-atleta--suspenso': 'suspenso'}\n",
    "\n",
    "df['seletor'] = df['seletor'].apply(lambda x: dict_seletor[x])\n"
   ]
  },
  {
   "cell_type": "code",
   "execution_count": 5,
   "metadata": {},
   "outputs": [
    {
     "data": {
      "text/plain": [
       "29"
      ]
     },
     "execution_count": 5,
     "metadata": {},
     "output_type": "execute_result"
    }
   ],
   "source": [
    "len(df.columns)"
   ]
  },
  {
   "cell_type": "code",
   "execution_count": 6,
   "metadata": {
    "collapsed": true
   },
   "outputs": [],
   "source": [
    "ordem = ['Time', 'Abreviacao','Nome','Apelido','Posicao','Número_Jogos','seletor','preco_cartoleta','preco_variacao',\n",
    "'Atleta_pontos', 'Atleta_média','Gol','Assistência','Finalização_na_trave','Finalização_pra_fora','Roubada_de_bola',\n",
    "'Passe_errado', 'Falta_cometida', 'Pênalti_perdido', 'Gol_contra','Falta_sofrida', 'Impedimento','Cartão_amarelo', 'Cartão_vermelho',\n",
    "'Defesa_de_pênalti', 'Jogos_sem_sofrer_gols', 'Finalização_defendida','Defesa_difícil','Gol_sofrido']\n"
   ]
  },
  {
   "cell_type": "code",
   "execution_count": 7,
   "metadata": {
    "collapsed": true
   },
   "outputs": [],
   "source": [
    "df = df[ordem]\n",
    "df = df.sort_values('preco_cartoleta',ascending=0)\n",
    "df.reset_index(inplace=True)\n",
    "df.drop('index',axis=1,inplace=True)"
   ]
  },
  {
   "cell_type": "code",
   "execution_count": 8,
   "metadata": {
    "collapsed": true
   },
   "outputs": [],
   "source": [
    "pj = pd.read_pickle('{}rodada_jogos.pkl'.format(str(nrodada+1)))"
   ]
  },
  {
   "cell_type": "code",
   "execution_count": 9,
   "metadata": {},
   "outputs": [
    {
     "data": {
      "text/html": [
       "<div>\n",
       "<style>\n",
       "    .dataframe thead tr:only-child th {\n",
       "        text-align: right;\n",
       "    }\n",
       "\n",
       "    .dataframe thead th {\n",
       "        text-align: left;\n",
       "    }\n",
       "\n",
       "    .dataframe tbody tr th {\n",
       "        vertical-align: top;\n",
       "    }\n",
       "</style>\n",
       "<table border=\"1\" class=\"dataframe\">\n",
       "  <thead>\n",
       "    <tr style=\"text-align: right;\">\n",
       "      <th></th>\n",
       "      <th>Mandante</th>\n",
       "      <th>Mandante_posicao</th>\n",
       "      <th>Visitante</th>\n",
       "      <th>Visitante_posicao</th>\n",
       "      <th>data</th>\n",
       "      <th>hora</th>\n",
       "      <th>local</th>\n",
       "    </tr>\n",
       "  </thead>\n",
       "  <tbody>\n",
       "    <tr>\n",
       "      <th>0</th>\n",
       "      <td>Atlético-MG</td>\n",
       "      <td>11º</td>\n",
       "      <td>Palmeiras</td>\n",
       "      <td>4º</td>\n",
       "      <td>SAB 09/09/2017</td>\n",
       "      <td>16:00</td>\n",
       "      <td>Independência</td>\n",
       "    </tr>\n",
       "    <tr>\n",
       "      <th>1</th>\n",
       "      <td>São Paulo</td>\n",
       "      <td>19º</td>\n",
       "      <td>Ponte Preta</td>\n",
       "      <td>13º</td>\n",
       "      <td>SAB 09/09/2017</td>\n",
       "      <td>19:00</td>\n",
       "      <td>Morumbi</td>\n",
       "    </tr>\n",
       "    <tr>\n",
       "      <th>2</th>\n",
       "      <td>Vasco</td>\n",
       "      <td>12º</td>\n",
       "      <td>Grêmio</td>\n",
       "      <td>2º</td>\n",
       "      <td>DOM 10/09/2017</td>\n",
       "      <td>00:00</td>\n",
       "      <td>São Januário</td>\n",
       "    </tr>\n",
       "    <tr>\n",
       "      <th>3</th>\n",
       "      <td>Atlético-PR</td>\n",
       "      <td>8º</td>\n",
       "      <td>Coritiba</td>\n",
       "      <td>15º</td>\n",
       "      <td>DOM 10/09/2017</td>\n",
       "      <td>11:00</td>\n",
       "      <td>Arena da Baixada</td>\n",
       "    </tr>\n",
       "    <tr>\n",
       "      <th>4</th>\n",
       "      <td>Santos</td>\n",
       "      <td>3º</td>\n",
       "      <td>Corinthians</td>\n",
       "      <td>1º</td>\n",
       "      <td>DOM 10/09/2017</td>\n",
       "      <td>16:00</td>\n",
       "      <td>Vila Belmiro</td>\n",
       "    </tr>\n",
       "  </tbody>\n",
       "</table>\n",
       "</div>"
      ],
      "text/plain": [
       "      Mandante Mandante_posicao    Visitante Visitante_posicao  \\\n",
       "0  Atlético-MG              11º    Palmeiras                4º   \n",
       "1    São Paulo              19º  Ponte Preta               13º   \n",
       "2        Vasco              12º       Grêmio                2º   \n",
       "3  Atlético-PR               8º     Coritiba               15º   \n",
       "4       Santos               3º  Corinthians                1º   \n",
       "\n",
       "             data   hora             local  \n",
       "0  SAB 09/09/2017  16:00     Independência  \n",
       "1  SAB 09/09/2017  19:00           Morumbi  \n",
       "2  DOM 10/09/2017  00:00      São Januário  \n",
       "3  DOM 10/09/2017  11:00  Arena da Baixada  \n",
       "4  DOM 10/09/2017  16:00      Vila Belmiro  "
      ]
     },
     "execution_count": 9,
     "metadata": {},
     "output_type": "execute_result"
    }
   ],
   "source": [
    "pj.head()"
   ]
  },
  {
   "cell_type": "code",
   "execution_count": 10,
   "metadata": {
    "collapsed": true
   },
   "outputs": [],
   "source": [
    "adversario = pj\n",
    "resultado = []\n",
    "for i in range(len(adversario)):\n",
    "    adv = {}    \n",
    "    adv['Time'] = adversario.iloc[i]['Mandante']\n",
    "    adv['Data'] = adversario.iloc[i]['data']\n",
    "    adv['hora'] = adversario.iloc[i]['hora']\n",
    "    adv['local'] = adversario.iloc[i]['local']\n",
    "    adv['adversario'] = adversario.iloc[i]['Visitante']\n",
    "    adv['Ranking'] = adversario.iloc[i]['Mandante_posicao']\n",
    "    adv['Ranking_Visitante'] = adversario.iloc[i]['Visitante_posicao']\n",
    "    adv['local2'] = 'Casa'\n",
    "    resultado.append(adv)\n",
    "    adv = {}    \n",
    "    adv['Time'] = adversario.iloc[i]['Visitante']\n",
    "    adv['Data'] = adversario.iloc[i]['data']\n",
    "    adv['hora'] = adversario.iloc[i]['hora']\n",
    "    adv['local'] = adversario.iloc[i]['local']\n",
    "    adv['adversario'] = adversario.iloc[i]['Mandante']\n",
    "    adv['Ranking'] = adversario.iloc[i]['Visitante_posicao']\n",
    "    adv['Ranking_Visitante'] = adversario.iloc[i]['Mandante_posicao']\n",
    "    adv['local2'] = 'Fora'\n",
    "    resultado.append(adv)\n",
    "    "
   ]
  },
  {
   "cell_type": "code",
   "execution_count": 11,
   "metadata": {
    "collapsed": true
   },
   "outputs": [],
   "source": [
    "df2 = pd.DataFrame(resultado)"
   ]
  },
  {
   "cell_type": "code",
   "execution_count": 12,
   "metadata": {
    "collapsed": true
   },
   "outputs": [],
   "source": [
    "df = pd.merge(df,df2, how='left', on='Time')"
   ]
  },
  {
   "cell_type": "code",
   "execution_count": 13,
   "metadata": {
    "collapsed": true,
    "scrolled": true
   },
   "outputs": [],
   "source": [
    "df.to_excel(r'.\\Excel\\{}rodada.xlsx'.format(str(nrodada)))"
   ]
  },
  {
   "cell_type": "code",
   "execution_count": 14,
   "metadata": {},
   "outputs": [
    {
     "data": {
      "text/plain": [
       "Index(['Time', 'Abreviacao', 'Nome', 'Apelido', 'Posicao', 'Número_Jogos',\n",
       "       'seletor', 'preco_cartoleta', 'preco_variacao', 'Atleta_pontos',\n",
       "       'Atleta_média', 'Gol', 'Assistência', 'Finalização_na_trave',\n",
       "       'Finalização_pra_fora', 'Roubada_de_bola', 'Passe_errado',\n",
       "       'Falta_cometida', 'Pênalti_perdido', 'Gol_contra', 'Falta_sofrida',\n",
       "       'Impedimento', 'Cartão_amarelo', 'Cartão_vermelho', 'Defesa_de_pênalti',\n",
       "       'Jogos_sem_sofrer_gols', 'Finalização_defendida', 'Defesa_difícil',\n",
       "       'Gol_sofrido', 'Data', 'Ranking', 'Ranking_Visitante', 'adversario',\n",
       "       'hora', 'local', 'local2'],\n",
       "      dtype='object')"
      ]
     },
     "execution_count": 14,
     "metadata": {},
     "output_type": "execute_result"
    }
   ],
   "source": [
    "df.columns"
   ]
  },
  {
   "cell_type": "code",
   "execution_count": null,
   "metadata": {
    "collapsed": true
   },
   "outputs": [],
   "source": []
  }
 ],
 "metadata": {
  "anaconda-cloud": {},
  "kernelspec": {
   "display_name": "Python 3",
   "language": "python",
   "name": "python3"
  },
  "language_info": {
   "codemirror_mode": {
    "name": "ipython",
    "version": 3
   },
   "file_extension": ".py",
   "mimetype": "text/x-python",
   "name": "python",
   "nbconvert_exporter": "python",
   "pygments_lexer": "ipython3",
   "version": "3.6.1"
  }
 },
 "nbformat": 4,
 "nbformat_minor": 1
}
